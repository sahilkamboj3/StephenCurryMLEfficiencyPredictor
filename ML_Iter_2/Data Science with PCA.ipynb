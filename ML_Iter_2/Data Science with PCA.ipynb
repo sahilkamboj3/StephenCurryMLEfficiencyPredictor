{
 "cells": [
  {
   "cell_type": "code",
   "execution_count": 1,
   "metadata": {},
   "outputs": [],
   "source": [
    "import pandas as pd\n",
    "from scipy import stats\n",
    "import math\n",
    "import numpy as np\n",
    "import warnings\n",
    "import pickle\n",
    "\n",
    "from sklearn.impute import SimpleImputer\n",
    "from sklearn.svm import SVR\n",
    "from sklearn.ensemble import RandomForestRegressor\n",
    "from sklearn.preprocessing import StandardScaler, LabelBinarizer\n",
    "from sklearn.model_selection import GridSearchCV, cross_val_score, train_test_split, cross_val_predict, train_test_split\n",
    "from sklearn.linear_model import LinearRegression, SGDRegressor, LogisticRegression, Lasso, Ridge, ElasticNet\n",
    "from sklearn.svm import SVR\n",
    "from sklearn.metrics import mean_squared_error\n",
    "from sklearn.decomposition import PCA\n",
    "\n",
    "warnings.filterwarnings('ignore')"
   ]
  },
  {
   "cell_type": "code",
   "execution_count": 2,
   "metadata": {
    "scrolled": true
   },
   "outputs": [
    {
     "data": {
      "text/html": [
       "<div>\n",
       "<style scoped>\n",
       "    .dataframe tbody tr th:only-of-type {\n",
       "        vertical-align: middle;\n",
       "    }\n",
       "\n",
       "    .dataframe tbody tr th {\n",
       "        vertical-align: top;\n",
       "    }\n",
       "\n",
       "    .dataframe thead th {\n",
       "        text-align: right;\n",
       "    }\n",
       "</style>\n",
       "<table border=\"1\" class=\"dataframe\">\n",
       "  <thead>\n",
       "    <tr style=\"text-align: right;\">\n",
       "      <th></th>\n",
       "      <th>game_season</th>\n",
       "      <th>game_result</th>\n",
       "      <th>game_location</th>\n",
       "      <th>mp</th>\n",
       "      <th>fg</th>\n",
       "      <th>fga</th>\n",
       "      <th>fg_pct</th>\n",
       "      <th>fg3</th>\n",
       "      <th>fg3a</th>\n",
       "      <th>fg3_pct</th>\n",
       "      <th>...</th>\n",
       "      <th>orb</th>\n",
       "      <th>drb</th>\n",
       "      <th>trb</th>\n",
       "      <th>ast</th>\n",
       "      <th>stl</th>\n",
       "      <th>blk</th>\n",
       "      <th>pf</th>\n",
       "      <th>tov</th>\n",
       "      <th>pts</th>\n",
       "      <th>plus_minus</th>\n",
       "    </tr>\n",
       "  </thead>\n",
       "  <tbody>\n",
       "    <tr>\n",
       "      <th>0</th>\n",
       "      <td>1</td>\n",
       "      <td>L (-1)</td>\n",
       "      <td>home</td>\n",
       "      <td>35:39</td>\n",
       "      <td>7</td>\n",
       "      <td>12</td>\n",
       "      <td>0.583</td>\n",
       "      <td>0</td>\n",
       "      <td>1</td>\n",
       "      <td>0.000</td>\n",
       "      <td>...</td>\n",
       "      <td>1</td>\n",
       "      <td>1</td>\n",
       "      <td>2</td>\n",
       "      <td>7</td>\n",
       "      <td>4</td>\n",
       "      <td>0</td>\n",
       "      <td>2</td>\n",
       "      <td>2</td>\n",
       "      <td>14</td>\n",
       "      <td>7</td>\n",
       "    </tr>\n",
       "    <tr>\n",
       "      <th>1</th>\n",
       "      <td>2</td>\n",
       "      <td>L (-22)</td>\n",
       "      <td>away</td>\n",
       "      <td>39:05</td>\n",
       "      <td>5</td>\n",
       "      <td>9</td>\n",
       "      <td>0.556</td>\n",
       "      <td>2</td>\n",
       "      <td>3</td>\n",
       "      <td>0.667</td>\n",
       "      <td>...</td>\n",
       "      <td>0</td>\n",
       "      <td>2</td>\n",
       "      <td>2</td>\n",
       "      <td>4</td>\n",
       "      <td>1</td>\n",
       "      <td>0</td>\n",
       "      <td>5</td>\n",
       "      <td>3</td>\n",
       "      <td>12</td>\n",
       "      <td>-19</td>\n",
       "    </tr>\n",
       "    <tr>\n",
       "      <th>2</th>\n",
       "      <td>3</td>\n",
       "      <td>W (+8)</td>\n",
       "      <td>home</td>\n",
       "      <td>28:27</td>\n",
       "      <td>3</td>\n",
       "      <td>6</td>\n",
       "      <td>0.500</td>\n",
       "      <td>1</td>\n",
       "      <td>2</td>\n",
       "      <td>0.500</td>\n",
       "      <td>...</td>\n",
       "      <td>0</td>\n",
       "      <td>5</td>\n",
       "      <td>5</td>\n",
       "      <td>9</td>\n",
       "      <td>2</td>\n",
       "      <td>0</td>\n",
       "      <td>4</td>\n",
       "      <td>1</td>\n",
       "      <td>7</td>\n",
       "      <td>-4</td>\n",
       "    </tr>\n",
       "    <tr>\n",
       "      <th>3</th>\n",
       "      <td>4</td>\n",
       "      <td>L (-28)</td>\n",
       "      <td>home</td>\n",
       "      <td>21:32</td>\n",
       "      <td>1</td>\n",
       "      <td>5</td>\n",
       "      <td>0.200</td>\n",
       "      <td>0</td>\n",
       "      <td>1</td>\n",
       "      <td>0.000</td>\n",
       "      <td>...</td>\n",
       "      <td>0</td>\n",
       "      <td>1</td>\n",
       "      <td>1</td>\n",
       "      <td>3</td>\n",
       "      <td>0</td>\n",
       "      <td>0</td>\n",
       "      <td>6</td>\n",
       "      <td>0</td>\n",
       "      <td>5</td>\n",
       "      <td>-13</td>\n",
       "    </tr>\n",
       "    <tr>\n",
       "      <th>4</th>\n",
       "      <td>5</td>\n",
       "      <td>L (-13)</td>\n",
       "      <td>away</td>\n",
       "      <td>31:15</td>\n",
       "      <td>4</td>\n",
       "      <td>8</td>\n",
       "      <td>0.500</td>\n",
       "      <td>1</td>\n",
       "      <td>2</td>\n",
       "      <td>0.500</td>\n",
       "      <td>...</td>\n",
       "      <td>1</td>\n",
       "      <td>3</td>\n",
       "      <td>4</td>\n",
       "      <td>6</td>\n",
       "      <td>0</td>\n",
       "      <td>0</td>\n",
       "      <td>4</td>\n",
       "      <td>5</td>\n",
       "      <td>9</td>\n",
       "      <td>-5</td>\n",
       "    </tr>\n",
       "  </tbody>\n",
       "</table>\n",
       "<p>5 rows × 23 columns</p>\n",
       "</div>"
      ],
      "text/plain": [
       "   game_season game_result game_location     mp  fg  fga  fg_pct  fg3  fg3a  \\\n",
       "0            1      L (-1)          home  35:39   7   12   0.583    0     1   \n",
       "1            2     L (-22)          away  39:05   5    9   0.556    2     3   \n",
       "2            3      W (+8)          home  28:27   3    6   0.500    1     2   \n",
       "3            4     L (-28)          home  21:32   1    5   0.200    0     1   \n",
       "4            5     L (-13)          away  31:15   4    8   0.500    1     2   \n",
       "\n",
       "   fg3_pct  ...  orb  drb  trb  ast  stl  blk  pf  tov  pts  plus_minus  \n",
       "0    0.000  ...    1    1    2    7    4    0   2    2   14           7  \n",
       "1    0.667  ...    0    2    2    4    1    0   5    3   12         -19  \n",
       "2    0.500  ...    0    5    5    9    2    0   4    1    7          -4  \n",
       "3    0.000  ...    0    1    1    3    0    0   6    0    5         -13  \n",
       "4    0.500  ...    1    3    4    6    0    0   4    5    9          -5  \n",
       "\n",
       "[5 rows x 23 columns]"
      ]
     },
     "execution_count": 2,
     "metadata": {},
     "output_type": "execute_result"
    }
   ],
   "source": [
    "df = pd.read_csv('../sc_stats.csv')\n",
    "df.head()"
   ]
  },
  {
   "cell_type": "code",
   "execution_count": 3,
   "metadata": {},
   "outputs": [],
   "source": [
    "def convert_game_result_to_int(result):\n",
    "    first_paran_idx = result.index('(')\n",
    "    second_paran_idx = result.index(')')\n",
    "    return int(result[first_paran_idx + 1: second_paran_idx])"
   ]
  },
  {
   "cell_type": "code",
   "execution_count": 4,
   "metadata": {},
   "outputs": [],
   "source": [
    "def convert_game_result_to_wl(result):\n",
    "    return result[0]"
   ]
  },
  {
   "cell_type": "code",
   "execution_count": 5,
   "metadata": {},
   "outputs": [],
   "source": [
    "df['game_res_int'] = df['game_result'].apply(lambda row: convert_game_result_to_int(row))\n",
    "df['game_res_wl'] = df['game_result'].apply(lambda row: convert_game_result_to_wl(row))"
   ]
  },
  {
   "cell_type": "code",
   "execution_count": 6,
   "metadata": {},
   "outputs": [],
   "source": [
    "def convert_mp(mp):\n",
    "    minutes, sec = mp.split(':')\n",
    "    return int(minutes) + (int(sec) / 60)"
   ]
  },
  {
   "cell_type": "code",
   "execution_count": 7,
   "metadata": {},
   "outputs": [],
   "source": [
    "df['tot_time'] = df['mp'].apply(lambda row: convert_mp(row))"
   ]
  },
  {
   "cell_type": "code",
   "execution_count": 8,
   "metadata": {},
   "outputs": [
    {
     "data": {
      "text/html": [
       "<div>\n",
       "<style scoped>\n",
       "    .dataframe tbody tr th:only-of-type {\n",
       "        vertical-align: middle;\n",
       "    }\n",
       "\n",
       "    .dataframe tbody tr th {\n",
       "        vertical-align: top;\n",
       "    }\n",
       "\n",
       "    .dataframe thead th {\n",
       "        text-align: right;\n",
       "    }\n",
       "</style>\n",
       "<table border=\"1\" class=\"dataframe\">\n",
       "  <thead>\n",
       "    <tr style=\"text-align: right;\">\n",
       "      <th></th>\n",
       "      <th>game_season</th>\n",
       "      <th>game_result</th>\n",
       "      <th>game_location</th>\n",
       "      <th>mp</th>\n",
       "      <th>fg</th>\n",
       "      <th>fga</th>\n",
       "      <th>fg_pct</th>\n",
       "      <th>fg3</th>\n",
       "      <th>fg3a</th>\n",
       "      <th>fg3_pct</th>\n",
       "      <th>...</th>\n",
       "      <th>ast</th>\n",
       "      <th>stl</th>\n",
       "      <th>blk</th>\n",
       "      <th>pf</th>\n",
       "      <th>tov</th>\n",
       "      <th>pts</th>\n",
       "      <th>plus_minus</th>\n",
       "      <th>game_res_int</th>\n",
       "      <th>game_res_wl</th>\n",
       "      <th>tot_time</th>\n",
       "    </tr>\n",
       "  </thead>\n",
       "  <tbody>\n",
       "    <tr>\n",
       "      <th>0</th>\n",
       "      <td>1</td>\n",
       "      <td>L (-1)</td>\n",
       "      <td>home</td>\n",
       "      <td>35:39</td>\n",
       "      <td>7</td>\n",
       "      <td>12</td>\n",
       "      <td>0.583</td>\n",
       "      <td>0</td>\n",
       "      <td>1</td>\n",
       "      <td>0.000</td>\n",
       "      <td>...</td>\n",
       "      <td>7</td>\n",
       "      <td>4</td>\n",
       "      <td>0</td>\n",
       "      <td>2</td>\n",
       "      <td>2</td>\n",
       "      <td>14</td>\n",
       "      <td>7</td>\n",
       "      <td>-1</td>\n",
       "      <td>L</td>\n",
       "      <td>35.650000</td>\n",
       "    </tr>\n",
       "    <tr>\n",
       "      <th>1</th>\n",
       "      <td>2</td>\n",
       "      <td>L (-22)</td>\n",
       "      <td>away</td>\n",
       "      <td>39:05</td>\n",
       "      <td>5</td>\n",
       "      <td>9</td>\n",
       "      <td>0.556</td>\n",
       "      <td>2</td>\n",
       "      <td>3</td>\n",
       "      <td>0.667</td>\n",
       "      <td>...</td>\n",
       "      <td>4</td>\n",
       "      <td>1</td>\n",
       "      <td>0</td>\n",
       "      <td>5</td>\n",
       "      <td>3</td>\n",
       "      <td>12</td>\n",
       "      <td>-19</td>\n",
       "      <td>-22</td>\n",
       "      <td>L</td>\n",
       "      <td>39.083333</td>\n",
       "    </tr>\n",
       "    <tr>\n",
       "      <th>2</th>\n",
       "      <td>3</td>\n",
       "      <td>W (+8)</td>\n",
       "      <td>home</td>\n",
       "      <td>28:27</td>\n",
       "      <td>3</td>\n",
       "      <td>6</td>\n",
       "      <td>0.500</td>\n",
       "      <td>1</td>\n",
       "      <td>2</td>\n",
       "      <td>0.500</td>\n",
       "      <td>...</td>\n",
       "      <td>9</td>\n",
       "      <td>2</td>\n",
       "      <td>0</td>\n",
       "      <td>4</td>\n",
       "      <td>1</td>\n",
       "      <td>7</td>\n",
       "      <td>-4</td>\n",
       "      <td>8</td>\n",
       "      <td>W</td>\n",
       "      <td>28.450000</td>\n",
       "    </tr>\n",
       "    <tr>\n",
       "      <th>3</th>\n",
       "      <td>4</td>\n",
       "      <td>L (-28)</td>\n",
       "      <td>home</td>\n",
       "      <td>21:32</td>\n",
       "      <td>1</td>\n",
       "      <td>5</td>\n",
       "      <td>0.200</td>\n",
       "      <td>0</td>\n",
       "      <td>1</td>\n",
       "      <td>0.000</td>\n",
       "      <td>...</td>\n",
       "      <td>3</td>\n",
       "      <td>0</td>\n",
       "      <td>0</td>\n",
       "      <td>6</td>\n",
       "      <td>0</td>\n",
       "      <td>5</td>\n",
       "      <td>-13</td>\n",
       "      <td>-28</td>\n",
       "      <td>L</td>\n",
       "      <td>21.533333</td>\n",
       "    </tr>\n",
       "    <tr>\n",
       "      <th>4</th>\n",
       "      <td>5</td>\n",
       "      <td>L (-13)</td>\n",
       "      <td>away</td>\n",
       "      <td>31:15</td>\n",
       "      <td>4</td>\n",
       "      <td>8</td>\n",
       "      <td>0.500</td>\n",
       "      <td>1</td>\n",
       "      <td>2</td>\n",
       "      <td>0.500</td>\n",
       "      <td>...</td>\n",
       "      <td>6</td>\n",
       "      <td>0</td>\n",
       "      <td>0</td>\n",
       "      <td>4</td>\n",
       "      <td>5</td>\n",
       "      <td>9</td>\n",
       "      <td>-5</td>\n",
       "      <td>-13</td>\n",
       "      <td>L</td>\n",
       "      <td>31.250000</td>\n",
       "    </tr>\n",
       "  </tbody>\n",
       "</table>\n",
       "<p>5 rows × 26 columns</p>\n",
       "</div>"
      ],
      "text/plain": [
       "   game_season game_result game_location     mp  fg  fga  fg_pct  fg3  fg3a  \\\n",
       "0            1      L (-1)          home  35:39   7   12   0.583    0     1   \n",
       "1            2     L (-22)          away  39:05   5    9   0.556    2     3   \n",
       "2            3      W (+8)          home  28:27   3    6   0.500    1     2   \n",
       "3            4     L (-28)          home  21:32   1    5   0.200    0     1   \n",
       "4            5     L (-13)          away  31:15   4    8   0.500    1     2   \n",
       "\n",
       "   fg3_pct  ...  ast  stl  blk  pf  tov  pts  plus_minus  game_res_int  \\\n",
       "0    0.000  ...    7    4    0   2    2   14           7            -1   \n",
       "1    0.667  ...    4    1    0   5    3   12         -19           -22   \n",
       "2    0.500  ...    9    2    0   4    1    7          -4             8   \n",
       "3    0.000  ...    3    0    0   6    0    5         -13           -28   \n",
       "4    0.500  ...    6    0    0   4    5    9          -5           -13   \n",
       "\n",
       "   game_res_wl   tot_time  \n",
       "0            L  35.650000  \n",
       "1            L  39.083333  \n",
       "2            W  28.450000  \n",
       "3            L  21.533333  \n",
       "4            L  31.250000  \n",
       "\n",
       "[5 rows x 26 columns]"
      ]
     },
     "execution_count": 8,
     "metadata": {},
     "output_type": "execute_result"
    }
   ],
   "source": [
    "df.head()"
   ]
  },
  {
   "cell_type": "code",
   "execution_count": 9,
   "metadata": {},
   "outputs": [],
   "source": [
    "df.drop(['mp', 'game_result'], axis=1, inplace=True)"
   ]
  },
  {
   "cell_type": "code",
   "execution_count": 10,
   "metadata": {},
   "outputs": [
    {
     "name": "stdout",
     "output_type": "stream",
     "text": [
      "<class 'pandas.core.frame.DataFrame'>\n",
      "RangeIndex: 699 entries, 0 to 698\n",
      "Data columns (total 24 columns):\n",
      "game_season      699 non-null int64\n",
      "game_location    699 non-null object\n",
      "fg               699 non-null int64\n",
      "fga              699 non-null int64\n",
      "fg_pct           697 non-null float64\n",
      "fg3              699 non-null int64\n",
      "fg3a             699 non-null int64\n",
      "fg3_pct          695 non-null float64\n",
      "ft               699 non-null int64\n",
      "fta              699 non-null int64\n",
      "ft_pct           603 non-null float64\n",
      "orb              699 non-null int64\n",
      "drb              699 non-null int64\n",
      "trb              699 non-null int64\n",
      "ast              699 non-null int64\n",
      "stl              699 non-null int64\n",
      "blk              699 non-null int64\n",
      "pf               699 non-null int64\n",
      "tov              699 non-null int64\n",
      "pts              699 non-null int64\n",
      "plus_minus       699 non-null int64\n",
      "game_res_int     699 non-null int64\n",
      "game_res_wl      699 non-null object\n",
      "tot_time         699 non-null float64\n",
      "dtypes: float64(4), int64(18), object(2)\n",
      "memory usage: 131.1+ KB\n"
     ]
    }
   ],
   "source": [
    "df.info()"
   ]
  },
  {
   "cell_type": "code",
   "execution_count": 11,
   "metadata": {
    "scrolled": false
   },
   "outputs": [
    {
     "data": {
      "text/plain": [
       "game_season       0\n",
       "game_location     0\n",
       "fg                0\n",
       "fga               0\n",
       "fg_pct            2\n",
       "fg3               0\n",
       "fg3a              0\n",
       "fg3_pct           4\n",
       "ft                0\n",
       "fta               0\n",
       "ft_pct           96\n",
       "orb               0\n",
       "drb               0\n",
       "trb               0\n",
       "ast               0\n",
       "stl               0\n",
       "blk               0\n",
       "pf                0\n",
       "tov               0\n",
       "pts               0\n",
       "plus_minus        0\n",
       "game_res_int      0\n",
       "game_res_wl       0\n",
       "tot_time          0\n",
       "dtype: int64"
      ]
     },
     "execution_count": 11,
     "metadata": {},
     "output_type": "execute_result"
    }
   ],
   "source": [
    "df.isna().sum(axis=0)"
   ]
  },
  {
   "cell_type": "code",
   "execution_count": 12,
   "metadata": {},
   "outputs": [],
   "source": [
    "imputer = SimpleImputer(strategy='constant', fill_value=0)"
   ]
  },
  {
   "cell_type": "code",
   "execution_count": 13,
   "metadata": {},
   "outputs": [],
   "source": [
    "df = pd.DataFrame(data=imputer.fit_transform(df), columns=df.columns)"
   ]
  },
  {
   "cell_type": "code",
   "execution_count": 14,
   "metadata": {
    "scrolled": false
   },
   "outputs": [
    {
     "data": {
      "text/plain": [
       "game_season      0\n",
       "game_location    0\n",
       "fg               0\n",
       "fga              0\n",
       "fg_pct           0\n",
       "fg3              0\n",
       "fg3a             0\n",
       "fg3_pct          0\n",
       "ft               0\n",
       "fta              0\n",
       "ft_pct           0\n",
       "orb              0\n",
       "drb              0\n",
       "trb              0\n",
       "ast              0\n",
       "stl              0\n",
       "blk              0\n",
       "pf               0\n",
       "tov              0\n",
       "pts              0\n",
       "plus_minus       0\n",
       "game_res_int     0\n",
       "game_res_wl      0\n",
       "tot_time         0\n",
       "dtype: int64"
      ]
     },
     "execution_count": 14,
     "metadata": {},
     "output_type": "execute_result"
    }
   ],
   "source": [
    "df.isna().sum(axis=0)"
   ]
  },
  {
   "cell_type": "code",
   "execution_count": 15,
   "metadata": {},
   "outputs": [
    {
     "data": {
      "text/html": [
       "<div>\n",
       "<style scoped>\n",
       "    .dataframe tbody tr th:only-of-type {\n",
       "        vertical-align: middle;\n",
       "    }\n",
       "\n",
       "    .dataframe tbody tr th {\n",
       "        vertical-align: top;\n",
       "    }\n",
       "\n",
       "    .dataframe thead th {\n",
       "        text-align: right;\n",
       "    }\n",
       "</style>\n",
       "<table border=\"1\" class=\"dataframe\">\n",
       "  <thead>\n",
       "    <tr style=\"text-align: right;\">\n",
       "      <th></th>\n",
       "      <th>game_season</th>\n",
       "      <th>game_location</th>\n",
       "      <th>fg</th>\n",
       "      <th>fga</th>\n",
       "      <th>fg_pct</th>\n",
       "      <th>fg3</th>\n",
       "      <th>fg3a</th>\n",
       "      <th>fg3_pct</th>\n",
       "      <th>ft</th>\n",
       "      <th>fta</th>\n",
       "      <th>...</th>\n",
       "      <th>ast</th>\n",
       "      <th>stl</th>\n",
       "      <th>blk</th>\n",
       "      <th>pf</th>\n",
       "      <th>tov</th>\n",
       "      <th>pts</th>\n",
       "      <th>plus_minus</th>\n",
       "      <th>game_res_int</th>\n",
       "      <th>game_res_wl</th>\n",
       "      <th>tot_time</th>\n",
       "    </tr>\n",
       "  </thead>\n",
       "  <tbody>\n",
       "    <tr>\n",
       "      <th>0</th>\n",
       "      <td>1</td>\n",
       "      <td>home</td>\n",
       "      <td>7</td>\n",
       "      <td>12</td>\n",
       "      <td>0.583</td>\n",
       "      <td>0</td>\n",
       "      <td>1</td>\n",
       "      <td>0</td>\n",
       "      <td>0</td>\n",
       "      <td>0</td>\n",
       "      <td>...</td>\n",
       "      <td>7</td>\n",
       "      <td>4</td>\n",
       "      <td>0</td>\n",
       "      <td>2</td>\n",
       "      <td>2</td>\n",
       "      <td>14</td>\n",
       "      <td>7</td>\n",
       "      <td>-1</td>\n",
       "      <td>L</td>\n",
       "      <td>35.65</td>\n",
       "    </tr>\n",
       "    <tr>\n",
       "      <th>1</th>\n",
       "      <td>2</td>\n",
       "      <td>away</td>\n",
       "      <td>5</td>\n",
       "      <td>9</td>\n",
       "      <td>0.556</td>\n",
       "      <td>2</td>\n",
       "      <td>3</td>\n",
       "      <td>0.667</td>\n",
       "      <td>0</td>\n",
       "      <td>0</td>\n",
       "      <td>...</td>\n",
       "      <td>4</td>\n",
       "      <td>1</td>\n",
       "      <td>0</td>\n",
       "      <td>5</td>\n",
       "      <td>3</td>\n",
       "      <td>12</td>\n",
       "      <td>-19</td>\n",
       "      <td>-22</td>\n",
       "      <td>L</td>\n",
       "      <td>39.0833</td>\n",
       "    </tr>\n",
       "    <tr>\n",
       "      <th>2</th>\n",
       "      <td>3</td>\n",
       "      <td>home</td>\n",
       "      <td>3</td>\n",
       "      <td>6</td>\n",
       "      <td>0.5</td>\n",
       "      <td>1</td>\n",
       "      <td>2</td>\n",
       "      <td>0.5</td>\n",
       "      <td>0</td>\n",
       "      <td>0</td>\n",
       "      <td>...</td>\n",
       "      <td>9</td>\n",
       "      <td>2</td>\n",
       "      <td>0</td>\n",
       "      <td>4</td>\n",
       "      <td>1</td>\n",
       "      <td>7</td>\n",
       "      <td>-4</td>\n",
       "      <td>8</td>\n",
       "      <td>W</td>\n",
       "      <td>28.45</td>\n",
       "    </tr>\n",
       "    <tr>\n",
       "      <th>3</th>\n",
       "      <td>4</td>\n",
       "      <td>home</td>\n",
       "      <td>1</td>\n",
       "      <td>5</td>\n",
       "      <td>0.2</td>\n",
       "      <td>0</td>\n",
       "      <td>1</td>\n",
       "      <td>0</td>\n",
       "      <td>3</td>\n",
       "      <td>4</td>\n",
       "      <td>...</td>\n",
       "      <td>3</td>\n",
       "      <td>0</td>\n",
       "      <td>0</td>\n",
       "      <td>6</td>\n",
       "      <td>0</td>\n",
       "      <td>5</td>\n",
       "      <td>-13</td>\n",
       "      <td>-28</td>\n",
       "      <td>L</td>\n",
       "      <td>21.5333</td>\n",
       "    </tr>\n",
       "    <tr>\n",
       "      <th>4</th>\n",
       "      <td>5</td>\n",
       "      <td>away</td>\n",
       "      <td>4</td>\n",
       "      <td>8</td>\n",
       "      <td>0.5</td>\n",
       "      <td>1</td>\n",
       "      <td>2</td>\n",
       "      <td>0.5</td>\n",
       "      <td>0</td>\n",
       "      <td>2</td>\n",
       "      <td>...</td>\n",
       "      <td>6</td>\n",
       "      <td>0</td>\n",
       "      <td>0</td>\n",
       "      <td>4</td>\n",
       "      <td>5</td>\n",
       "      <td>9</td>\n",
       "      <td>-5</td>\n",
       "      <td>-13</td>\n",
       "      <td>L</td>\n",
       "      <td>31.25</td>\n",
       "    </tr>\n",
       "  </tbody>\n",
       "</table>\n",
       "<p>5 rows × 24 columns</p>\n",
       "</div>"
      ],
      "text/plain": [
       "  game_season game_location fg fga fg_pct fg3 fg3a fg3_pct ft fta  ... ast  \\\n",
       "0           1          home  7  12  0.583   0    1       0  0   0  ...   7   \n",
       "1           2          away  5   9  0.556   2    3   0.667  0   0  ...   4   \n",
       "2           3          home  3   6    0.5   1    2     0.5  0   0  ...   9   \n",
       "3           4          home  1   5    0.2   0    1       0  3   4  ...   3   \n",
       "4           5          away  4   8    0.5   1    2     0.5  0   2  ...   6   \n",
       "\n",
       "  stl blk pf tov pts plus_minus game_res_int game_res_wl tot_time  \n",
       "0   4   0  2   2  14          7           -1           L    35.65  \n",
       "1   1   0  5   3  12        -19          -22           L  39.0833  \n",
       "2   2   0  4   1   7         -4            8           W    28.45  \n",
       "3   0   0  6   0   5        -13          -28           L  21.5333  \n",
       "4   0   0  4   5   9         -5          -13           L    31.25  \n",
       "\n",
       "[5 rows x 24 columns]"
      ]
     },
     "execution_count": 15,
     "metadata": {},
     "output_type": "execute_result"
    }
   ],
   "source": [
    "df.head()"
   ]
  },
  {
   "cell_type": "code",
   "execution_count": 16,
   "metadata": {},
   "outputs": [],
   "source": [
    "df_X = df.loc[:, 'game_location': 'tot_time']\n",
    "df_X.drop(['plus_minus', 'game_res_wl', 'game_location'], axis=1, inplace=True)\n",
    "\n",
    "df_y = df['plus_minus']"
   ]
  },
  {
   "cell_type": "code",
   "execution_count": 17,
   "metadata": {},
   "outputs": [
    {
     "data": {
      "text/html": [
       "<div>\n",
       "<style scoped>\n",
       "    .dataframe tbody tr th:only-of-type {\n",
       "        vertical-align: middle;\n",
       "    }\n",
       "\n",
       "    .dataframe tbody tr th {\n",
       "        vertical-align: top;\n",
       "    }\n",
       "\n",
       "    .dataframe thead th {\n",
       "        text-align: right;\n",
       "    }\n",
       "</style>\n",
       "<table border=\"1\" class=\"dataframe\">\n",
       "  <thead>\n",
       "    <tr style=\"text-align: right;\">\n",
       "      <th></th>\n",
       "      <th>fg</th>\n",
       "      <th>fga</th>\n",
       "      <th>fg_pct</th>\n",
       "      <th>fg3</th>\n",
       "      <th>fg3a</th>\n",
       "      <th>fg3_pct</th>\n",
       "      <th>ft</th>\n",
       "      <th>fta</th>\n",
       "      <th>ft_pct</th>\n",
       "      <th>orb</th>\n",
       "      <th>drb</th>\n",
       "      <th>trb</th>\n",
       "      <th>ast</th>\n",
       "      <th>stl</th>\n",
       "      <th>blk</th>\n",
       "      <th>pf</th>\n",
       "      <th>tov</th>\n",
       "      <th>pts</th>\n",
       "      <th>game_res_int</th>\n",
       "      <th>tot_time</th>\n",
       "    </tr>\n",
       "  </thead>\n",
       "  <tbody>\n",
       "    <tr>\n",
       "      <th>0</th>\n",
       "      <td>7</td>\n",
       "      <td>12</td>\n",
       "      <td>0.583</td>\n",
       "      <td>0</td>\n",
       "      <td>1</td>\n",
       "      <td>0</td>\n",
       "      <td>0</td>\n",
       "      <td>0</td>\n",
       "      <td>0</td>\n",
       "      <td>1</td>\n",
       "      <td>1</td>\n",
       "      <td>2</td>\n",
       "      <td>7</td>\n",
       "      <td>4</td>\n",
       "      <td>0</td>\n",
       "      <td>2</td>\n",
       "      <td>2</td>\n",
       "      <td>14</td>\n",
       "      <td>-1</td>\n",
       "      <td>35.65</td>\n",
       "    </tr>\n",
       "    <tr>\n",
       "      <th>1</th>\n",
       "      <td>5</td>\n",
       "      <td>9</td>\n",
       "      <td>0.556</td>\n",
       "      <td>2</td>\n",
       "      <td>3</td>\n",
       "      <td>0.667</td>\n",
       "      <td>0</td>\n",
       "      <td>0</td>\n",
       "      <td>0</td>\n",
       "      <td>0</td>\n",
       "      <td>2</td>\n",
       "      <td>2</td>\n",
       "      <td>4</td>\n",
       "      <td>1</td>\n",
       "      <td>0</td>\n",
       "      <td>5</td>\n",
       "      <td>3</td>\n",
       "      <td>12</td>\n",
       "      <td>-22</td>\n",
       "      <td>39.0833</td>\n",
       "    </tr>\n",
       "    <tr>\n",
       "      <th>2</th>\n",
       "      <td>3</td>\n",
       "      <td>6</td>\n",
       "      <td>0.5</td>\n",
       "      <td>1</td>\n",
       "      <td>2</td>\n",
       "      <td>0.5</td>\n",
       "      <td>0</td>\n",
       "      <td>0</td>\n",
       "      <td>0</td>\n",
       "      <td>0</td>\n",
       "      <td>5</td>\n",
       "      <td>5</td>\n",
       "      <td>9</td>\n",
       "      <td>2</td>\n",
       "      <td>0</td>\n",
       "      <td>4</td>\n",
       "      <td>1</td>\n",
       "      <td>7</td>\n",
       "      <td>8</td>\n",
       "      <td>28.45</td>\n",
       "    </tr>\n",
       "    <tr>\n",
       "      <th>3</th>\n",
       "      <td>1</td>\n",
       "      <td>5</td>\n",
       "      <td>0.2</td>\n",
       "      <td>0</td>\n",
       "      <td>1</td>\n",
       "      <td>0</td>\n",
       "      <td>3</td>\n",
       "      <td>4</td>\n",
       "      <td>0.75</td>\n",
       "      <td>0</td>\n",
       "      <td>1</td>\n",
       "      <td>1</td>\n",
       "      <td>3</td>\n",
       "      <td>0</td>\n",
       "      <td>0</td>\n",
       "      <td>6</td>\n",
       "      <td>0</td>\n",
       "      <td>5</td>\n",
       "      <td>-28</td>\n",
       "      <td>21.5333</td>\n",
       "    </tr>\n",
       "    <tr>\n",
       "      <th>4</th>\n",
       "      <td>4</td>\n",
       "      <td>8</td>\n",
       "      <td>0.5</td>\n",
       "      <td>1</td>\n",
       "      <td>2</td>\n",
       "      <td>0.5</td>\n",
       "      <td>0</td>\n",
       "      <td>2</td>\n",
       "      <td>0</td>\n",
       "      <td>1</td>\n",
       "      <td>3</td>\n",
       "      <td>4</td>\n",
       "      <td>6</td>\n",
       "      <td>0</td>\n",
       "      <td>0</td>\n",
       "      <td>4</td>\n",
       "      <td>5</td>\n",
       "      <td>9</td>\n",
       "      <td>-13</td>\n",
       "      <td>31.25</td>\n",
       "    </tr>\n",
       "  </tbody>\n",
       "</table>\n",
       "</div>"
      ],
      "text/plain": [
       "  fg fga fg_pct fg3 fg3a fg3_pct ft fta ft_pct orb drb trb ast stl blk pf tov  \\\n",
       "0  7  12  0.583   0    1       0  0   0      0   1   1   2   7   4   0  2   2   \n",
       "1  5   9  0.556   2    3   0.667  0   0      0   0   2   2   4   1   0  5   3   \n",
       "2  3   6    0.5   1    2     0.5  0   0      0   0   5   5   9   2   0  4   1   \n",
       "3  1   5    0.2   0    1       0  3   4   0.75   0   1   1   3   0   0  6   0   \n",
       "4  4   8    0.5   1    2     0.5  0   2      0   1   3   4   6   0   0  4   5   \n",
       "\n",
       "  pts game_res_int tot_time  \n",
       "0  14           -1    35.65  \n",
       "1  12          -22  39.0833  \n",
       "2   7            8    28.45  \n",
       "3   5          -28  21.5333  \n",
       "4   9          -13    31.25  "
      ]
     },
     "execution_count": 17,
     "metadata": {},
     "output_type": "execute_result"
    }
   ],
   "source": [
    "df_X.head()"
   ]
  },
  {
   "cell_type": "code",
   "execution_count": 18,
   "metadata": {},
   "outputs": [],
   "source": [
    "nums = df_X.columns.tolist()"
   ]
  },
  {
   "cell_type": "code",
   "execution_count": 19,
   "metadata": {},
   "outputs": [
    {
     "data": {
      "text/plain": [
       "['fg',\n",
       " 'fga',\n",
       " 'fg_pct',\n",
       " 'fg3',\n",
       " 'fg3a',\n",
       " 'fg3_pct',\n",
       " 'ft',\n",
       " 'fta',\n",
       " 'ft_pct',\n",
       " 'orb',\n",
       " 'drb',\n",
       " 'trb',\n",
       " 'ast',\n",
       " 'stl',\n",
       " 'blk',\n",
       " 'pf',\n",
       " 'tov',\n",
       " 'pts',\n",
       " 'game_res_int',\n",
       " 'tot_time']"
      ]
     },
     "execution_count": 19,
     "metadata": {},
     "output_type": "execute_result"
    }
   ],
   "source": [
    "nums"
   ]
  },
  {
   "cell_type": "markdown",
   "metadata": {},
   "source": [
    "# Data Science"
   ]
  },
  {
   "cell_type": "markdown",
   "metadata": {},
   "source": [
    "### Numericals"
   ]
  },
  {
   "cell_type": "code",
   "execution_count": 20,
   "metadata": {},
   "outputs": [],
   "source": [
    "ALPHA = 0.05"
   ]
  },
  {
   "cell_type": "code",
   "execution_count": 21,
   "metadata": {},
   "outputs": [
    {
     "name": "stdout",
     "output_type": "stream",
     "text": [
      "High Correlations:\n",
      "\n",
      "  feature1 feature2         r\n",
      "0       fg      pts  0.944255\n",
      "1      fg3      pts  0.808183\n",
      "2       ft      fta  0.979005\n",
      "3      drb      trb  0.931680\n",
      "\n",
      "\n",
      "Decent Correlations:\n",
      "\n",
      "   feature1  feature2         r\n",
      "0        fg       fga  0.799839\n",
      "1        fg    fg_pct  0.674855\n",
      "2        fg       fg3  0.738251\n",
      "3        fg      fg3a  0.625653\n",
      "4       fga       fg3  0.569560\n",
      "5       fga      fg3a  0.745016\n",
      "6       fga       pts  0.766746\n",
      "7       fga  tot_time  0.586639\n",
      "8    fg_pct   fg3_pct  0.645504\n",
      "9    fg_pct       pts  0.621922\n",
      "10      fg3      fg3a  0.788780\n",
      "11      fg3   fg3_pct  0.640131\n",
      "12     fg3a       pts  0.695964\n",
      "13       ft    ft_pct  0.561573\n",
      "14       ft       pts  0.528208\n",
      "15      fta       pts  0.527419\n"
     ]
    }
   ],
   "source": [
    "high_info = {\n",
    "    'feature1': [],\n",
    "    'feature2': [],\n",
    "    'r': []\n",
    "}\n",
    "\n",
    "mid_info = {\n",
    "    'feature1': [],\n",
    "    'feature2': [],\n",
    "    'r': []\n",
    "}\n",
    "\n",
    "high_corr_cutoff = 0.8\n",
    "mid_corr_cutoff = 0.5\n",
    "\n",
    "for i in range(len(nums) - 1):\n",
    "    j = i + 1\n",
    "    while j < len(nums):\n",
    "        correl_signif = stats.pearsonr(df_X[nums[i]], df_X[nums[j]])\n",
    "        \n",
    "        if abs(correl_signif[0]) > high_corr_cutoff:\n",
    "            high_info['feature1'].append(nums[i])\n",
    "            high_info['feature2'].append(nums[j])\n",
    "            high_info['r'].append(correl_signif[0])\n",
    "        \n",
    "        elif abs(correl_signif[0]) < high_corr_cutoff and abs(correl_signif[0]) > mid_corr_cutoff:\n",
    "            mid_info['feature1'].append(nums[i])\n",
    "            mid_info['feature2'].append(nums[j])\n",
    "            mid_info['r'].append(correl_signif[0])\n",
    "        \n",
    "        j += 1\n",
    "        \n",
    "high_info_df = pd.DataFrame(data=high_info)\n",
    "print(f'High Correlations:\\n\\n{high_info_df}')\n",
    "\n",
    "print('\\n')\n",
    "\n",
    "mid_info_df = pd.DataFrame(data=mid_info)\n",
    "print(f'Decent Correlations:\\n\\n{mid_info_df}')"
   ]
  },
  {
   "cell_type": "code",
   "execution_count": 22,
   "metadata": {},
   "outputs": [],
   "source": [
    "df_X.drop(['trb', 'ft'], axis=1, inplace=True)\n",
    "nums.remove('trb')\n",
    "nums.remove('ft')"
   ]
  },
  {
   "cell_type": "code",
   "execution_count": 23,
   "metadata": {},
   "outputs": [],
   "source": [
    "CORR_CUTOFF = 0.35"
   ]
  },
  {
   "cell_type": "code",
   "execution_count": 24,
   "metadata": {},
   "outputs": [
    {
     "name": "stdout",
     "output_type": "stream",
     "text": [
      "        feature1    feature2         r\n",
      "0             fg  plus minus  0.222720\n",
      "1            fga  plus minus  0.054447\n",
      "2         fg_pct  plus minus  0.318048\n",
      "3            fg3  plus minus  0.298575\n",
      "4           fg3a  plus minus  0.229519\n",
      "5        fg3_pct  plus minus  0.232160\n",
      "6            fta  plus minus  0.156827\n",
      "7         ft_pct  plus minus  0.165189\n",
      "8            orb  plus minus  0.005484\n",
      "9            drb  plus minus  0.191611\n",
      "10           ast  plus minus  0.242444\n",
      "11           stl  plus minus  0.162664\n",
      "12           blk  plus minus  0.046458\n",
      "13            pf  plus minus -0.124485\n",
      "14           tov  plus minus -0.133273\n",
      "15           pts  plus minus  0.272230\n",
      "16  game_res_int  plus minus  0.856637\n",
      "17      tot_time  plus minus -0.083537\n"
     ]
    }
   ],
   "source": [
    "label_corr_info = {\n",
    "    'feature1': [],\n",
    "    'feature2': [],\n",
    "    'r': []\n",
    "}\n",
    "\n",
    "top_corrs = []\n",
    "\n",
    "for col in nums:\n",
    "    correl_signif = stats.pearsonr(df_X[col], df_y)\n",
    "    \n",
    "    label_corr_info['feature1'].append(col)\n",
    "    label_corr_info['feature2'].append('plus minus')\n",
    "    label_corr_info['r'].append(correl_signif[0])\n",
    "    \n",
    "    if abs(correl_signif[0]) > CORR_CUTOFF:\n",
    "        top_corrs.append(col)\n",
    "    \n",
    "label_info_df = pd.DataFrame(label_corr_info)\n",
    "print(label_info_df)"
   ]
  },
  {
   "cell_type": "code",
   "execution_count": 25,
   "metadata": {},
   "outputs": [
    {
     "data": {
      "text/plain": [
       "['game_res_int']"
      ]
     },
     "execution_count": 25,
     "metadata": {},
     "output_type": "execute_result"
    }
   ],
   "source": [
    "top_corrs"
   ]
  },
  {
   "cell_type": "markdown",
   "metadata": {},
   "source": [
    "# Feature Engineering"
   ]
  },
  {
   "cell_type": "markdown",
   "metadata": {},
   "source": [
    "### New Columns"
   ]
  },
  {
   "cell_type": "code",
   "execution_count": 26,
   "metadata": {},
   "outputs": [],
   "source": [
    "# Statistical formulas through research.\n",
    "df_X['efficiency'] = df_X['pts'] + (df_X['orb'] + df_X['drb']) + df_X['ast'] + df_X['stl'] + df_X['blk'] - (df_X['fga'] - df_X['fg']) - (df_X['fta'] - (df_X['fta'] * df_X['ft_pct'])) - df_X['tov']\n",
    "\n",
    "df_X['efg'] = (df_X['fg'] + (0.5 * df_X['fg3'])) / df_X['fga'].replace(0, np.inf)\n",
    "df_X['tov%'] = 100 * df_X['tov'] / (df_X['fga'] + 0.44 * df_X['fta'] + df_X['tov']).replace(0, np.inf)\n",
    "df_X['true_shooting%'] = df_X['pts'] / (2 * (df_X['fga'] + 0.44 * df_X['fta'])).replace(0, np.inf)\n",
    "df_X['ppp'] = df_X['pts'] / (df_X['fga'] + 0.44 * df_X['fta'] + df_X['tov']).replace(0, np.inf)\n",
    "df_X['gmsc'] = df_X['pts'] + 0.4 * df_X['fg'] - 0.7 * df_X['fga'] - 0.4 * (df_X['fta'] - (df_X['fta'] * df_X['ft_pct'])) + 0.7 * df_X['orb'] + 0.3 * df_X['drb'] + df_X['stl'] + 0.7 * df_X['ast'] + 0.7 * df_X['blk'] - 0.4 * df_X['pf'] - df_X['tov']\n",
    "df_X['per'] = ( (df_X['fg'] * 85.910) + (df_X['stl'] * 53.897) + (df_X['fg3'] * 51.757) + ((df_X['fta'] * df_X['ft_pct']) * 46.845) + (df_X['blk'] * 39.190) + (df_X['orb'] * 39.190) + (df_X['ast'] * 34.677) + (df_X['drb'] * 14.707) - (df_X['pf'] * 17.174) - ( (df_X['fta'] - (df_X['fta'] * df_X['ft_pct']) ) * 20.091) - ( (df_X['fga'] - df_X['fg'] ) * 39.190) - (df_X['tov'] * 53.897) ) * (1 / df_X['tot_time'])\n",
    "df_X['possessions'] = .96 * (df_X['fga'] - df_X['orb'] + (.44 * df_X['fta'])) + df_X['tov']\n",
    "df_X['off_rating'] = df_X['pts'] * 100 / df_X['possessions'].replace(0, np.inf)\n",
    "\n",
    "df_X['fg_part'] = df_X['fg'] * (1 - 0.5 * ((df_X['pts'] - (df_X['fta'] * df_X['ft_pct'])) / (2 * df_X['fga'].replace(0, np.inf))) * df_X['ast'])\n",
    "\n",
    "df_X['stl_tov'] = df_X['stl'].div(df_X['tov'].replace(0, np.inf))\n",
    "df_X['stops/tov'] = (df_X['stl'] + df_X['blk']).div(df_X['tov'].replace(0, np.inf))\n",
    "df_X['3/pts'] = df_X['fg3'].div(df_X['fg'].replace(0, np.inf))\n",
    "df_X['3a'] = df_X['fg3a'].div(df_X['fga'].replace(0, np.inf))\n",
    "df_X['pts_per_min'] = (df_X['pts'] / df['tot_time'])\n",
    "df_X['net_pos_responsible_for'] = df_X['fg'] + df_X['ast'] + df_X['stl'] + df_X['blk'] - df['tov'] # possessions responsible for\n",
    "df_X['ft+fg3'] = (df_X['fta'] * df_X['ft_pct']) + df_X['fg3']\n",
    "df_X['ast_ratio'] = df_X['ast'] / df_X['ast'].mean()\n",
    "\n",
    "df_X['gmsc_per_pt'] = df_X['gmsc'].div(df['pts'].replace(0, np.inf))\n",
    "df_X['gmsc_per_fg'] = df_X['gmsc'].div(df['fg'].replace(0, np.inf))\n",
    "df_X['gmsc_per_fg_times_ppp'] = df_X['gmsc_per_fg'] * df_X['ppp']\n",
    "df_X['gmsc_per_pt_times_ppp'] = df_X['gmsc_per_pt'] * df_X['ppp']\n",
    "df_X['gmsc_per'] = df_X['gmsc'] * df_X['per']\n",
    "df_X['gmsc_ppp_mul'] = df_X['gmsc'] * df_X['ppp']\n",
    "df_X['gmsc_ppp_div'] = df_X['gmsc'].div(df_X['ppp'].replace(0, np.inf))\n",
    "df_X['per_ppp'] = df_X['per'].div(df_X['ppp'].replace(0, np.inf))\n",
    "\n",
    "df_X['per_per_pt'] = df_X['per'].div(df['pts'].replace(0, np.inf))\n",
    "df_X['per_per_fg'] = df_X['per'].div(df['fg'].replace(0, np.inf))\n",
    "df_X['per_per_fg_times_ppp'] = df_X['per_per_fg'] * df_X['ppp']\n",
    "df_X['per_per_pt_times_ppp'] = df_X['per_per_pt'] * df_X['ppp']\n",
    "\n",
    "df_X['game_result_per_pt'] = df_X['game_res_int'] / df_X['pts'].replace(0, np.inf)"
   ]
  },
  {
   "cell_type": "code",
   "execution_count": 27,
   "metadata": {},
   "outputs": [],
   "source": [
    "new_cols = ['off_rating', 'efficiency', 'efg', 'tov%', 'true_shooting%', 'ppp', 'gmsc', 'per', 'fg_part', 'stl_tov', 'stops/tov', '3/pts', '3a', 'pts_per_min', 'net_pos_responsible_for', 'ft+fg3', 'ast_ratio', 'gmsc_per_pt', 'gmsc_per_fg', 'gmsc_per_fg_times_ppp', 'gmsc_per_pt_times_ppp', 'gmsc_per', 'gmsc_ppp_div', 'gmsc_ppp_mul', 'per_ppp', 'per_per_pt', 'per_per_fg', 'per_per_fg_times_ppp', 'per_per_pt_times_ppp', 'game_result_per_pt']"
   ]
  },
  {
   "cell_type": "code",
   "execution_count": 28,
   "metadata": {
    "scrolled": false
   },
   "outputs": [
    {
     "name": "stdout",
     "output_type": "stream",
     "text": [
      "                   feature1    feature2         r\n",
      "0                off_rating  Plus Minus  0.415688\n",
      "1                efficiency  Plus Minus  0.437317\n",
      "2                       efg  Plus Minus  0.367933\n",
      "3                      tov%  Plus Minus -0.185552\n",
      "4            true_shooting%  Plus Minus  0.379701\n",
      "5                       ppp  Plus Minus  0.412332\n",
      "6                      gmsc  Plus Minus  0.423461\n",
      "7                       per  Plus Minus  0.507728\n",
      "8                   fg_part  Plus Minus -0.307792\n",
      "9                   stl_tov  Plus Minus  0.166153\n",
      "10                stops/tov  Plus Minus  0.173569\n",
      "11                    3/pts  Plus Minus  0.278758\n",
      "12                       3a  Plus Minus  0.320089\n",
      "13              pts_per_min  Plus Minus  0.365820\n",
      "14  net_pos_responsible_for  Plus Minus  0.377271\n",
      "15                   ft+fg3  Plus Minus  0.285549\n",
      "16                ast_ratio  Plus Minus  0.242444\n",
      "17              gmsc_per_pt  Plus Minus  0.465097\n",
      "18              gmsc_per_fg  Plus Minus  0.461679\n",
      "19    gmsc_per_fg_times_ppp  Plus Minus  0.498644\n",
      "20    gmsc_per_pt_times_ppp  Plus Minus  0.510414\n",
      "21                 gmsc_per  Plus Minus  0.425121\n",
      "22             gmsc_ppp_div  Plus Minus  0.363988\n",
      "23             gmsc_ppp_mul  Plus Minus  0.415070\n",
      "24                  per_ppp  Plus Minus  0.495084\n",
      "25               per_per_pt  Plus Minus  0.321827\n",
      "26               per_per_fg  Plus Minus  0.457297\n",
      "27     per_per_fg_times_ppp  Plus Minus  0.488860\n",
      "28     per_per_pt_times_ppp  Plus Minus  0.402054\n",
      "29       game_result_per_pt  Plus Minus  0.732826\n"
     ]
    }
   ],
   "source": [
    "label_corr_info = {\n",
    "    'feature1': [],\n",
    "    'feature2': [],\n",
    "    'r': []\n",
    "}\n",
    "\n",
    "for col in new_cols:\n",
    "    correl_signif = stats.pearsonr(df_X[col], df_y)\n",
    "    \n",
    "    label_corr_info['feature1'].append(col)\n",
    "    label_corr_info['feature2'].append('Plus Minus')\n",
    "    label_corr_info['r'].append(correl_signif[0])\n",
    "    \n",
    "    if abs(correl_signif[0]) > CORR_CUTOFF:\n",
    "        top_corrs.append(col)\n",
    "    \n",
    "label_info_df = pd.DataFrame(label_corr_info)\n",
    "print(label_info_df)"
   ]
  },
  {
   "cell_type": "code",
   "execution_count": 29,
   "metadata": {},
   "outputs": [
    {
     "data": {
      "text/plain": [
       "['game_res_int',\n",
       " 'off_rating',\n",
       " 'efficiency',\n",
       " 'efg',\n",
       " 'true_shooting%',\n",
       " 'ppp',\n",
       " 'gmsc',\n",
       " 'per',\n",
       " 'pts_per_min',\n",
       " 'net_pos_responsible_for',\n",
       " 'gmsc_per_pt',\n",
       " 'gmsc_per_fg',\n",
       " 'gmsc_per_fg_times_ppp',\n",
       " 'gmsc_per_pt_times_ppp',\n",
       " 'gmsc_per',\n",
       " 'gmsc_ppp_div',\n",
       " 'gmsc_ppp_mul',\n",
       " 'per_ppp',\n",
       " 'per_per_fg',\n",
       " 'per_per_fg_times_ppp',\n",
       " 'per_per_pt_times_ppp',\n",
       " 'game_result_per_pt']"
      ]
     },
     "execution_count": 29,
     "metadata": {},
     "output_type": "execute_result"
    }
   ],
   "source": [
    "top_corrs"
   ]
  },
  {
   "cell_type": "code",
   "execution_count": 30,
   "metadata": {},
   "outputs": [
    {
     "data": {
      "text/plain": [
       "['fg',\n",
       " 'fga',\n",
       " 'fg_pct',\n",
       " 'fg3',\n",
       " 'fg3a',\n",
       " 'fg3_pct',\n",
       " 'fta',\n",
       " 'ft_pct',\n",
       " 'orb',\n",
       " 'drb',\n",
       " 'ast',\n",
       " 'stl',\n",
       " 'blk',\n",
       " 'pf',\n",
       " 'tov',\n",
       " 'pts',\n",
       " 'tot_time',\n",
       " 'tov%',\n",
       " 'possessions',\n",
       " 'fg_part',\n",
       " 'stl_tov',\n",
       " 'stops/tov',\n",
       " '3/pts',\n",
       " '3a',\n",
       " 'ft+fg3',\n",
       " 'ast_ratio',\n",
       " 'per_per_pt']"
      ]
     },
     "execution_count": 30,
     "metadata": {},
     "output_type": "execute_result"
    }
   ],
   "source": [
    "cols_to_remove = []\n",
    "\n",
    "for col in df_X.columns:\n",
    "    if col not in top_corrs:\n",
    "        cols_to_remove.append(col)\n",
    "\n",
    "cols_to_remove"
   ]
  },
  {
   "cell_type": "code",
   "execution_count": 31,
   "metadata": {},
   "outputs": [],
   "source": [
    "df_X.drop(cols_to_remove, axis=1, inplace=True)"
   ]
  },
  {
   "cell_type": "code",
   "execution_count": 32,
   "metadata": {},
   "outputs": [
    {
     "data": {
      "text/html": [
       "<div>\n",
       "<style scoped>\n",
       "    .dataframe tbody tr th:only-of-type {\n",
       "        vertical-align: middle;\n",
       "    }\n",
       "\n",
       "    .dataframe tbody tr th {\n",
       "        vertical-align: top;\n",
       "    }\n",
       "\n",
       "    .dataframe thead th {\n",
       "        text-align: right;\n",
       "    }\n",
       "</style>\n",
       "<table border=\"1\" class=\"dataframe\">\n",
       "  <thead>\n",
       "    <tr style=\"text-align: right;\">\n",
       "      <th></th>\n",
       "      <th>game_res_int</th>\n",
       "      <th>efficiency</th>\n",
       "      <th>efg</th>\n",
       "      <th>true_shooting%</th>\n",
       "      <th>ppp</th>\n",
       "      <th>gmsc</th>\n",
       "      <th>per</th>\n",
       "      <th>off_rating</th>\n",
       "      <th>pts_per_min</th>\n",
       "      <th>net_pos_responsible_for</th>\n",
       "      <th>...</th>\n",
       "      <th>gmsc_per_fg_times_ppp</th>\n",
       "      <th>gmsc_per_pt_times_ppp</th>\n",
       "      <th>gmsc_per</th>\n",
       "      <th>gmsc_ppp_mul</th>\n",
       "      <th>gmsc_ppp_div</th>\n",
       "      <th>per_ppp</th>\n",
       "      <th>per_per_fg</th>\n",
       "      <th>per_per_fg_times_ppp</th>\n",
       "      <th>per_per_pt_times_ppp</th>\n",
       "      <th>game_result_per_pt</th>\n",
       "    </tr>\n",
       "  </thead>\n",
       "  <tbody>\n",
       "    <tr>\n",
       "      <th>0</th>\n",
       "      <td>-1</td>\n",
       "      <td>20</td>\n",
       "      <td>0.583333</td>\n",
       "      <td>0.583333</td>\n",
       "      <td>1</td>\n",
       "      <td>15.5</td>\n",
       "      <td>21.7532</td>\n",
       "      <td>111.465</td>\n",
       "      <td>0.392707</td>\n",
       "      <td>16</td>\n",
       "      <td>...</td>\n",
       "      <td>2.21429</td>\n",
       "      <td>1.10714</td>\n",
       "      <td>337.175</td>\n",
       "      <td>15.5</td>\n",
       "      <td>15.5</td>\n",
       "      <td>21.7532</td>\n",
       "      <td>3.1076</td>\n",
       "      <td>3.1076</td>\n",
       "      <td>1.5538</td>\n",
       "      <td>-0.0714286</td>\n",
       "    </tr>\n",
       "    <tr>\n",
       "      <th>1</th>\n",
       "      <td>-22</td>\n",
       "      <td>12</td>\n",
       "      <td>0.666667</td>\n",
       "      <td>0.666667</td>\n",
       "      <td>1</td>\n",
       "      <td>7.1</td>\n",
       "      <td>8.97472</td>\n",
       "      <td>103.093</td>\n",
       "      <td>0.307036</td>\n",
       "      <td>7</td>\n",
       "      <td>...</td>\n",
       "      <td>1.42</td>\n",
       "      <td>0.591667</td>\n",
       "      <td>63.7205</td>\n",
       "      <td>7.1</td>\n",
       "      <td>7.1</td>\n",
       "      <td>8.97472</td>\n",
       "      <td>1.79494</td>\n",
       "      <td>1.79494</td>\n",
       "      <td>0.747893</td>\n",
       "      <td>-1.83333</td>\n",
       "    </tr>\n",
       "    <tr>\n",
       "      <th>2</th>\n",
       "      <td>8</td>\n",
       "      <td>19</td>\n",
       "      <td>0.583333</td>\n",
       "      <td>0.583333</td>\n",
       "      <td>1</td>\n",
       "      <td>11.2</td>\n",
       "      <td>19.7802</td>\n",
       "      <td>103.55</td>\n",
       "      <td>0.246046</td>\n",
       "      <td>13</td>\n",
       "      <td>...</td>\n",
       "      <td>3.73333</td>\n",
       "      <td>1.6</td>\n",
       "      <td>221.538</td>\n",
       "      <td>11.2</td>\n",
       "      <td>11.2</td>\n",
       "      <td>19.7802</td>\n",
       "      <td>6.59339</td>\n",
       "      <td>6.59339</td>\n",
       "      <td>2.82574</td>\n",
       "      <td>1.14286</td>\n",
       "    </tr>\n",
       "    <tr>\n",
       "      <th>3</th>\n",
       "      <td>-28</td>\n",
       "      <td>4</td>\n",
       "      <td>0.2</td>\n",
       "      <td>0.369822</td>\n",
       "      <td>0.739645</td>\n",
       "      <td>1.5</td>\n",
       "      <td>3.03195</td>\n",
       "      <td>77.0464</td>\n",
       "      <td>0.232198</td>\n",
       "      <td>4</td>\n",
       "      <td>...</td>\n",
       "      <td>1.10947</td>\n",
       "      <td>0.221893</td>\n",
       "      <td>4.54793</td>\n",
       "      <td>1.10947</td>\n",
       "      <td>2.028</td>\n",
       "      <td>4.0992</td>\n",
       "      <td>3.03195</td>\n",
       "      <td>2.24257</td>\n",
       "      <td>0.448513</td>\n",
       "      <td>-5.6</td>\n",
       "    </tr>\n",
       "    <tr>\n",
       "      <th>4</th>\n",
       "      <td>-13</td>\n",
       "      <td>8</td>\n",
       "      <td>0.5625</td>\n",
       "      <td>0.506757</td>\n",
       "      <td>0.648415</td>\n",
       "      <td>3.4</td>\n",
       "      <td>4.8527</td>\n",
       "      <td>71.6287</td>\n",
       "      <td>0.288</td>\n",
       "      <td>5</td>\n",
       "      <td>...</td>\n",
       "      <td>0.551153</td>\n",
       "      <td>0.244957</td>\n",
       "      <td>16.4992</td>\n",
       "      <td>2.20461</td>\n",
       "      <td>5.24356</td>\n",
       "      <td>7.48395</td>\n",
       "      <td>1.21318</td>\n",
       "      <td>0.786641</td>\n",
       "      <td>0.349618</td>\n",
       "      <td>-1.44444</td>\n",
       "    </tr>\n",
       "  </tbody>\n",
       "</table>\n",
       "<p>5 rows × 22 columns</p>\n",
       "</div>"
      ],
      "text/plain": [
       "  game_res_int efficiency       efg true_shooting%       ppp  gmsc      per  \\\n",
       "0           -1         20  0.583333       0.583333         1  15.5  21.7532   \n",
       "1          -22         12  0.666667       0.666667         1   7.1  8.97472   \n",
       "2            8         19  0.583333       0.583333         1  11.2  19.7802   \n",
       "3          -28          4       0.2       0.369822  0.739645   1.5  3.03195   \n",
       "4          -13          8    0.5625       0.506757  0.648415   3.4   4.8527   \n",
       "\n",
       "  off_rating pts_per_min net_pos_responsible_for  ... gmsc_per_fg_times_ppp  \\\n",
       "0    111.465    0.392707                      16  ...               2.21429   \n",
       "1    103.093    0.307036                       7  ...                  1.42   \n",
       "2     103.55    0.246046                      13  ...               3.73333   \n",
       "3    77.0464    0.232198                       4  ...               1.10947   \n",
       "4    71.6287       0.288                       5  ...              0.551153   \n",
       "\n",
       "  gmsc_per_pt_times_ppp gmsc_per gmsc_ppp_mul gmsc_ppp_div  per_ppp  \\\n",
       "0               1.10714  337.175         15.5         15.5  21.7532   \n",
       "1              0.591667  63.7205          7.1          7.1  8.97472   \n",
       "2                   1.6  221.538         11.2         11.2  19.7802   \n",
       "3              0.221893  4.54793      1.10947        2.028   4.0992   \n",
       "4              0.244957  16.4992      2.20461      5.24356  7.48395   \n",
       "\n",
       "  per_per_fg per_per_fg_times_ppp per_per_pt_times_ppp game_result_per_pt  \n",
       "0     3.1076               3.1076               1.5538         -0.0714286  \n",
       "1    1.79494              1.79494             0.747893           -1.83333  \n",
       "2    6.59339              6.59339              2.82574            1.14286  \n",
       "3    3.03195              2.24257             0.448513               -5.6  \n",
       "4    1.21318             0.786641             0.349618           -1.44444  \n",
       "\n",
       "[5 rows x 22 columns]"
      ]
     },
     "execution_count": 32,
     "metadata": {},
     "output_type": "execute_result"
    }
   ],
   "source": [
    "df_X.head()"
   ]
  },
  {
   "cell_type": "code",
   "execution_count": 33,
   "metadata": {},
   "outputs": [],
   "source": [
    "cols = df_X.columns\n",
    "df_X = StandardScaler().fit_transform(df_X)\n",
    "df_X = pd.DataFrame(data=df_X, columns=cols)"
   ]
  },
  {
   "cell_type": "code",
   "execution_count": 34,
   "metadata": {},
   "outputs": [
    {
     "data": {
      "text/html": [
       "<div>\n",
       "<style scoped>\n",
       "    .dataframe tbody tr th:only-of-type {\n",
       "        vertical-align: middle;\n",
       "    }\n",
       "\n",
       "    .dataframe tbody tr th {\n",
       "        vertical-align: top;\n",
       "    }\n",
       "\n",
       "    .dataframe thead th {\n",
       "        text-align: right;\n",
       "    }\n",
       "</style>\n",
       "<table border=\"1\" class=\"dataframe\">\n",
       "  <thead>\n",
       "    <tr style=\"text-align: right;\">\n",
       "      <th></th>\n",
       "      <th>game_res_int</th>\n",
       "      <th>efficiency</th>\n",
       "      <th>efg</th>\n",
       "      <th>true_shooting%</th>\n",
       "      <th>ppp</th>\n",
       "      <th>gmsc</th>\n",
       "      <th>per</th>\n",
       "      <th>off_rating</th>\n",
       "      <th>pts_per_min</th>\n",
       "      <th>net_pos_responsible_for</th>\n",
       "      <th>...</th>\n",
       "      <th>gmsc_per_fg_times_ppp</th>\n",
       "      <th>gmsc_per_pt_times_ppp</th>\n",
       "      <th>gmsc_per</th>\n",
       "      <th>gmsc_ppp_mul</th>\n",
       "      <th>gmsc_ppp_div</th>\n",
       "      <th>per_ppp</th>\n",
       "      <th>per_per_fg</th>\n",
       "      <th>per_per_fg_times_ppp</th>\n",
       "      <th>per_per_pt_times_ppp</th>\n",
       "      <th>game_result_per_pt</th>\n",
       "    </tr>\n",
       "  </thead>\n",
       "  <tbody>\n",
       "    <tr>\n",
       "      <th>0</th>\n",
       "      <td>-0.436028</td>\n",
       "      <td>-0.386177</td>\n",
       "      <td>0.073803</td>\n",
       "      <td>-0.177265</td>\n",
       "      <td>-0.168749</td>\n",
       "      <td>-0.345790</td>\n",
       "      <td>-0.326595</td>\n",
       "      <td>-0.030210</td>\n",
       "      <td>-1.085387</td>\n",
       "      <td>0.477085</td>\n",
       "      <td>...</td>\n",
       "      <td>-0.226555</td>\n",
       "      <td>0.702772</td>\n",
       "      <td>-0.503713</td>\n",
       "      <td>-0.432503</td>\n",
       "      <td>-0.221902</td>\n",
       "      <td>-0.187599</td>\n",
       "      <td>-0.072128</td>\n",
       "      <td>-0.227355</td>\n",
       "      <td>0.383664</td>\n",
       "      <td>-0.265684</td>\n",
       "    </tr>\n",
       "    <tr>\n",
       "      <th>1</th>\n",
       "      <td>-1.864380</td>\n",
       "      <td>-1.134970</td>\n",
       "      <td>0.564942</td>\n",
       "      <td>0.335971</td>\n",
       "      <td>-0.168749</td>\n",
       "      <td>-1.260650</td>\n",
       "      <td>-1.276973</td>\n",
       "      <td>-0.290466</td>\n",
       "      <td>-1.408018</td>\n",
       "      <td>-1.289449</td>\n",
       "      <td>...</td>\n",
       "      <td>-0.877891</td>\n",
       "      <td>-0.684252</td>\n",
       "      <td>-1.022282</td>\n",
       "      <td>-1.001149</td>\n",
       "      <td>-1.625550</td>\n",
       "      <td>-1.703479</td>\n",
       "      <td>-0.959882</td>\n",
       "      <td>-0.831066</td>\n",
       "      <td>-0.606094</td>\n",
       "      <td>-2.123694</td>\n",
       "    </tr>\n",
       "    <tr>\n",
       "      <th>2</th>\n",
       "      <td>0.176124</td>\n",
       "      <td>-0.479776</td>\n",
       "      <td>0.073803</td>\n",
       "      <td>-0.177265</td>\n",
       "      <td>-0.168749</td>\n",
       "      <td>-0.814111</td>\n",
       "      <td>-0.473336</td>\n",
       "      <td>-0.276244</td>\n",
       "      <td>-1.637705</td>\n",
       "      <td>-0.111760</td>\n",
       "      <td>...</td>\n",
       "      <td>1.019107</td>\n",
       "      <td>2.028933</td>\n",
       "      <td>-0.723003</td>\n",
       "      <td>-0.723596</td>\n",
       "      <td>-0.940436</td>\n",
       "      <td>-0.421656</td>\n",
       "      <td>2.285322</td>\n",
       "      <td>1.375815</td>\n",
       "      <td>1.945768</td>\n",
       "      <td>1.014836</td>\n",
       "    </tr>\n",
       "    <tr>\n",
       "      <th>3</th>\n",
       "      <td>-2.272481</td>\n",
       "      <td>-1.883764</td>\n",
       "      <td>-2.185433</td>\n",
       "      <td>-1.492245</td>\n",
       "      <td>-1.041283</td>\n",
       "      <td>-1.870557</td>\n",
       "      <td>-1.718956</td>\n",
       "      <td>-1.100140</td>\n",
       "      <td>-1.689854</td>\n",
       "      <td>-1.878293</td>\n",
       "      <td>...</td>\n",
       "      <td>-1.132536</td>\n",
       "      <td>-1.679223</td>\n",
       "      <td>-1.134495</td>\n",
       "      <td>-1.406684</td>\n",
       "      <td>-2.473086</td>\n",
       "      <td>-2.281849</td>\n",
       "      <td>-0.123291</td>\n",
       "      <td>-0.625198</td>\n",
       "      <td>-0.973772</td>\n",
       "      <td>-6.095818</td>\n",
       "    </tr>\n",
       "    <tr>\n",
       "      <th>4</th>\n",
       "      <td>-1.252229</td>\n",
       "      <td>-1.509367</td>\n",
       "      <td>-0.048981</td>\n",
       "      <td>-0.648888</td>\n",
       "      <td>-1.347024</td>\n",
       "      <td>-1.663624</td>\n",
       "      <td>-1.583541</td>\n",
       "      <td>-1.268553</td>\n",
       "      <td>-1.479707</td>\n",
       "      <td>-1.682012</td>\n",
       "      <td>...</td>\n",
       "      <td>-1.590370</td>\n",
       "      <td>-1.617166</td>\n",
       "      <td>-1.111831</td>\n",
       "      <td>-1.332547</td>\n",
       "      <td>-1.935763</td>\n",
       "      <td>-1.880325</td>\n",
       "      <td>-1.353333</td>\n",
       "      <td>-1.294801</td>\n",
       "      <td>-1.095227</td>\n",
       "      <td>-1.713593</td>\n",
       "    </tr>\n",
       "  </tbody>\n",
       "</table>\n",
       "<p>5 rows × 22 columns</p>\n",
       "</div>"
      ],
      "text/plain": [
       "   game_res_int  efficiency       efg  true_shooting%       ppp      gmsc  \\\n",
       "0     -0.436028   -0.386177  0.073803       -0.177265 -0.168749 -0.345790   \n",
       "1     -1.864380   -1.134970  0.564942        0.335971 -0.168749 -1.260650   \n",
       "2      0.176124   -0.479776  0.073803       -0.177265 -0.168749 -0.814111   \n",
       "3     -2.272481   -1.883764 -2.185433       -1.492245 -1.041283 -1.870557   \n",
       "4     -1.252229   -1.509367 -0.048981       -0.648888 -1.347024 -1.663624   \n",
       "\n",
       "        per  off_rating  pts_per_min  net_pos_responsible_for  ...  \\\n",
       "0 -0.326595   -0.030210    -1.085387                 0.477085  ...   \n",
       "1 -1.276973   -0.290466    -1.408018                -1.289449  ...   \n",
       "2 -0.473336   -0.276244    -1.637705                -0.111760  ...   \n",
       "3 -1.718956   -1.100140    -1.689854                -1.878293  ...   \n",
       "4 -1.583541   -1.268553    -1.479707                -1.682012  ...   \n",
       "\n",
       "   gmsc_per_fg_times_ppp  gmsc_per_pt_times_ppp  gmsc_per  gmsc_ppp_mul  \\\n",
       "0              -0.226555               0.702772 -0.503713     -0.432503   \n",
       "1              -0.877891              -0.684252 -1.022282     -1.001149   \n",
       "2               1.019107               2.028933 -0.723003     -0.723596   \n",
       "3              -1.132536              -1.679223 -1.134495     -1.406684   \n",
       "4              -1.590370              -1.617166 -1.111831     -1.332547   \n",
       "\n",
       "   gmsc_ppp_div   per_ppp  per_per_fg  per_per_fg_times_ppp  \\\n",
       "0     -0.221902 -0.187599   -0.072128             -0.227355   \n",
       "1     -1.625550 -1.703479   -0.959882             -0.831066   \n",
       "2     -0.940436 -0.421656    2.285322              1.375815   \n",
       "3     -2.473086 -2.281849   -0.123291             -0.625198   \n",
       "4     -1.935763 -1.880325   -1.353333             -1.294801   \n",
       "\n",
       "   per_per_pt_times_ppp  game_result_per_pt  \n",
       "0              0.383664           -0.265684  \n",
       "1             -0.606094           -2.123694  \n",
       "2              1.945768            1.014836  \n",
       "3             -0.973772           -6.095818  \n",
       "4             -1.095227           -1.713593  \n",
       "\n",
       "[5 rows x 22 columns]"
      ]
     },
     "execution_count": 34,
     "metadata": {},
     "output_type": "execute_result"
    }
   ],
   "source": [
    "df_X.head()"
   ]
  },
  {
   "cell_type": "markdown",
   "metadata": {},
   "source": [
    "## Categorical "
   ]
  },
  {
   "cell_type": "code",
   "execution_count": 35,
   "metadata": {},
   "outputs": [],
   "source": [
    "def convert_game_season(gs):\n",
    "    if gs < 27:\n",
    "        return 'first'\n",
    "    elif gs >= 27 and gs < 55:\n",
    "        return 'second'\n",
    "    else:\n",
    "        return 'third'\n",
    "\n",
    "df['gs_label_thirds'] = df['game_season'].apply(lambda row: convert_game_season(row))"
   ]
  },
  {
   "cell_type": "code",
   "execution_count": 36,
   "metadata": {},
   "outputs": [],
   "source": [
    "avg_3pt_shooting = df['fg3_pct'].mean()\n",
    "avg_fg_shooting = df['fg_pct'].mean()\n",
    "avg_ft_shooting = df['ft_pct'].mean()\n",
    "avg_pts = df['pts'].mean()\n",
    "avg_drb = df['drb'].mean()\n",
    "avg_orb = df['orb'].mean()\n",
    "tot_time_avg = df['tot_time'].mean()"
   ]
  },
  {
   "cell_type": "code",
   "execution_count": 37,
   "metadata": {},
   "outputs": [],
   "source": [
    "efficiency_avg = df_X['efficiency'].mean()\n",
    "game_res_int_avg = df_X['game_res_int'].mean()\n",
    "off_rating_avg = df_X['off_rating'].mean()"
   ]
  },
  {
   "cell_type": "code",
   "execution_count": 38,
   "metadata": {},
   "outputs": [],
   "source": [
    "def convert_pct(cur, avg):\n",
    "    if cur < avg:\n",
    "        return 'below'\n",
    "    else:\n",
    "        return 'above'"
   ]
  },
  {
   "cell_type": "code",
   "execution_count": 39,
   "metadata": {},
   "outputs": [],
   "source": [
    "df['3pct_label'] = df['fg3_pct'].apply(lambda row: convert_pct(row, avg_3pt_shooting))\n",
    "df['fg_pct_label'] = df['fg_pct'].apply(lambda row: convert_pct(row, avg_fg_shooting))\n",
    "df['ft_pct_label'] = df['ft_pct'].apply(lambda row: convert_pct(row, avg_ft_shooting))\n",
    "df['pts_label'] = df['pts'].apply(lambda row: convert_pct(row, avg_pts))\n",
    "df['drb_label'] = df['drb'].apply(lambda row: convert_pct(row, avg_drb))\n",
    "df['orb_label'] = df['orb'].apply(lambda row: convert_pct(row, avg_orb))\n",
    "df['tot_time_label'] = df['tot_time'].apply(lambda row: convert_pct(row, tot_time_avg))"
   ]
  },
  {
   "cell_type": "code",
   "execution_count": 40,
   "metadata": {},
   "outputs": [],
   "source": [
    "df['efficiency_label'] = df_X['efficiency'].apply(lambda row: convert_pct(row, efficiency_avg))\n",
    "df['game_res_label'] = df_X['game_res_int'].apply(lambda row: convert_pct(row, game_res_int_avg))\n",
    "df['off_rating_label'] = df_X['off_rating'].apply(lambda row: convert_pct(row, game_res_int_avg))"
   ]
  },
  {
   "cell_type": "code",
   "execution_count": 41,
   "metadata": {},
   "outputs": [],
   "source": [
    "foul_threshold = 4\n",
    "\n",
    "def in_foul_trouble(pf):\n",
    "    if pf < foul_threshold:\n",
    "        return 'no'\n",
    "    else:\n",
    "        return 'yes'"
   ]
  },
  {
   "cell_type": "code",
   "execution_count": 42,
   "metadata": {},
   "outputs": [],
   "source": [
    "df['pf_label'] = df['pf'].apply(lambda row: in_foul_trouble(row))"
   ]
  },
  {
   "cell_type": "code",
   "execution_count": 43,
   "metadata": {},
   "outputs": [],
   "source": [
    "def is_blk_greater_than_stl(diff):\n",
    "    if diff < 0:\n",
    "        return 'stl'\n",
    "    else:\n",
    "        return 'blk'"
   ]
  },
  {
   "cell_type": "code",
   "execution_count": 44,
   "metadata": {},
   "outputs": [],
   "source": [
    "df['blk_stl_diff'] = df['blk'] - df['stl']\n",
    "df['blk_stl_diff_label'] = df['blk_stl_diff'].apply(lambda row: is_blk_greater_than_stl(row))"
   ]
  },
  {
   "cell_type": "code",
   "execution_count": 45,
   "metadata": {},
   "outputs": [],
   "source": [
    "def is_3s_greater_than_2s(diff):\n",
    "    if diff < 0:\n",
    "        return '2s'\n",
    "    else:\n",
    "        return '3s'"
   ]
  },
  {
   "cell_type": "code",
   "execution_count": 46,
   "metadata": {},
   "outputs": [],
   "source": [
    "def is_assist_greater_than_tov(diff):\n",
    "    if diff < 0:\n",
    "        return 'tov'\n",
    "    else:\n",
    "        return 'ass'"
   ]
  },
  {
   "cell_type": "code",
   "execution_count": 47,
   "metadata": {},
   "outputs": [],
   "source": [
    "df['3s_than_2s'] = df['fg3'] - (df['fg'] - df['fg3'])\n",
    "df['ast_than_tov'] = df['ast'] - df['tov']"
   ]
  },
  {
   "cell_type": "code",
   "execution_count": 48,
   "metadata": {},
   "outputs": [],
   "source": [
    "df['more_3s_than_2s'] = df['3s_than_2s'].apply(lambda row: is_3s_greater_than_2s(row))\n",
    "df['more_ast_than_tov'] = df['ast_than_tov'].apply(lambda row: is_assist_greater_than_tov(row))"
   ]
  },
  {
   "cell_type": "code",
   "execution_count": 49,
   "metadata": {},
   "outputs": [],
   "source": [
    "df.drop(['blk_stl_diff', '3s_than_2s', 'ast_than_tov'], axis=1, inplace=True)"
   ]
  },
  {
   "cell_type": "code",
   "execution_count": 50,
   "metadata": {},
   "outputs": [],
   "source": [
    "cats = ['off_rating_label', 'game_res_label', 'efficiency_label', 'tot_time_label', 'orb_label', 'drb_label', 'more_3s_than_2s', 'more_ast_than_tov', 'pf_label', 'blk_stl_diff_label', 'pts_label', 'game_res_wl', 'gs_label_thirds', '3pct_label', 'fg_pct_label', 'game_location', 'ft_pct_label']"
   ]
  },
  {
   "cell_type": "code",
   "execution_count": 51,
   "metadata": {},
   "outputs": [
    {
     "data": {
      "text/html": [
       "<div>\n",
       "<style scoped>\n",
       "    .dataframe tbody tr th:only-of-type {\n",
       "        vertical-align: middle;\n",
       "    }\n",
       "\n",
       "    .dataframe tbody tr th {\n",
       "        vertical-align: top;\n",
       "    }\n",
       "\n",
       "    .dataframe thead th {\n",
       "        text-align: right;\n",
       "    }\n",
       "</style>\n",
       "<table border=\"1\" class=\"dataframe\">\n",
       "  <thead>\n",
       "    <tr style=\"text-align: right;\">\n",
       "      <th></th>\n",
       "      <th>Feature</th>\n",
       "      <th>F</th>\n",
       "      <th>P</th>\n",
       "      <th>Rejected?</th>\n",
       "    </tr>\n",
       "  </thead>\n",
       "  <tbody>\n",
       "    <tr>\n",
       "      <th>0</th>\n",
       "      <td>off_rating_label</td>\n",
       "      <td>105.720398</td>\n",
       "      <td>3.486034e-23</td>\n",
       "      <td>True</td>\n",
       "    </tr>\n",
       "    <tr>\n",
       "      <th>1</th>\n",
       "      <td>game_res_label</td>\n",
       "      <td>707.783428</td>\n",
       "      <td>3.574116e-108</td>\n",
       "      <td>True</td>\n",
       "    </tr>\n",
       "    <tr>\n",
       "      <th>2</th>\n",
       "      <td>efficiency_label</td>\n",
       "      <td>109.859629</td>\n",
       "      <td>5.712370e-24</td>\n",
       "      <td>True</td>\n",
       "    </tr>\n",
       "    <tr>\n",
       "      <th>3</th>\n",
       "      <td>tot_time_label</td>\n",
       "      <td>10.736022</td>\n",
       "      <td>1.102766e-03</td>\n",
       "      <td>True</td>\n",
       "    </tr>\n",
       "    <tr>\n",
       "      <th>4</th>\n",
       "      <td>orb_label</td>\n",
       "      <td>0.168578</td>\n",
       "      <td>6.815053e-01</td>\n",
       "      <td>False</td>\n",
       "    </tr>\n",
       "    <tr>\n",
       "      <th>5</th>\n",
       "      <td>drb_label</td>\n",
       "      <td>15.802213</td>\n",
       "      <td>7.765439e-05</td>\n",
       "      <td>True</td>\n",
       "    </tr>\n",
       "    <tr>\n",
       "      <th>6</th>\n",
       "      <td>more_3s_than_2s</td>\n",
       "      <td>28.184194</td>\n",
       "      <td>1.484461e-07</td>\n",
       "      <td>True</td>\n",
       "    </tr>\n",
       "    <tr>\n",
       "      <th>7</th>\n",
       "      <td>more_ast_than_tov</td>\n",
       "      <td>11.947589</td>\n",
       "      <td>5.803844e-04</td>\n",
       "      <td>True</td>\n",
       "    </tr>\n",
       "    <tr>\n",
       "      <th>8</th>\n",
       "      <td>pf_label</td>\n",
       "      <td>15.518935</td>\n",
       "      <td>8.990416e-05</td>\n",
       "      <td>True</td>\n",
       "    </tr>\n",
       "    <tr>\n",
       "      <th>9</th>\n",
       "      <td>blk_stl_diff_label</td>\n",
       "      <td>12.458172</td>\n",
       "      <td>4.435211e-04</td>\n",
       "      <td>True</td>\n",
       "    </tr>\n",
       "    <tr>\n",
       "      <th>10</th>\n",
       "      <td>pts_label</td>\n",
       "      <td>34.302074</td>\n",
       "      <td>7.271492e-09</td>\n",
       "      <td>True</td>\n",
       "    </tr>\n",
       "    <tr>\n",
       "      <th>11</th>\n",
       "      <td>game_res_wl</td>\n",
       "      <td>713.648110</td>\n",
       "      <td>8.351023e-109</td>\n",
       "      <td>True</td>\n",
       "    </tr>\n",
       "    <tr>\n",
       "      <th>12</th>\n",
       "      <td>gs_label_thirds</td>\n",
       "      <td>0.301792</td>\n",
       "      <td>7.395883e-01</td>\n",
       "      <td>False</td>\n",
       "    </tr>\n",
       "    <tr>\n",
       "      <th>13</th>\n",
       "      <td>3pct_label</td>\n",
       "      <td>30.800739</td>\n",
       "      <td>4.065272e-08</td>\n",
       "      <td>True</td>\n",
       "    </tr>\n",
       "    <tr>\n",
       "      <th>14</th>\n",
       "      <td>fg_pct_label</td>\n",
       "      <td>60.779327</td>\n",
       "      <td>2.329058e-14</td>\n",
       "      <td>True</td>\n",
       "    </tr>\n",
       "    <tr>\n",
       "      <th>15</th>\n",
       "      <td>game_location</td>\n",
       "      <td>23.668338</td>\n",
       "      <td>1.416079e-06</td>\n",
       "      <td>True</td>\n",
       "    </tr>\n",
       "    <tr>\n",
       "      <th>16</th>\n",
       "      <td>ft_pct_label</td>\n",
       "      <td>6.955586</td>\n",
       "      <td>8.542066e-03</td>\n",
       "      <td>True</td>\n",
       "    </tr>\n",
       "  </tbody>\n",
       "</table>\n",
       "</div>"
      ],
      "text/plain": [
       "               Feature           F              P  Rejected?\n",
       "0     off_rating_label  105.720398   3.486034e-23       True\n",
       "1       game_res_label  707.783428  3.574116e-108       True\n",
       "2     efficiency_label  109.859629   5.712370e-24       True\n",
       "3       tot_time_label   10.736022   1.102766e-03       True\n",
       "4            orb_label    0.168578   6.815053e-01      False\n",
       "5            drb_label   15.802213   7.765439e-05       True\n",
       "6      more_3s_than_2s   28.184194   1.484461e-07       True\n",
       "7    more_ast_than_tov   11.947589   5.803844e-04       True\n",
       "8             pf_label   15.518935   8.990416e-05       True\n",
       "9   blk_stl_diff_label   12.458172   4.435211e-04       True\n",
       "10           pts_label   34.302074   7.271492e-09       True\n",
       "11         game_res_wl  713.648110  8.351023e-109       True\n",
       "12     gs_label_thirds    0.301792   7.395883e-01      False\n",
       "13          3pct_label   30.800739   4.065272e-08       True\n",
       "14        fg_pct_label   60.779327   2.329058e-14       True\n",
       "15       game_location   23.668338   1.416079e-06       True\n",
       "16        ft_pct_label    6.955586   8.542066e-03       True"
      ]
     },
     "execution_count": 51,
     "metadata": {},
     "output_type": "execute_result"
    }
   ],
   "source": [
    "# Categoricals\n",
    "\n",
    "data = []\n",
    "cols = ['Feature', 'F', 'P', 'Rejected?']\n",
    "statistically_sign_cols = []\n",
    "\n",
    "def anova_helper(df, cat_col, num_col='plus_minus'):\n",
    "    uniques = df[cat_col].unique()\n",
    "    data = []\n",
    "    for col in uniques:\n",
    "        cur_df = (df[cat_col] == col)\n",
    "        cur_df = df[cur_df][num_col]\n",
    "        data.append(cur_df.tolist())\n",
    "        \n",
    "    f, p = stats.f_oneway(*data)\n",
    "    return f, p\n",
    "\n",
    "ALPHA = 0.05\n",
    "\n",
    "for feature in cats:\n",
    "    f, p = anova_helper(df, feature)\n",
    "    row = [feature, f, p, p < ALPHA]\n",
    "    \n",
    "    if p < ALPHA:\n",
    "        statistically_sign_cols.append(feature)\n",
    "        \n",
    "    data.append(row)\n",
    "\n",
    "cats_df = pd.DataFrame(data=data, columns=cols)\n",
    "cats_df"
   ]
  },
  {
   "cell_type": "code",
   "execution_count": 52,
   "metadata": {},
   "outputs": [
    {
     "data": {
      "text/plain": [
       "['off_rating_label',\n",
       " 'game_res_label',\n",
       " 'efficiency_label',\n",
       " 'tot_time_label',\n",
       " 'drb_label',\n",
       " 'more_3s_than_2s',\n",
       " 'more_ast_than_tov',\n",
       " 'pf_label',\n",
       " 'blk_stl_diff_label',\n",
       " 'pts_label',\n",
       " 'game_res_wl',\n",
       " '3pct_label',\n",
       " 'fg_pct_label',\n",
       " 'game_location',\n",
       " 'ft_pct_label']"
      ]
     },
     "execution_count": 52,
     "metadata": {},
     "output_type": "execute_result"
    }
   ],
   "source": [
    "statistically_sign_cols"
   ]
  },
  {
   "cell_type": "code",
   "execution_count": 53,
   "metadata": {},
   "outputs": [],
   "source": [
    "for col in statistically_sign_cols:\n",
    "    df_X[col] = df[col]"
   ]
  },
  {
   "cell_type": "code",
   "execution_count": 54,
   "metadata": {},
   "outputs": [
    {
     "data": {
      "text/html": [
       "<div>\n",
       "<style scoped>\n",
       "    .dataframe tbody tr th:only-of-type {\n",
       "        vertical-align: middle;\n",
       "    }\n",
       "\n",
       "    .dataframe tbody tr th {\n",
       "        vertical-align: top;\n",
       "    }\n",
       "\n",
       "    .dataframe thead th {\n",
       "        text-align: right;\n",
       "    }\n",
       "</style>\n",
       "<table border=\"1\" class=\"dataframe\">\n",
       "  <thead>\n",
       "    <tr style=\"text-align: right;\">\n",
       "      <th></th>\n",
       "      <th>game_res_int</th>\n",
       "      <th>efficiency</th>\n",
       "      <th>efg</th>\n",
       "      <th>true_shooting%</th>\n",
       "      <th>ppp</th>\n",
       "      <th>gmsc</th>\n",
       "      <th>per</th>\n",
       "      <th>off_rating</th>\n",
       "      <th>pts_per_min</th>\n",
       "      <th>net_pos_responsible_for</th>\n",
       "      <th>...</th>\n",
       "      <th>more_3s_than_2s</th>\n",
       "      <th>more_ast_than_tov</th>\n",
       "      <th>pf_label</th>\n",
       "      <th>blk_stl_diff_label</th>\n",
       "      <th>pts_label</th>\n",
       "      <th>game_res_wl</th>\n",
       "      <th>3pct_label</th>\n",
       "      <th>fg_pct_label</th>\n",
       "      <th>game_location</th>\n",
       "      <th>ft_pct_label</th>\n",
       "    </tr>\n",
       "  </thead>\n",
       "  <tbody>\n",
       "    <tr>\n",
       "      <th>0</th>\n",
       "      <td>-0.436028</td>\n",
       "      <td>-0.386177</td>\n",
       "      <td>0.073803</td>\n",
       "      <td>-0.177265</td>\n",
       "      <td>-0.168749</td>\n",
       "      <td>-0.345790</td>\n",
       "      <td>-0.326595</td>\n",
       "      <td>-0.030210</td>\n",
       "      <td>-1.085387</td>\n",
       "      <td>0.477085</td>\n",
       "      <td>...</td>\n",
       "      <td>2s</td>\n",
       "      <td>ass</td>\n",
       "      <td>no</td>\n",
       "      <td>stl</td>\n",
       "      <td>below</td>\n",
       "      <td>L</td>\n",
       "      <td>below</td>\n",
       "      <td>above</td>\n",
       "      <td>home</td>\n",
       "      <td>below</td>\n",
       "    </tr>\n",
       "    <tr>\n",
       "      <th>1</th>\n",
       "      <td>-1.864380</td>\n",
       "      <td>-1.134970</td>\n",
       "      <td>0.564942</td>\n",
       "      <td>0.335971</td>\n",
       "      <td>-0.168749</td>\n",
       "      <td>-1.260650</td>\n",
       "      <td>-1.276973</td>\n",
       "      <td>-0.290466</td>\n",
       "      <td>-1.408018</td>\n",
       "      <td>-1.289449</td>\n",
       "      <td>...</td>\n",
       "      <td>2s</td>\n",
       "      <td>ass</td>\n",
       "      <td>yes</td>\n",
       "      <td>stl</td>\n",
       "      <td>below</td>\n",
       "      <td>L</td>\n",
       "      <td>above</td>\n",
       "      <td>above</td>\n",
       "      <td>away</td>\n",
       "      <td>below</td>\n",
       "    </tr>\n",
       "    <tr>\n",
       "      <th>2</th>\n",
       "      <td>0.176124</td>\n",
       "      <td>-0.479776</td>\n",
       "      <td>0.073803</td>\n",
       "      <td>-0.177265</td>\n",
       "      <td>-0.168749</td>\n",
       "      <td>-0.814111</td>\n",
       "      <td>-0.473336</td>\n",
       "      <td>-0.276244</td>\n",
       "      <td>-1.637705</td>\n",
       "      <td>-0.111760</td>\n",
       "      <td>...</td>\n",
       "      <td>2s</td>\n",
       "      <td>ass</td>\n",
       "      <td>yes</td>\n",
       "      <td>stl</td>\n",
       "      <td>below</td>\n",
       "      <td>W</td>\n",
       "      <td>above</td>\n",
       "      <td>above</td>\n",
       "      <td>home</td>\n",
       "      <td>below</td>\n",
       "    </tr>\n",
       "    <tr>\n",
       "      <th>3</th>\n",
       "      <td>-2.272481</td>\n",
       "      <td>-1.883764</td>\n",
       "      <td>-2.185433</td>\n",
       "      <td>-1.492245</td>\n",
       "      <td>-1.041283</td>\n",
       "      <td>-1.870557</td>\n",
       "      <td>-1.718956</td>\n",
       "      <td>-1.100140</td>\n",
       "      <td>-1.689854</td>\n",
       "      <td>-1.878293</td>\n",
       "      <td>...</td>\n",
       "      <td>2s</td>\n",
       "      <td>ass</td>\n",
       "      <td>yes</td>\n",
       "      <td>blk</td>\n",
       "      <td>below</td>\n",
       "      <td>L</td>\n",
       "      <td>below</td>\n",
       "      <td>below</td>\n",
       "      <td>home</td>\n",
       "      <td>below</td>\n",
       "    </tr>\n",
       "    <tr>\n",
       "      <th>4</th>\n",
       "      <td>-1.252229</td>\n",
       "      <td>-1.509367</td>\n",
       "      <td>-0.048981</td>\n",
       "      <td>-0.648888</td>\n",
       "      <td>-1.347024</td>\n",
       "      <td>-1.663624</td>\n",
       "      <td>-1.583541</td>\n",
       "      <td>-1.268553</td>\n",
       "      <td>-1.479707</td>\n",
       "      <td>-1.682012</td>\n",
       "      <td>...</td>\n",
       "      <td>2s</td>\n",
       "      <td>ass</td>\n",
       "      <td>yes</td>\n",
       "      <td>blk</td>\n",
       "      <td>below</td>\n",
       "      <td>L</td>\n",
       "      <td>above</td>\n",
       "      <td>above</td>\n",
       "      <td>away</td>\n",
       "      <td>below</td>\n",
       "    </tr>\n",
       "  </tbody>\n",
       "</table>\n",
       "<p>5 rows × 37 columns</p>\n",
       "</div>"
      ],
      "text/plain": [
       "   game_res_int  efficiency       efg  true_shooting%       ppp      gmsc  \\\n",
       "0     -0.436028   -0.386177  0.073803       -0.177265 -0.168749 -0.345790   \n",
       "1     -1.864380   -1.134970  0.564942        0.335971 -0.168749 -1.260650   \n",
       "2      0.176124   -0.479776  0.073803       -0.177265 -0.168749 -0.814111   \n",
       "3     -2.272481   -1.883764 -2.185433       -1.492245 -1.041283 -1.870557   \n",
       "4     -1.252229   -1.509367 -0.048981       -0.648888 -1.347024 -1.663624   \n",
       "\n",
       "        per  off_rating  pts_per_min  net_pos_responsible_for  ...  \\\n",
       "0 -0.326595   -0.030210    -1.085387                 0.477085  ...   \n",
       "1 -1.276973   -0.290466    -1.408018                -1.289449  ...   \n",
       "2 -0.473336   -0.276244    -1.637705                -0.111760  ...   \n",
       "3 -1.718956   -1.100140    -1.689854                -1.878293  ...   \n",
       "4 -1.583541   -1.268553    -1.479707                -1.682012  ...   \n",
       "\n",
       "   more_3s_than_2s  more_ast_than_tov  pf_label  blk_stl_diff_label  \\\n",
       "0               2s                ass        no                 stl   \n",
       "1               2s                ass       yes                 stl   \n",
       "2               2s                ass       yes                 stl   \n",
       "3               2s                ass       yes                 blk   \n",
       "4               2s                ass       yes                 blk   \n",
       "\n",
       "   pts_label  game_res_wl  3pct_label  fg_pct_label  game_location  \\\n",
       "0      below            L       below         above           home   \n",
       "1      below            L       above         above           away   \n",
       "2      below            W       above         above           home   \n",
       "3      below            L       below         below           home   \n",
       "4      below            L       above         above           away   \n",
       "\n",
       "   ft_pct_label  \n",
       "0         below  \n",
       "1         below  \n",
       "2         below  \n",
       "3         below  \n",
       "4         below  \n",
       "\n",
       "[5 rows x 37 columns]"
      ]
     },
     "execution_count": 54,
     "metadata": {},
     "output_type": "execute_result"
    }
   ],
   "source": [
    "df_X.head()"
   ]
  },
  {
   "cell_type": "code",
   "execution_count": 55,
   "metadata": {},
   "outputs": [],
   "source": [
    "for cat in statistically_sign_cols:\n",
    "    binarizer = LabelBinarizer()\n",
    "    data = binarizer.fit_transform(df_X[cat].values)  \n",
    "    df_X[cat] = data"
   ]
  },
  {
   "cell_type": "code",
   "execution_count": 56,
   "metadata": {},
   "outputs": [
    {
     "data": {
      "text/html": [
       "<div>\n",
       "<style scoped>\n",
       "    .dataframe tbody tr th:only-of-type {\n",
       "        vertical-align: middle;\n",
       "    }\n",
       "\n",
       "    .dataframe tbody tr th {\n",
       "        vertical-align: top;\n",
       "    }\n",
       "\n",
       "    .dataframe thead th {\n",
       "        text-align: right;\n",
       "    }\n",
       "</style>\n",
       "<table border=\"1\" class=\"dataframe\">\n",
       "  <thead>\n",
       "    <tr style=\"text-align: right;\">\n",
       "      <th></th>\n",
       "      <th>game_res_int</th>\n",
       "      <th>efficiency</th>\n",
       "      <th>efg</th>\n",
       "      <th>true_shooting%</th>\n",
       "      <th>ppp</th>\n",
       "      <th>gmsc</th>\n",
       "      <th>per</th>\n",
       "      <th>off_rating</th>\n",
       "      <th>pts_per_min</th>\n",
       "      <th>net_pos_responsible_for</th>\n",
       "      <th>...</th>\n",
       "      <th>more_3s_than_2s</th>\n",
       "      <th>more_ast_than_tov</th>\n",
       "      <th>pf_label</th>\n",
       "      <th>blk_stl_diff_label</th>\n",
       "      <th>pts_label</th>\n",
       "      <th>game_res_wl</th>\n",
       "      <th>3pct_label</th>\n",
       "      <th>fg_pct_label</th>\n",
       "      <th>game_location</th>\n",
       "      <th>ft_pct_label</th>\n",
       "    </tr>\n",
       "  </thead>\n",
       "  <tbody>\n",
       "    <tr>\n",
       "      <th>0</th>\n",
       "      <td>-0.436028</td>\n",
       "      <td>-0.386177</td>\n",
       "      <td>0.073803</td>\n",
       "      <td>-0.177265</td>\n",
       "      <td>-0.168749</td>\n",
       "      <td>-0.345790</td>\n",
       "      <td>-0.326595</td>\n",
       "      <td>-0.030210</td>\n",
       "      <td>-1.085387</td>\n",
       "      <td>0.477085</td>\n",
       "      <td>...</td>\n",
       "      <td>0</td>\n",
       "      <td>0</td>\n",
       "      <td>0</td>\n",
       "      <td>1</td>\n",
       "      <td>1</td>\n",
       "      <td>0</td>\n",
       "      <td>1</td>\n",
       "      <td>0</td>\n",
       "      <td>1</td>\n",
       "      <td>1</td>\n",
       "    </tr>\n",
       "    <tr>\n",
       "      <th>1</th>\n",
       "      <td>-1.864380</td>\n",
       "      <td>-1.134970</td>\n",
       "      <td>0.564942</td>\n",
       "      <td>0.335971</td>\n",
       "      <td>-0.168749</td>\n",
       "      <td>-1.260650</td>\n",
       "      <td>-1.276973</td>\n",
       "      <td>-0.290466</td>\n",
       "      <td>-1.408018</td>\n",
       "      <td>-1.289449</td>\n",
       "      <td>...</td>\n",
       "      <td>0</td>\n",
       "      <td>0</td>\n",
       "      <td>1</td>\n",
       "      <td>1</td>\n",
       "      <td>1</td>\n",
       "      <td>0</td>\n",
       "      <td>0</td>\n",
       "      <td>0</td>\n",
       "      <td>0</td>\n",
       "      <td>1</td>\n",
       "    </tr>\n",
       "    <tr>\n",
       "      <th>2</th>\n",
       "      <td>0.176124</td>\n",
       "      <td>-0.479776</td>\n",
       "      <td>0.073803</td>\n",
       "      <td>-0.177265</td>\n",
       "      <td>-0.168749</td>\n",
       "      <td>-0.814111</td>\n",
       "      <td>-0.473336</td>\n",
       "      <td>-0.276244</td>\n",
       "      <td>-1.637705</td>\n",
       "      <td>-0.111760</td>\n",
       "      <td>...</td>\n",
       "      <td>0</td>\n",
       "      <td>0</td>\n",
       "      <td>1</td>\n",
       "      <td>1</td>\n",
       "      <td>1</td>\n",
       "      <td>1</td>\n",
       "      <td>0</td>\n",
       "      <td>0</td>\n",
       "      <td>1</td>\n",
       "      <td>1</td>\n",
       "    </tr>\n",
       "    <tr>\n",
       "      <th>3</th>\n",
       "      <td>-2.272481</td>\n",
       "      <td>-1.883764</td>\n",
       "      <td>-2.185433</td>\n",
       "      <td>-1.492245</td>\n",
       "      <td>-1.041283</td>\n",
       "      <td>-1.870557</td>\n",
       "      <td>-1.718956</td>\n",
       "      <td>-1.100140</td>\n",
       "      <td>-1.689854</td>\n",
       "      <td>-1.878293</td>\n",
       "      <td>...</td>\n",
       "      <td>0</td>\n",
       "      <td>0</td>\n",
       "      <td>1</td>\n",
       "      <td>0</td>\n",
       "      <td>1</td>\n",
       "      <td>0</td>\n",
       "      <td>1</td>\n",
       "      <td>1</td>\n",
       "      <td>1</td>\n",
       "      <td>1</td>\n",
       "    </tr>\n",
       "    <tr>\n",
       "      <th>4</th>\n",
       "      <td>-1.252229</td>\n",
       "      <td>-1.509367</td>\n",
       "      <td>-0.048981</td>\n",
       "      <td>-0.648888</td>\n",
       "      <td>-1.347024</td>\n",
       "      <td>-1.663624</td>\n",
       "      <td>-1.583541</td>\n",
       "      <td>-1.268553</td>\n",
       "      <td>-1.479707</td>\n",
       "      <td>-1.682012</td>\n",
       "      <td>...</td>\n",
       "      <td>0</td>\n",
       "      <td>0</td>\n",
       "      <td>1</td>\n",
       "      <td>0</td>\n",
       "      <td>1</td>\n",
       "      <td>0</td>\n",
       "      <td>0</td>\n",
       "      <td>0</td>\n",
       "      <td>0</td>\n",
       "      <td>1</td>\n",
       "    </tr>\n",
       "  </tbody>\n",
       "</table>\n",
       "<p>5 rows × 37 columns</p>\n",
       "</div>"
      ],
      "text/plain": [
       "   game_res_int  efficiency       efg  true_shooting%       ppp      gmsc  \\\n",
       "0     -0.436028   -0.386177  0.073803       -0.177265 -0.168749 -0.345790   \n",
       "1     -1.864380   -1.134970  0.564942        0.335971 -0.168749 -1.260650   \n",
       "2      0.176124   -0.479776  0.073803       -0.177265 -0.168749 -0.814111   \n",
       "3     -2.272481   -1.883764 -2.185433       -1.492245 -1.041283 -1.870557   \n",
       "4     -1.252229   -1.509367 -0.048981       -0.648888 -1.347024 -1.663624   \n",
       "\n",
       "        per  off_rating  pts_per_min  net_pos_responsible_for  ...  \\\n",
       "0 -0.326595   -0.030210    -1.085387                 0.477085  ...   \n",
       "1 -1.276973   -0.290466    -1.408018                -1.289449  ...   \n",
       "2 -0.473336   -0.276244    -1.637705                -0.111760  ...   \n",
       "3 -1.718956   -1.100140    -1.689854                -1.878293  ...   \n",
       "4 -1.583541   -1.268553    -1.479707                -1.682012  ...   \n",
       "\n",
       "   more_3s_than_2s  more_ast_than_tov  pf_label  blk_stl_diff_label  \\\n",
       "0                0                  0         0                   1   \n",
       "1                0                  0         1                   1   \n",
       "2                0                  0         1                   1   \n",
       "3                0                  0         1                   0   \n",
       "4                0                  0         1                   0   \n",
       "\n",
       "   pts_label  game_res_wl  3pct_label  fg_pct_label  game_location  \\\n",
       "0          1            0           1             0              1   \n",
       "1          1            0           0             0              0   \n",
       "2          1            1           0             0              1   \n",
       "3          1            0           1             1              1   \n",
       "4          1            0           0             0              0   \n",
       "\n",
       "   ft_pct_label  \n",
       "0             1  \n",
       "1             1  \n",
       "2             1  \n",
       "3             1  \n",
       "4             1  \n",
       "\n",
       "[5 rows x 37 columns]"
      ]
     },
     "execution_count": 56,
     "metadata": {},
     "output_type": "execute_result"
    }
   ],
   "source": [
    "df_X.head()"
   ]
  },
  {
   "cell_type": "code",
   "execution_count": 57,
   "metadata": {},
   "outputs": [
    {
     "data": {
      "text/plain": [
       "37"
      ]
     },
     "execution_count": 57,
     "metadata": {},
     "output_type": "execute_result"
    }
   ],
   "source": [
    "len(df_X.columns)"
   ]
  },
  {
   "cell_type": "code",
   "execution_count": 58,
   "metadata": {},
   "outputs": [
    {
     "data": {
      "text/html": [
       "<div>\n",
       "<style scoped>\n",
       "    .dataframe tbody tr th:only-of-type {\n",
       "        vertical-align: middle;\n",
       "    }\n",
       "\n",
       "    .dataframe tbody tr th {\n",
       "        vertical-align: top;\n",
       "    }\n",
       "\n",
       "    .dataframe thead th {\n",
       "        text-align: right;\n",
       "    }\n",
       "</style>\n",
       "<table border=\"1\" class=\"dataframe\">\n",
       "  <thead>\n",
       "    <tr style=\"text-align: right;\">\n",
       "      <th></th>\n",
       "      <th>0</th>\n",
       "      <th>1</th>\n",
       "      <th>2</th>\n",
       "      <th>3</th>\n",
       "      <th>4</th>\n",
       "      <th>5</th>\n",
       "      <th>6</th>\n",
       "      <th>7</th>\n",
       "      <th>8</th>\n",
       "      <th>9</th>\n",
       "      <th>10</th>\n",
       "      <th>11</th>\n",
       "      <th>12</th>\n",
       "      <th>13</th>\n",
       "      <th>14</th>\n",
       "      <th>15</th>\n",
       "      <th>16</th>\n",
       "      <th>17</th>\n",
       "    </tr>\n",
       "  </thead>\n",
       "  <tbody>\n",
       "    <tr>\n",
       "      <th>0</th>\n",
       "      <td>0.667065</td>\n",
       "      <td>0.715196</td>\n",
       "      <td>-0.134622</td>\n",
       "      <td>1.388408</td>\n",
       "      <td>-1.099351</td>\n",
       "      <td>1.783871</td>\n",
       "      <td>-0.144413</td>\n",
       "      <td>-0.293860</td>\n",
       "      <td>0.107811</td>\n",
       "      <td>0.134038</td>\n",
       "      <td>-0.263697</td>\n",
       "      <td>0.427196</td>\n",
       "      <td>0.407305</td>\n",
       "      <td>0.497486</td>\n",
       "      <td>0.306391</td>\n",
       "      <td>-0.081485</td>\n",
       "      <td>0.176336</td>\n",
       "      <td>0.290532</td>\n",
       "    </tr>\n",
       "    <tr>\n",
       "      <th>1</th>\n",
       "      <td>4.293968</td>\n",
       "      <td>-1.233713</td>\n",
       "      <td>2.690682</td>\n",
       "      <td>1.322541</td>\n",
       "      <td>-1.412997</td>\n",
       "      <td>0.569174</td>\n",
       "      <td>-0.219411</td>\n",
       "      <td>-0.495396</td>\n",
       "      <td>-0.262668</td>\n",
       "      <td>-0.095350</td>\n",
       "      <td>0.460635</td>\n",
       "      <td>-0.370666</td>\n",
       "      <td>0.189691</td>\n",
       "      <td>-0.009096</td>\n",
       "      <td>-0.550789</td>\n",
       "      <td>0.234122</td>\n",
       "      <td>0.567009</td>\n",
       "      <td>0.117863</td>\n",
       "    </tr>\n",
       "    <tr>\n",
       "      <th>2</th>\n",
       "      <td>-1.331891</td>\n",
       "      <td>5.191428</td>\n",
       "      <td>0.420770</td>\n",
       "      <td>2.311292</td>\n",
       "      <td>-1.358544</td>\n",
       "      <td>1.396007</td>\n",
       "      <td>0.151759</td>\n",
       "      <td>-0.135343</td>\n",
       "      <td>0.273006</td>\n",
       "      <td>1.112752</td>\n",
       "      <td>0.667156</td>\n",
       "      <td>-0.473497</td>\n",
       "      <td>-0.119627</td>\n",
       "      <td>-0.343205</td>\n",
       "      <td>0.045872</td>\n",
       "      <td>-0.100892</td>\n",
       "      <td>0.986336</td>\n",
       "      <td>0.319495</td>\n",
       "    </tr>\n",
       "    <tr>\n",
       "      <th>3</th>\n",
       "      <td>7.720479</td>\n",
       "      <td>-1.390285</td>\n",
       "      <td>2.678365</td>\n",
       "      <td>3.544642</td>\n",
       "      <td>1.435588</td>\n",
       "      <td>-0.399677</td>\n",
       "      <td>1.836904</td>\n",
       "      <td>-0.643924</td>\n",
       "      <td>-0.779904</td>\n",
       "      <td>0.800422</td>\n",
       "      <td>-1.080528</td>\n",
       "      <td>-0.509603</td>\n",
       "      <td>-0.797124</td>\n",
       "      <td>-0.714595</td>\n",
       "      <td>-1.198053</td>\n",
       "      <td>1.531666</td>\n",
       "      <td>0.006890</td>\n",
       "      <td>0.698071</td>\n",
       "    </tr>\n",
       "    <tr>\n",
       "      <th>4</th>\n",
       "      <td>6.537953</td>\n",
       "      <td>-1.121569</td>\n",
       "      <td>2.114602</td>\n",
       "      <td>-0.008603</td>\n",
       "      <td>-0.399982</td>\n",
       "      <td>0.331020</td>\n",
       "      <td>-0.039187</td>\n",
       "      <td>-0.886425</td>\n",
       "      <td>-0.487523</td>\n",
       "      <td>0.182439</td>\n",
       "      <td>0.356083</td>\n",
       "      <td>-0.311613</td>\n",
       "      <td>-0.703735</td>\n",
       "      <td>-0.394634</td>\n",
       "      <td>0.010905</td>\n",
       "      <td>-0.254101</td>\n",
       "      <td>0.607332</td>\n",
       "      <td>-0.108208</td>\n",
       "    </tr>\n",
       "  </tbody>\n",
       "</table>\n",
       "</div>"
      ],
      "text/plain": [
       "         0         1         2         3         4         5         6   \\\n",
       "0  0.667065  0.715196 -0.134622  1.388408 -1.099351  1.783871 -0.144413   \n",
       "1  4.293968 -1.233713  2.690682  1.322541 -1.412997  0.569174 -0.219411   \n",
       "2 -1.331891  5.191428  0.420770  2.311292 -1.358544  1.396007  0.151759   \n",
       "3  7.720479 -1.390285  2.678365  3.544642  1.435588 -0.399677  1.836904   \n",
       "4  6.537953 -1.121569  2.114602 -0.008603 -0.399982  0.331020 -0.039187   \n",
       "\n",
       "         7         8         9         10        11        12        13  \\\n",
       "0 -0.293860  0.107811  0.134038 -0.263697  0.427196  0.407305  0.497486   \n",
       "1 -0.495396 -0.262668 -0.095350  0.460635 -0.370666  0.189691 -0.009096   \n",
       "2 -0.135343  0.273006  1.112752  0.667156 -0.473497 -0.119627 -0.343205   \n",
       "3 -0.643924 -0.779904  0.800422 -1.080528 -0.509603 -0.797124 -0.714595   \n",
       "4 -0.886425 -0.487523  0.182439  0.356083 -0.311613 -0.703735 -0.394634   \n",
       "\n",
       "         14        15        16        17  \n",
       "0  0.306391 -0.081485  0.176336  0.290532  \n",
       "1 -0.550789  0.234122  0.567009  0.117863  \n",
       "2  0.045872 -0.100892  0.986336  0.319495  \n",
       "3 -1.198053  1.531666  0.006890  0.698071  \n",
       "4  0.010905 -0.254101  0.607332 -0.108208  "
      ]
     },
     "execution_count": 58,
     "metadata": {},
     "output_type": "execute_result"
    }
   ],
   "source": [
    "# pca = PCA(0.9)\n",
    "pca = PCA(0.975)\n",
    "# pca = PCA(0.985)\n",
    "\n",
    "df_X = pca.fit_transform(df_X)\n",
    "df_X = pd.DataFrame(data=df_X)\n",
    "\n",
    "df_X.head()"
   ]
  },
  {
   "cell_type": "code",
   "execution_count": 59,
   "metadata": {},
   "outputs": [
    {
     "data": {
      "text/plain": [
       "18"
      ]
     },
     "execution_count": 59,
     "metadata": {},
     "output_type": "execute_result"
    }
   ],
   "source": [
    "len(df_X.columns)"
   ]
  },
  {
   "cell_type": "markdown",
   "metadata": {},
   "source": [
    "# Testing"
   ]
  },
  {
   "cell_type": "code",
   "execution_count": 60,
   "metadata": {},
   "outputs": [],
   "source": [
    "X_train, X_test, y_train, y_test = train_test_split(df_X, df_y, train_size=0.8)"
   ]
  },
  {
   "cell_type": "code",
   "execution_count": 61,
   "metadata": {},
   "outputs": [],
   "source": [
    "def scores_info(scores):\n",
    "    print(scores.mean())\n",
    "    print(scores.std())\n",
    "    print(scores)"
   ]
  },
  {
   "cell_type": "markdown",
   "metadata": {},
   "source": [
    "## LinearRegression"
   ]
  },
  {
   "cell_type": "code",
   "execution_count": 62,
   "metadata": {},
   "outputs": [],
   "source": [
    "lin_reg = LinearRegression()"
   ]
  },
  {
   "cell_type": "code",
   "execution_count": 63,
   "metadata": {},
   "outputs": [
    {
     "data": {
      "text/plain": [
       "(           0         1         2         3         4         5         6   \\\n",
       " 622 -4.178851 -0.849784  0.165681 -0.661415  0.305587 -0.143981 -0.007591   \n",
       " 452 -2.030899 -2.366652 -1.516803  0.459574  0.464596  0.101901 -0.805926   \n",
       " 185  1.737670 -0.026990  0.503955  2.695238  0.933846  0.162966 -0.057327   \n",
       " 26   4.666798 -0.762128  0.029846  0.908413 -0.370455  0.332941 -0.018804   \n",
       " 644  2.705686  1.028233  0.123210 -1.499685 -0.334775 -1.118476 -0.200882   \n",
       " \n",
       "            7         8         9         10        11        12        13  \\\n",
       " 622 -0.273047  0.272428  0.659395 -0.269660  0.005574  0.083728 -0.414489   \n",
       " 452  0.060705 -0.410950 -0.720793 -0.017056  0.408142  0.264263 -0.213075   \n",
       " 185 -0.054574 -0.436669 -0.429203 -0.138724  0.222889  0.347287  0.221756   \n",
       " 26   0.150483 -0.171391  0.634034  0.559748  0.438482 -0.412183  0.818693   \n",
       " 644  0.673989  0.372805  0.347680 -0.360234  0.131548  0.578903  0.460497   \n",
       " \n",
       "            14        15        16        17  \n",
       " 622 -0.146810 -0.207287 -0.395659  0.086200  \n",
       " 452  0.551112 -0.279598  0.106220  0.151017  \n",
       " 185 -0.273173 -0.271486 -0.320189  0.059365  \n",
       " 26   0.081796  0.102905  0.119089 -0.090998  \n",
       " 644 -0.428271  0.082743 -0.054191  0.339597  , 622     11\n",
       " 452     -4\n",
       " 185    -19\n",
       " 26      -3\n",
       " 644     19\n",
       " Name: plus_minus, dtype: object)"
      ]
     },
     "execution_count": 63,
     "metadata": {},
     "output_type": "execute_result"
    }
   ],
   "source": [
    "X_train.head(), y_train.head()"
   ]
  },
  {
   "cell_type": "code",
   "execution_count": 64,
   "metadata": {},
   "outputs": [
    {
     "name": "stdout",
     "output_type": "stream",
     "text": [
      "0.6870658883185097\n",
      "0.02762419537511146\n",
      "[0.65755442 0.73912036 0.67296547 0.68330611 0.68238308]\n"
     ]
    }
   ],
   "source": [
    "scores = cross_val_score(lin_reg, df_X, df_y, cv=5)\n",
    "scores_info(scores)"
   ]
  },
  {
   "cell_type": "markdown",
   "metadata": {},
   "source": [
    "## SVR"
   ]
  },
  {
   "cell_type": "code",
   "execution_count": 121,
   "metadata": {},
   "outputs": [],
   "source": [
    "svr = SVR()"
   ]
  },
  {
   "cell_type": "code",
   "execution_count": 122,
   "metadata": {},
   "outputs": [],
   "source": [
    "param_grid = [\n",
    "    {\n",
    "        'C': [0.1, 0.5, 1, 2.5, 5],\n",
    "        'kernel': ['poly', 'rbf', 'sigmoid', 'linear'],\n",
    "        'degree': [3, 6, 9],\n",
    "        'gamma': ['auto', 'scale'], \n",
    "        'epsilon': [0, 0.1, 0.5]\n",
    "    }\n",
    "]"
   ]
  },
  {
   "cell_type": "code",
   "execution_count": 123,
   "metadata": {},
   "outputs": [],
   "source": [
    "fe_gscv_svr = GridSearchCV(svr, param_grid, cv=5, scoring='neg_mean_squared_error', refit='neg_mean_squared_error')"
   ]
  },
  {
   "cell_type": "code",
   "execution_count": 124,
   "metadata": {},
   "outputs": [
    {
     "data": {
      "text/plain": [
       "GridSearchCV(cv=5, error_score='raise-deprecating',\n",
       "             estimator=SVR(C=1.0, cache_size=200, coef0=0.0, degree=3,\n",
       "                           epsilon=0.1, gamma='auto_deprecated', kernel='rbf',\n",
       "                           max_iter=-1, shrinking=True, tol=0.001,\n",
       "                           verbose=False),\n",
       "             iid='warn', n_jobs=None,\n",
       "             param_grid=[{'C': [0.1, 0.5, 1, 2.5, 5], 'degree': [3, 6, 9],\n",
       "                          'epsilon': [0, 0.1, 0.5], 'gamma': ['auto', 'scale'],\n",
       "                          'kernel': ['poly', 'rbf', 'sigmoid', 'linear']}],\n",
       "             pre_dispatch='2*n_jobs', refit='neg_mean_squared_error',\n",
       "             return_train_score=False, scoring='neg_mean_squared_error',\n",
       "             verbose=0)"
      ]
     },
     "execution_count": 124,
     "metadata": {},
     "output_type": "execute_result"
    }
   ],
   "source": [
    "fe_gscv_svr.fit(df_X, df_y)"
   ]
  },
  {
   "cell_type": "code",
   "execution_count": 125,
   "metadata": {},
   "outputs": [
    {
     "data": {
      "text/plain": [
       "{'C': 0.5, 'degree': 3, 'epsilon': 0.5, 'gamma': 'auto', 'kernel': 'linear'}"
      ]
     },
     "execution_count": 125,
     "metadata": {},
     "output_type": "execute_result"
    }
   ],
   "source": [
    "fe_gscv_svr.best_params_"
   ]
  },
  {
   "cell_type": "code",
   "execution_count": 126,
   "metadata": {},
   "outputs": [
    {
     "data": {
      "text/plain": [
       "-52.0353478220923"
      ]
     },
     "execution_count": 126,
     "metadata": {},
     "output_type": "execute_result"
    }
   ],
   "source": [
    "fe_gscv_svr.best_score_"
   ]
  },
  {
   "cell_type": "code",
   "execution_count": 116,
   "metadata": {},
   "outputs": [
    {
     "data": {
      "text/plain": [
       "SVR(C=1.0, cache_size=200, coef0=0.0, degree=3, epsilon=0.1,\n",
       "    gamma='auto_deprecated', kernel='rbf', max_iter=-1, shrinking=True,\n",
       "    tol=0.001, verbose=False)"
      ]
     },
     "execution_count": 116,
     "metadata": {},
     "output_type": "execute_result"
    }
   ],
   "source": [
    "svr.fit(X_train, y_train)"
   ]
  },
  {
   "cell_type": "code",
   "execution_count": 117,
   "metadata": {},
   "outputs": [
    {
     "data": {
      "text/plain": [
       "0.6518042534040429"
      ]
     },
     "execution_count": 117,
     "metadata": {},
     "output_type": "execute_result"
    }
   ],
   "source": [
    "svr.score(X_train, y_train)"
   ]
  },
  {
   "cell_type": "code",
   "execution_count": 118,
   "metadata": {},
   "outputs": [],
   "source": [
    "preds = svr.predict(X_test)"
   ]
  },
  {
   "cell_type": "code",
   "execution_count": 119,
   "metadata": {},
   "outputs": [],
   "source": [
    "mse = mean_squared_error(preds, y_test)"
   ]
  },
  {
   "cell_type": "code",
   "execution_count": 120,
   "metadata": {},
   "outputs": [
    {
     "data": {
      "text/plain": [
       "(62.82562475229219, 7.926261713588077)"
      ]
     },
     "execution_count": 120,
     "metadata": {},
     "output_type": "execute_result"
    }
   ],
   "source": [
    "mse, math.sqrt(mse)"
   ]
  },
  {
   "cell_type": "markdown",
   "metadata": {},
   "source": [
    "### Random Forest Regressor"
   ]
  },
  {
   "cell_type": "code",
   "execution_count": 65,
   "metadata": {},
   "outputs": [],
   "source": [
    "rfr = RandomForestRegressor(random_state=42)"
   ]
  },
  {
   "cell_type": "code",
   "execution_count": 66,
   "metadata": {},
   "outputs": [],
   "source": [
    "param_grid = [\n",
    "    {\n",
    "        'n_estimators': [100, 300, 500, 750],\n",
    "        'max_features': ['sqrt', 'log2'], \n",
    "        'min_impurity_split': [0.0, 1e-7]\n",
    "    }\n",
    "]"
   ]
  },
  {
   "cell_type": "code",
   "execution_count": 67,
   "metadata": {},
   "outputs": [],
   "source": [
    "fe_gscv_rfr = GridSearchCV(rfr, param_grid, cv=5, scoring='neg_mean_squared_error', refit='neg_mean_squared_error')"
   ]
  },
  {
   "cell_type": "code",
   "execution_count": 68,
   "metadata": {},
   "outputs": [
    {
     "data": {
      "text/plain": [
       "GridSearchCV(cv=5, error_score='raise-deprecating',\n",
       "             estimator=RandomForestRegressor(bootstrap=True, criterion='mse',\n",
       "                                             max_depth=None,\n",
       "                                             max_features='auto',\n",
       "                                             max_leaf_nodes=None,\n",
       "                                             min_impurity_decrease=0.0,\n",
       "                                             min_impurity_split=None,\n",
       "                                             min_samples_leaf=1,\n",
       "                                             min_samples_split=2,\n",
       "                                             min_weight_fraction_leaf=0.0,\n",
       "                                             n_estimators='warn', n_jobs=None,\n",
       "                                             oob_score=False, random_state=42,\n",
       "                                             verbose=0, warm_start=False),\n",
       "             iid='warn', n_jobs=None,\n",
       "             param_grid=[{'max_features': ['sqrt', 'log2'],\n",
       "                          'min_impurity_split': [0.0, 1e-07],\n",
       "                          'n_estimators': [100, 300, 500, 750]}],\n",
       "             pre_dispatch='2*n_jobs', refit='neg_mean_squared_error',\n",
       "             return_train_score=False, scoring='neg_mean_squared_error',\n",
       "             verbose=0)"
      ]
     },
     "execution_count": 68,
     "metadata": {},
     "output_type": "execute_result"
    }
   ],
   "source": [
    "fe_gscv_rfr.fit(df_X, df_y)"
   ]
  },
  {
   "cell_type": "code",
   "execution_count": 69,
   "metadata": {},
   "outputs": [
    {
     "data": {
      "text/plain": [
       "{'max_features': 'sqrt', 'min_impurity_split': 0.0, 'n_estimators': 750}"
      ]
     },
     "execution_count": 69,
     "metadata": {},
     "output_type": "execute_result"
    }
   ],
   "source": [
    "fe_gscv_rfr.best_params_"
   ]
  },
  {
   "cell_type": "code",
   "execution_count": 70,
   "metadata": {
    "scrolled": true
   },
   "outputs": [
    {
     "data": {
      "text/plain": [
       "-73.48095891146082"
      ]
     },
     "execution_count": 70,
     "metadata": {},
     "output_type": "execute_result"
    }
   ],
   "source": [
    "fe_gscv_rfr.best_score_"
   ]
  },
  {
   "cell_type": "code",
   "execution_count": 71,
   "metadata": {},
   "outputs": [],
   "source": [
    "best_rfr = fe_gscv_rfr.best_estimator_"
   ]
  },
  {
   "cell_type": "code",
   "execution_count": 72,
   "metadata": {},
   "outputs": [
    {
     "data": {
      "text/plain": [
       "RandomForestRegressor(bootstrap=True, criterion='mse', max_depth=None,\n",
       "                      max_features='sqrt', max_leaf_nodes=None,\n",
       "                      min_impurity_decrease=0.0, min_impurity_split=0.0,\n",
       "                      min_samples_leaf=1, min_samples_split=2,\n",
       "                      min_weight_fraction_leaf=0.0, n_estimators=750,\n",
       "                      n_jobs=None, oob_score=False, random_state=42, verbose=0,\n",
       "                      warm_start=False)"
      ]
     },
     "execution_count": 72,
     "metadata": {},
     "output_type": "execute_result"
    }
   ],
   "source": [
    "best_rfr.fit(X_train, y_train)"
   ]
  },
  {
   "cell_type": "code",
   "execution_count": 73,
   "metadata": {},
   "outputs": [
    {
     "data": {
      "text/plain": [
       "0.9490024748870269"
      ]
     },
     "execution_count": 73,
     "metadata": {},
     "output_type": "execute_result"
    }
   ],
   "source": [
    "best_rfr.score(X_train, y_train)"
   ]
  },
  {
   "cell_type": "code",
   "execution_count": 74,
   "metadata": {},
   "outputs": [],
   "source": [
    "preds = best_rfr.predict(X_test)"
   ]
  },
  {
   "cell_type": "code",
   "execution_count": 75,
   "metadata": {},
   "outputs": [],
   "source": [
    "mse = mean_squared_error(preds, y_test)"
   ]
  },
  {
   "cell_type": "code",
   "execution_count": 76,
   "metadata": {},
   "outputs": [
    {
     "data": {
      "text/plain": [
       "(60.318557714285724, 7.766502283157182)"
      ]
     },
     "execution_count": 76,
     "metadata": {},
     "output_type": "execute_result"
    }
   ],
   "source": [
    "mse, math.sqrt(mse)"
   ]
  },
  {
   "cell_type": "code",
   "execution_count": 77,
   "metadata": {},
   "outputs": [
    {
     "name": "stdout",
     "output_type": "stream",
     "text": [
      "[0.56021109 0.60655156 0.54802227 0.50963446 0.56400443] 0.5576847605312087 0.031101383129026567\n"
     ]
    }
   ],
   "source": [
    "scores = cross_val_score(rfr, df_X, df_y, cv=5)\n",
    "print(scores, scores.mean(), scores.std())"
   ]
  },
  {
   "cell_type": "markdown",
   "metadata": {},
   "source": [
    "### SGD"
   ]
  },
  {
   "cell_type": "code",
   "execution_count": 78,
   "metadata": {},
   "outputs": [],
   "source": [
    "sgd = SGDRegressor(random_state=42)"
   ]
  },
  {
   "cell_type": "code",
   "execution_count": 79,
   "metadata": {},
   "outputs": [],
   "source": [
    "param_grid = [\n",
    "    {\n",
    "        'penalty': ['l1', 'l2'],\n",
    "        'epsilon': [0.0, 0.1, 0.5], \n",
    "        'learning_rate': ['constant', 'optimal'],\n",
    "        'eta0': [0.001, 0.01, 0.025, 0.05]\n",
    "    }\n",
    "]"
   ]
  },
  {
   "cell_type": "code",
   "execution_count": 80,
   "metadata": {},
   "outputs": [],
   "source": [
    "fe_gscv_sgd = GridSearchCV(sgd, param_grid, cv=5, scoring='neg_mean_squared_error', refit='neg_mean_squared_error')"
   ]
  },
  {
   "cell_type": "code",
   "execution_count": 81,
   "metadata": {},
   "outputs": [
    {
     "data": {
      "text/plain": [
       "GridSearchCV(cv=5, error_score='raise-deprecating',\n",
       "             estimator=SGDRegressor(alpha=0.0001, average=False,\n",
       "                                    early_stopping=False, epsilon=0.1,\n",
       "                                    eta0=0.01, fit_intercept=True,\n",
       "                                    l1_ratio=0.15, learning_rate='invscaling',\n",
       "                                    loss='squared_loss', max_iter=1000,\n",
       "                                    n_iter_no_change=5, penalty='l2',\n",
       "                                    power_t=0.25, random_state=42, shuffle=True,\n",
       "                                    tol=0.001, validation_fraction=0.1,\n",
       "                                    verbose=0, warm_start=False),\n",
       "             iid='warn', n_jobs=None,\n",
       "             param_grid=[{'epsilon': [0.0, 0.1, 0.5],\n",
       "                          'eta0': [0.001, 0.01, 0.025, 0.05],\n",
       "                          'learning_rate': ['constant', 'optimal'],\n",
       "                          'penalty': ['l1', 'l2']}],\n",
       "             pre_dispatch='2*n_jobs', refit='neg_mean_squared_error',\n",
       "             return_train_score=False, scoring='neg_mean_squared_error',\n",
       "             verbose=0)"
      ]
     },
     "execution_count": 81,
     "metadata": {},
     "output_type": "execute_result"
    }
   ],
   "source": [
    "fe_gscv_sgd.fit(df_X, df_y)"
   ]
  },
  {
   "cell_type": "code",
   "execution_count": 82,
   "metadata": {},
   "outputs": [
    {
     "data": {
      "text/plain": [
       "{'epsilon': 0.0, 'eta0': 0.001, 'learning_rate': 'constant', 'penalty': 'l2'}"
      ]
     },
     "execution_count": 82,
     "metadata": {},
     "output_type": "execute_result"
    }
   ],
   "source": [
    "fe_gscv_sgd.best_params_"
   ]
  },
  {
   "cell_type": "code",
   "execution_count": 83,
   "metadata": {},
   "outputs": [
    {
     "data": {
      "text/plain": [
       "-51.569160815191935"
      ]
     },
     "execution_count": 83,
     "metadata": {},
     "output_type": "execute_result"
    }
   ],
   "source": [
    "fe_gscv_sgd.best_score_"
   ]
  },
  {
   "cell_type": "code",
   "execution_count": 84,
   "metadata": {},
   "outputs": [],
   "source": [
    "best_sgd = fe_gscv_sgd.best_estimator_"
   ]
  },
  {
   "cell_type": "code",
   "execution_count": 85,
   "metadata": {},
   "outputs": [
    {
     "data": {
      "text/plain": [
       "SGDRegressor(alpha=0.0001, average=False, early_stopping=False, epsilon=0.0,\n",
       "             eta0=0.001, fit_intercept=True, l1_ratio=0.15,\n",
       "             learning_rate='constant', loss='squared_loss', max_iter=1000,\n",
       "             n_iter_no_change=5, penalty='l2', power_t=0.25, random_state=42,\n",
       "             shuffle=True, tol=0.001, validation_fraction=0.1, verbose=0,\n",
       "             warm_start=False)"
      ]
     },
     "execution_count": 85,
     "metadata": {},
     "output_type": "execute_result"
    }
   ],
   "source": [
    "best_sgd.fit(X_train, y_train)"
   ]
  },
  {
   "cell_type": "code",
   "execution_count": 86,
   "metadata": {},
   "outputs": [
    {
     "data": {
      "text/plain": [
       "0.7440068000416169"
      ]
     },
     "execution_count": 86,
     "metadata": {},
     "output_type": "execute_result"
    }
   ],
   "source": [
    "best_sgd.score(X_train, y_train)"
   ]
  },
  {
   "cell_type": "code",
   "execution_count": 87,
   "metadata": {},
   "outputs": [],
   "source": [
    "preds = best_sgd.predict(X_test)"
   ]
  },
  {
   "cell_type": "code",
   "execution_count": 88,
   "metadata": {},
   "outputs": [],
   "source": [
    "mse = mean_squared_error(preds, y_test)"
   ]
  },
  {
   "cell_type": "code",
   "execution_count": 89,
   "metadata": {},
   "outputs": [
    {
     "data": {
      "text/plain": [
       "(45.39568127345923, 6.737631725870688)"
      ]
     },
     "execution_count": 89,
     "metadata": {},
     "output_type": "execute_result"
    }
   ],
   "source": [
    "mse, math.sqrt(mse)"
   ]
  },
  {
   "cell_type": "code",
   "execution_count": 90,
   "metadata": {},
   "outputs": [
    {
     "name": "stdout",
     "output_type": "stream",
     "text": [
      "0.6870928074484404\n",
      "0.03063837858599899\n",
      "[0.65231767 0.74387982 0.67177034 0.68267007 0.68482613]\n"
     ]
    }
   ],
   "source": [
    "scores = cross_val_score(best_sgd, df_X, df_y, cv=5)\n",
    "scores_info(scores)"
   ]
  },
  {
   "cell_type": "markdown",
   "metadata": {},
   "source": [
    "### Lasso Regression"
   ]
  },
  {
   "cell_type": "code",
   "execution_count": 91,
   "metadata": {},
   "outputs": [],
   "source": [
    "lasso = Lasso(random_state=42)"
   ]
  },
  {
   "cell_type": "code",
   "execution_count": 92,
   "metadata": {},
   "outputs": [],
   "source": [
    "scores = cross_val_score(lasso, df_X, df_y, cv=5)"
   ]
  },
  {
   "cell_type": "code",
   "execution_count": 93,
   "metadata": {},
   "outputs": [],
   "source": [
    "preds = cross_val_predict(lasso, df_X, df_y, cv=5)\n",
    "# preds"
   ]
  },
  {
   "cell_type": "code",
   "execution_count": 94,
   "metadata": {},
   "outputs": [
    {
     "data": {
      "text/plain": [
       "57.13895985325339"
      ]
     },
     "execution_count": 94,
     "metadata": {},
     "output_type": "execute_result"
    }
   ],
   "source": [
    "mean_squared_error(preds, df_y)"
   ]
  },
  {
   "cell_type": "code",
   "execution_count": 95,
   "metadata": {},
   "outputs": [
    {
     "name": "stdout",
     "output_type": "stream",
     "text": [
      "0.654061452122326\n",
      "0.02611694768435285\n",
      "[0.61574509 0.69317878 0.64107647 0.66935486 0.65095206]\n"
     ]
    }
   ],
   "source": [
    "scores_info(scores)"
   ]
  },
  {
   "cell_type": "code",
   "execution_count": 96,
   "metadata": {},
   "outputs": [
    {
     "data": {
      "text/plain": [
       "Lasso(alpha=1.0, copy_X=True, fit_intercept=True, max_iter=1000,\n",
       "      normalize=False, positive=False, precompute=False, random_state=42,\n",
       "      selection='cyclic', tol=0.0001, warm_start=False)"
      ]
     },
     "execution_count": 96,
     "metadata": {},
     "output_type": "execute_result"
    }
   ],
   "source": [
    "lasso.fit(X_train, y_train)"
   ]
  },
  {
   "cell_type": "code",
   "execution_count": 97,
   "metadata": {},
   "outputs": [
    {
     "data": {
      "text/plain": [
       "0.7008768163221868"
      ]
     },
     "execution_count": 97,
     "metadata": {},
     "output_type": "execute_result"
    }
   ],
   "source": [
    "lasso.score(X_train, y_train)"
   ]
  },
  {
   "cell_type": "code",
   "execution_count": 98,
   "metadata": {},
   "outputs": [],
   "source": [
    "preds = lasso.predict(X_test)"
   ]
  },
  {
   "cell_type": "code",
   "execution_count": 99,
   "metadata": {},
   "outputs": [],
   "source": [
    "mse = mean_squared_error(preds, y_test)"
   ]
  },
  {
   "cell_type": "code",
   "execution_count": 100,
   "metadata": {},
   "outputs": [
    {
     "data": {
      "text/plain": [
       "(43.536534903344474, 6.598222101698644)"
      ]
     },
     "execution_count": 100,
     "metadata": {},
     "output_type": "execute_result"
    }
   ],
   "source": [
    "mse, math.sqrt(mse)"
   ]
  },
  {
   "cell_type": "markdown",
   "metadata": {},
   "source": [
    "### Ridge Regression"
   ]
  },
  {
   "cell_type": "code",
   "execution_count": 101,
   "metadata": {},
   "outputs": [
    {
     "name": "stdout",
     "output_type": "stream",
     "text": [
      "51.565709236926025\n",
      "0.687252921714847\n",
      "0.02782530049361371\n",
      "[0.65729494 0.73957091 0.67299078 0.68364442 0.68276355]\n"
     ]
    }
   ],
   "source": [
    "ridge = Ridge(random_state=42)\n",
    "\n",
    "scores = cross_val_score(ridge, df_X, df_y, cv=5)\n",
    "preds = cross_val_predict(ridge, df_X, df_y, cv=5)\n",
    "\n",
    "print(mean_squared_error(preds, df_y))\n",
    "scores_info(scores)"
   ]
  },
  {
   "cell_type": "code",
   "execution_count": 102,
   "metadata": {},
   "outputs": [
    {
     "data": {
      "text/plain": [
       "Ridge(alpha=1.0, copy_X=True, fit_intercept=True, max_iter=None,\n",
       "      normalize=False, random_state=42, solver='auto', tol=0.001)"
      ]
     },
     "execution_count": 102,
     "metadata": {},
     "output_type": "execute_result"
    }
   ],
   "source": [
    "ridge.fit(X_train, y_train)"
   ]
  },
  {
   "cell_type": "code",
   "execution_count": 103,
   "metadata": {},
   "outputs": [
    {
     "data": {
      "text/plain": [
       "0.7449854154025022"
      ]
     },
     "execution_count": 103,
     "metadata": {},
     "output_type": "execute_result"
    }
   ],
   "source": [
    "ridge.score(X_train, y_train)"
   ]
  },
  {
   "cell_type": "code",
   "execution_count": 104,
   "metadata": {},
   "outputs": [],
   "source": [
    "preds = ridge.predict(X_test)"
   ]
  },
  {
   "cell_type": "code",
   "execution_count": 105,
   "metadata": {},
   "outputs": [],
   "source": [
    "mse = mean_squared_error(preds, y_test)"
   ]
  },
  {
   "cell_type": "code",
   "execution_count": 106,
   "metadata": {},
   "outputs": [
    {
     "data": {
      "text/plain": [
       "(47.62625909776594, 6.9011780949172685)"
      ]
     },
     "execution_count": 106,
     "metadata": {},
     "output_type": "execute_result"
    }
   ],
   "source": [
    "mse, math.sqrt(mse)"
   ]
  },
  {
   "cell_type": "markdown",
   "metadata": {},
   "source": [
    "### ElasticNet Regression"
   ]
  },
  {
   "cell_type": "code",
   "execution_count": 107,
   "metadata": {},
   "outputs": [
    {
     "name": "stdout",
     "output_type": "stream",
     "text": [
      "62.5973177900125\n",
      "0.6207935875902721\n",
      "0.028778387958515863\n",
      "[0.57782294 0.66747222 0.61316869 0.62774187 0.61776222]\n"
     ]
    }
   ],
   "source": [
    "elasticnet = ElasticNet(random_state=42)\n",
    "\n",
    "scores = cross_val_score(elasticnet, df_X, df_y, cv=5)\n",
    "preds = cross_val_predict(elasticnet, df_X, df_y, cv=5)\n",
    "\n",
    "print(mean_squared_error(preds, df_y))\n",
    "scores_info(scores)"
   ]
  },
  {
   "cell_type": "code",
   "execution_count": 108,
   "metadata": {},
   "outputs": [
    {
     "data": {
      "text/plain": [
       "ElasticNet(alpha=1.0, copy_X=True, fit_intercept=True, l1_ratio=0.5,\n",
       "           max_iter=1000, normalize=False, positive=False, precompute=False,\n",
       "           random_state=42, selection='cyclic', tol=0.0001, warm_start=False)"
      ]
     },
     "execution_count": 108,
     "metadata": {},
     "output_type": "execute_result"
    }
   ],
   "source": [
    "elasticnet.fit(X_train, y_train)"
   ]
  },
  {
   "cell_type": "code",
   "execution_count": 109,
   "metadata": {},
   "outputs": [
    {
     "data": {
      "text/plain": [
       "0.6776949691901313"
      ]
     },
     "execution_count": 109,
     "metadata": {},
     "output_type": "execute_result"
    }
   ],
   "source": [
    "elasticnet.score(X_train, y_train)"
   ]
  },
  {
   "cell_type": "code",
   "execution_count": 110,
   "metadata": {},
   "outputs": [],
   "source": [
    "preds = elasticnet.predict(X_test)"
   ]
  },
  {
   "cell_type": "code",
   "execution_count": 111,
   "metadata": {},
   "outputs": [],
   "source": [
    "mse = mean_squared_error(preds, y_test)"
   ]
  },
  {
   "cell_type": "code",
   "execution_count": 112,
   "metadata": {},
   "outputs": [
    {
     "data": {
      "text/plain": [
       "(46.20363748637013, 6.797325759912506)"
      ]
     },
     "execution_count": 112,
     "metadata": {},
     "output_type": "execute_result"
    }
   ],
   "source": [
    "mse, math.sqrt(mse)"
   ]
  }
 ],
 "metadata": {
  "kernelspec": {
   "display_name": "Python 3.7.3 64-bit",
   "language": "python",
   "name": "python37364bitfa9893814aec4ef7b4684d6771155a64"
  },
  "language_info": {
   "codemirror_mode": {
    "name": "ipython",
    "version": 3
   },
   "file_extension": ".py",
   "mimetype": "text/x-python",
   "name": "python",
   "nbconvert_exporter": "python",
   "pygments_lexer": "ipython3",
   "version": "3.7.3"
  }
 },
 "nbformat": 4,
 "nbformat_minor": 2
}
