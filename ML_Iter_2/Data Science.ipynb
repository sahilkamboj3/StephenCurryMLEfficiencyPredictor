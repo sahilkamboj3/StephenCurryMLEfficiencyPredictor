{
 "cells": [
  {
   "cell_type": "code",
   "execution_count": 776,
   "metadata": {},
   "outputs": [],
   "source": [
    "import pandas as pd\n",
    "from scipy import stats\n",
    "import math\n",
    "import numpy as np\n",
    "import warnings\n",
    "import pickle\n",
    "\n",
    "from sklearn.impute import SimpleImputer\n",
    "from sklearn.svm import SVR\n",
    "from sklearn.ensemble import RandomForestRegressor\n",
    "from sklearn.preprocessing import StandardScaler, LabelBinarizer\n",
    "from sklearn.model_selection import GridSearchCV, cross_val_score, train_test_split, cross_val_predict\n",
    "from sklearn.decomposition import PCA\n",
    "from sklearn.linear_model import LinearRegression, SGDRegressor, LogisticRegression, Lasso, Ridge, ElasticNet\n",
    "from sklearn.svm import SVR\n",
    "from sklearn.metrics import mean_squared_error\n",
    "\n",
    "warnings.filterwarnings('ignore')"
   ]
  },
  {
   "cell_type": "code",
   "execution_count": 777,
   "metadata": {
    "scrolled": true
   },
   "outputs": [
    {
     "data": {
      "text/html": [
       "<div>\n",
       "<style scoped>\n",
       "    .dataframe tbody tr th:only-of-type {\n",
       "        vertical-align: middle;\n",
       "    }\n",
       "\n",
       "    .dataframe tbody tr th {\n",
       "        vertical-align: top;\n",
       "    }\n",
       "\n",
       "    .dataframe thead th {\n",
       "        text-align: right;\n",
       "    }\n",
       "</style>\n",
       "<table border=\"1\" class=\"dataframe\">\n",
       "  <thead>\n",
       "    <tr style=\"text-align: right;\">\n",
       "      <th></th>\n",
       "      <th>game_season</th>\n",
       "      <th>game_result</th>\n",
       "      <th>game_location</th>\n",
       "      <th>mp</th>\n",
       "      <th>fg</th>\n",
       "      <th>fga</th>\n",
       "      <th>fg_pct</th>\n",
       "      <th>fg3</th>\n",
       "      <th>fg3a</th>\n",
       "      <th>fg3_pct</th>\n",
       "      <th>...</th>\n",
       "      <th>orb</th>\n",
       "      <th>drb</th>\n",
       "      <th>trb</th>\n",
       "      <th>ast</th>\n",
       "      <th>stl</th>\n",
       "      <th>blk</th>\n",
       "      <th>pf</th>\n",
       "      <th>tov</th>\n",
       "      <th>pts</th>\n",
       "      <th>plus_minus</th>\n",
       "    </tr>\n",
       "  </thead>\n",
       "  <tbody>\n",
       "    <tr>\n",
       "      <th>0</th>\n",
       "      <td>1</td>\n",
       "      <td>L (-1)</td>\n",
       "      <td>home</td>\n",
       "      <td>35:39</td>\n",
       "      <td>7</td>\n",
       "      <td>12</td>\n",
       "      <td>0.583</td>\n",
       "      <td>0</td>\n",
       "      <td>1</td>\n",
       "      <td>0.000</td>\n",
       "      <td>...</td>\n",
       "      <td>1</td>\n",
       "      <td>1</td>\n",
       "      <td>2</td>\n",
       "      <td>7</td>\n",
       "      <td>4</td>\n",
       "      <td>0</td>\n",
       "      <td>2</td>\n",
       "      <td>2</td>\n",
       "      <td>14</td>\n",
       "      <td>7</td>\n",
       "    </tr>\n",
       "    <tr>\n",
       "      <th>1</th>\n",
       "      <td>2</td>\n",
       "      <td>L (-22)</td>\n",
       "      <td>away</td>\n",
       "      <td>39:05</td>\n",
       "      <td>5</td>\n",
       "      <td>9</td>\n",
       "      <td>0.556</td>\n",
       "      <td>2</td>\n",
       "      <td>3</td>\n",
       "      <td>0.667</td>\n",
       "      <td>...</td>\n",
       "      <td>0</td>\n",
       "      <td>2</td>\n",
       "      <td>2</td>\n",
       "      <td>4</td>\n",
       "      <td>1</td>\n",
       "      <td>0</td>\n",
       "      <td>5</td>\n",
       "      <td>3</td>\n",
       "      <td>12</td>\n",
       "      <td>-19</td>\n",
       "    </tr>\n",
       "    <tr>\n",
       "      <th>2</th>\n",
       "      <td>3</td>\n",
       "      <td>W (+8)</td>\n",
       "      <td>home</td>\n",
       "      <td>28:27</td>\n",
       "      <td>3</td>\n",
       "      <td>6</td>\n",
       "      <td>0.500</td>\n",
       "      <td>1</td>\n",
       "      <td>2</td>\n",
       "      <td>0.500</td>\n",
       "      <td>...</td>\n",
       "      <td>0</td>\n",
       "      <td>5</td>\n",
       "      <td>5</td>\n",
       "      <td>9</td>\n",
       "      <td>2</td>\n",
       "      <td>0</td>\n",
       "      <td>4</td>\n",
       "      <td>1</td>\n",
       "      <td>7</td>\n",
       "      <td>-4</td>\n",
       "    </tr>\n",
       "    <tr>\n",
       "      <th>3</th>\n",
       "      <td>4</td>\n",
       "      <td>L (-28)</td>\n",
       "      <td>home</td>\n",
       "      <td>21:32</td>\n",
       "      <td>1</td>\n",
       "      <td>5</td>\n",
       "      <td>0.200</td>\n",
       "      <td>0</td>\n",
       "      <td>1</td>\n",
       "      <td>0.000</td>\n",
       "      <td>...</td>\n",
       "      <td>0</td>\n",
       "      <td>1</td>\n",
       "      <td>1</td>\n",
       "      <td>3</td>\n",
       "      <td>0</td>\n",
       "      <td>0</td>\n",
       "      <td>6</td>\n",
       "      <td>0</td>\n",
       "      <td>5</td>\n",
       "      <td>-13</td>\n",
       "    </tr>\n",
       "    <tr>\n",
       "      <th>4</th>\n",
       "      <td>5</td>\n",
       "      <td>L (-13)</td>\n",
       "      <td>away</td>\n",
       "      <td>31:15</td>\n",
       "      <td>4</td>\n",
       "      <td>8</td>\n",
       "      <td>0.500</td>\n",
       "      <td>1</td>\n",
       "      <td>2</td>\n",
       "      <td>0.500</td>\n",
       "      <td>...</td>\n",
       "      <td>1</td>\n",
       "      <td>3</td>\n",
       "      <td>4</td>\n",
       "      <td>6</td>\n",
       "      <td>0</td>\n",
       "      <td>0</td>\n",
       "      <td>4</td>\n",
       "      <td>5</td>\n",
       "      <td>9</td>\n",
       "      <td>-5</td>\n",
       "    </tr>\n",
       "  </tbody>\n",
       "</table>\n",
       "<p>5 rows × 23 columns</p>\n",
       "</div>"
      ],
      "text/plain": [
       "   game_season game_result game_location     mp  fg  fga  fg_pct  fg3  fg3a  \\\n",
       "0            1      L (-1)          home  35:39   7   12   0.583    0     1   \n",
       "1            2     L (-22)          away  39:05   5    9   0.556    2     3   \n",
       "2            3      W (+8)          home  28:27   3    6   0.500    1     2   \n",
       "3            4     L (-28)          home  21:32   1    5   0.200    0     1   \n",
       "4            5     L (-13)          away  31:15   4    8   0.500    1     2   \n",
       "\n",
       "   fg3_pct  ...  orb  drb  trb  ast  stl  blk  pf  tov  pts  plus_minus  \n",
       "0    0.000  ...    1    1    2    7    4    0   2    2   14           7  \n",
       "1    0.667  ...    0    2    2    4    1    0   5    3   12         -19  \n",
       "2    0.500  ...    0    5    5    9    2    0   4    1    7          -4  \n",
       "3    0.000  ...    0    1    1    3    0    0   6    0    5         -13  \n",
       "4    0.500  ...    1    3    4    6    0    0   4    5    9          -5  \n",
       "\n",
       "[5 rows x 23 columns]"
      ]
     },
     "execution_count": 777,
     "metadata": {},
     "output_type": "execute_result"
    }
   ],
   "source": [
    "df = pd.read_csv('../sc_stats.csv')\n",
    "df.head()"
   ]
  },
  {
   "cell_type": "code",
   "execution_count": 778,
   "metadata": {},
   "outputs": [],
   "source": [
    "def convert_game_result_to_int(result):\n",
    "    first_paran_idx = result.index('(')\n",
    "    second_paran_idx = result.index(')')\n",
    "    return int(result[first_paran_idx + 1: second_paran_idx])"
   ]
  },
  {
   "cell_type": "code",
   "execution_count": 779,
   "metadata": {},
   "outputs": [],
   "source": [
    "def convert_game_result_to_wl(result):\n",
    "    return result[0]"
   ]
  },
  {
   "cell_type": "code",
   "execution_count": 780,
   "metadata": {},
   "outputs": [],
   "source": [
    "df['game_res_int'] = df['game_result'].apply(lambda row: convert_game_result_to_int(row))\n",
    "df['game_res_wl'] = df['game_result'].apply(lambda row: convert_game_result_to_wl(row))"
   ]
  },
  {
   "cell_type": "code",
   "execution_count": 781,
   "metadata": {},
   "outputs": [],
   "source": [
    "def convert_mp(mp):\n",
    "    minutes, sec = mp.split(':')\n",
    "    return int(minutes) + (int(sec) / 60)"
   ]
  },
  {
   "cell_type": "code",
   "execution_count": 782,
   "metadata": {},
   "outputs": [],
   "source": [
    "df['tot_time'] = df['mp'].apply(lambda row: convert_mp(row))"
   ]
  },
  {
   "cell_type": "code",
   "execution_count": 783,
   "metadata": {},
   "outputs": [
    {
     "data": {
      "text/html": [
       "<div>\n",
       "<style scoped>\n",
       "    .dataframe tbody tr th:only-of-type {\n",
       "        vertical-align: middle;\n",
       "    }\n",
       "\n",
       "    .dataframe tbody tr th {\n",
       "        vertical-align: top;\n",
       "    }\n",
       "\n",
       "    .dataframe thead th {\n",
       "        text-align: right;\n",
       "    }\n",
       "</style>\n",
       "<table border=\"1\" class=\"dataframe\">\n",
       "  <thead>\n",
       "    <tr style=\"text-align: right;\">\n",
       "      <th></th>\n",
       "      <th>game_season</th>\n",
       "      <th>game_result</th>\n",
       "      <th>game_location</th>\n",
       "      <th>mp</th>\n",
       "      <th>fg</th>\n",
       "      <th>fga</th>\n",
       "      <th>fg_pct</th>\n",
       "      <th>fg3</th>\n",
       "      <th>fg3a</th>\n",
       "      <th>fg3_pct</th>\n",
       "      <th>...</th>\n",
       "      <th>ast</th>\n",
       "      <th>stl</th>\n",
       "      <th>blk</th>\n",
       "      <th>pf</th>\n",
       "      <th>tov</th>\n",
       "      <th>pts</th>\n",
       "      <th>plus_minus</th>\n",
       "      <th>game_res_int</th>\n",
       "      <th>game_res_wl</th>\n",
       "      <th>tot_time</th>\n",
       "    </tr>\n",
       "  </thead>\n",
       "  <tbody>\n",
       "    <tr>\n",
       "      <th>0</th>\n",
       "      <td>1</td>\n",
       "      <td>L (-1)</td>\n",
       "      <td>home</td>\n",
       "      <td>35:39</td>\n",
       "      <td>7</td>\n",
       "      <td>12</td>\n",
       "      <td>0.583</td>\n",
       "      <td>0</td>\n",
       "      <td>1</td>\n",
       "      <td>0.000</td>\n",
       "      <td>...</td>\n",
       "      <td>7</td>\n",
       "      <td>4</td>\n",
       "      <td>0</td>\n",
       "      <td>2</td>\n",
       "      <td>2</td>\n",
       "      <td>14</td>\n",
       "      <td>7</td>\n",
       "      <td>-1</td>\n",
       "      <td>L</td>\n",
       "      <td>35.650000</td>\n",
       "    </tr>\n",
       "    <tr>\n",
       "      <th>1</th>\n",
       "      <td>2</td>\n",
       "      <td>L (-22)</td>\n",
       "      <td>away</td>\n",
       "      <td>39:05</td>\n",
       "      <td>5</td>\n",
       "      <td>9</td>\n",
       "      <td>0.556</td>\n",
       "      <td>2</td>\n",
       "      <td>3</td>\n",
       "      <td>0.667</td>\n",
       "      <td>...</td>\n",
       "      <td>4</td>\n",
       "      <td>1</td>\n",
       "      <td>0</td>\n",
       "      <td>5</td>\n",
       "      <td>3</td>\n",
       "      <td>12</td>\n",
       "      <td>-19</td>\n",
       "      <td>-22</td>\n",
       "      <td>L</td>\n",
       "      <td>39.083333</td>\n",
       "    </tr>\n",
       "    <tr>\n",
       "      <th>2</th>\n",
       "      <td>3</td>\n",
       "      <td>W (+8)</td>\n",
       "      <td>home</td>\n",
       "      <td>28:27</td>\n",
       "      <td>3</td>\n",
       "      <td>6</td>\n",
       "      <td>0.500</td>\n",
       "      <td>1</td>\n",
       "      <td>2</td>\n",
       "      <td>0.500</td>\n",
       "      <td>...</td>\n",
       "      <td>9</td>\n",
       "      <td>2</td>\n",
       "      <td>0</td>\n",
       "      <td>4</td>\n",
       "      <td>1</td>\n",
       "      <td>7</td>\n",
       "      <td>-4</td>\n",
       "      <td>8</td>\n",
       "      <td>W</td>\n",
       "      <td>28.450000</td>\n",
       "    </tr>\n",
       "    <tr>\n",
       "      <th>3</th>\n",
       "      <td>4</td>\n",
       "      <td>L (-28)</td>\n",
       "      <td>home</td>\n",
       "      <td>21:32</td>\n",
       "      <td>1</td>\n",
       "      <td>5</td>\n",
       "      <td>0.200</td>\n",
       "      <td>0</td>\n",
       "      <td>1</td>\n",
       "      <td>0.000</td>\n",
       "      <td>...</td>\n",
       "      <td>3</td>\n",
       "      <td>0</td>\n",
       "      <td>0</td>\n",
       "      <td>6</td>\n",
       "      <td>0</td>\n",
       "      <td>5</td>\n",
       "      <td>-13</td>\n",
       "      <td>-28</td>\n",
       "      <td>L</td>\n",
       "      <td>21.533333</td>\n",
       "    </tr>\n",
       "    <tr>\n",
       "      <th>4</th>\n",
       "      <td>5</td>\n",
       "      <td>L (-13)</td>\n",
       "      <td>away</td>\n",
       "      <td>31:15</td>\n",
       "      <td>4</td>\n",
       "      <td>8</td>\n",
       "      <td>0.500</td>\n",
       "      <td>1</td>\n",
       "      <td>2</td>\n",
       "      <td>0.500</td>\n",
       "      <td>...</td>\n",
       "      <td>6</td>\n",
       "      <td>0</td>\n",
       "      <td>0</td>\n",
       "      <td>4</td>\n",
       "      <td>5</td>\n",
       "      <td>9</td>\n",
       "      <td>-5</td>\n",
       "      <td>-13</td>\n",
       "      <td>L</td>\n",
       "      <td>31.250000</td>\n",
       "    </tr>\n",
       "  </tbody>\n",
       "</table>\n",
       "<p>5 rows × 26 columns</p>\n",
       "</div>"
      ],
      "text/plain": [
       "   game_season game_result game_location     mp  fg  fga  fg_pct  fg3  fg3a  \\\n",
       "0            1      L (-1)          home  35:39   7   12   0.583    0     1   \n",
       "1            2     L (-22)          away  39:05   5    9   0.556    2     3   \n",
       "2            3      W (+8)          home  28:27   3    6   0.500    1     2   \n",
       "3            4     L (-28)          home  21:32   1    5   0.200    0     1   \n",
       "4            5     L (-13)          away  31:15   4    8   0.500    1     2   \n",
       "\n",
       "   fg3_pct  ...  ast  stl  blk  pf  tov  pts  plus_minus  game_res_int  \\\n",
       "0    0.000  ...    7    4    0   2    2   14           7            -1   \n",
       "1    0.667  ...    4    1    0   5    3   12         -19           -22   \n",
       "2    0.500  ...    9    2    0   4    1    7          -4             8   \n",
       "3    0.000  ...    3    0    0   6    0    5         -13           -28   \n",
       "4    0.500  ...    6    0    0   4    5    9          -5           -13   \n",
       "\n",
       "   game_res_wl   tot_time  \n",
       "0            L  35.650000  \n",
       "1            L  39.083333  \n",
       "2            W  28.450000  \n",
       "3            L  21.533333  \n",
       "4            L  31.250000  \n",
       "\n",
       "[5 rows x 26 columns]"
      ]
     },
     "execution_count": 783,
     "metadata": {},
     "output_type": "execute_result"
    }
   ],
   "source": [
    "df.head()"
   ]
  },
  {
   "cell_type": "code",
   "execution_count": 784,
   "metadata": {},
   "outputs": [],
   "source": [
    "df.drop(['mp', 'game_result'], axis=1, inplace=True)"
   ]
  },
  {
   "cell_type": "code",
   "execution_count": 785,
   "metadata": {},
   "outputs": [
    {
     "name": "stdout",
     "output_type": "stream",
     "text": [
      "<class 'pandas.core.frame.DataFrame'>\n",
      "RangeIndex: 699 entries, 0 to 698\n",
      "Data columns (total 24 columns):\n",
      "game_season      699 non-null int64\n",
      "game_location    699 non-null object\n",
      "fg               699 non-null int64\n",
      "fga              699 non-null int64\n",
      "fg_pct           697 non-null float64\n",
      "fg3              699 non-null int64\n",
      "fg3a             699 non-null int64\n",
      "fg3_pct          695 non-null float64\n",
      "ft               699 non-null int64\n",
      "fta              699 non-null int64\n",
      "ft_pct           603 non-null float64\n",
      "orb              699 non-null int64\n",
      "drb              699 non-null int64\n",
      "trb              699 non-null int64\n",
      "ast              699 non-null int64\n",
      "stl              699 non-null int64\n",
      "blk              699 non-null int64\n",
      "pf               699 non-null int64\n",
      "tov              699 non-null int64\n",
      "pts              699 non-null int64\n",
      "plus_minus       699 non-null int64\n",
      "game_res_int     699 non-null int64\n",
      "game_res_wl      699 non-null object\n",
      "tot_time         699 non-null float64\n",
      "dtypes: float64(4), int64(18), object(2)\n",
      "memory usage: 131.1+ KB\n"
     ]
    }
   ],
   "source": [
    "df.info()"
   ]
  },
  {
   "cell_type": "code",
   "execution_count": 786,
   "metadata": {
    "scrolled": false
   },
   "outputs": [
    {
     "data": {
      "text/plain": [
       "game_season       0\n",
       "game_location     0\n",
       "fg                0\n",
       "fga               0\n",
       "fg_pct            2\n",
       "fg3               0\n",
       "fg3a              0\n",
       "fg3_pct           4\n",
       "ft                0\n",
       "fta               0\n",
       "ft_pct           96\n",
       "orb               0\n",
       "drb               0\n",
       "trb               0\n",
       "ast               0\n",
       "stl               0\n",
       "blk               0\n",
       "pf                0\n",
       "tov               0\n",
       "pts               0\n",
       "plus_minus        0\n",
       "game_res_int      0\n",
       "game_res_wl       0\n",
       "tot_time          0\n",
       "dtype: int64"
      ]
     },
     "execution_count": 786,
     "metadata": {},
     "output_type": "execute_result"
    }
   ],
   "source": [
    "df.isna().sum(axis=0)"
   ]
  },
  {
   "cell_type": "code",
   "execution_count": 787,
   "metadata": {},
   "outputs": [],
   "source": [
    "imputer = SimpleImputer(strategy='constant', fill_value=0)"
   ]
  },
  {
   "cell_type": "code",
   "execution_count": 788,
   "metadata": {},
   "outputs": [],
   "source": [
    "df = pd.DataFrame(data=imputer.fit_transform(df), columns=df.columns)"
   ]
  },
  {
   "cell_type": "code",
   "execution_count": 789,
   "metadata": {
    "scrolled": false
   },
   "outputs": [
    {
     "data": {
      "text/plain": [
       "game_season      0\n",
       "game_location    0\n",
       "fg               0\n",
       "fga              0\n",
       "fg_pct           0\n",
       "fg3              0\n",
       "fg3a             0\n",
       "fg3_pct          0\n",
       "ft               0\n",
       "fta              0\n",
       "ft_pct           0\n",
       "orb              0\n",
       "drb              0\n",
       "trb              0\n",
       "ast              0\n",
       "stl              0\n",
       "blk              0\n",
       "pf               0\n",
       "tov              0\n",
       "pts              0\n",
       "plus_minus       0\n",
       "game_res_int     0\n",
       "game_res_wl      0\n",
       "tot_time         0\n",
       "dtype: int64"
      ]
     },
     "execution_count": 789,
     "metadata": {},
     "output_type": "execute_result"
    }
   ],
   "source": [
    "df.isna().sum(axis=0)"
   ]
  },
  {
   "cell_type": "code",
   "execution_count": 790,
   "metadata": {},
   "outputs": [
    {
     "data": {
      "text/html": [
       "<div>\n",
       "<style scoped>\n",
       "    .dataframe tbody tr th:only-of-type {\n",
       "        vertical-align: middle;\n",
       "    }\n",
       "\n",
       "    .dataframe tbody tr th {\n",
       "        vertical-align: top;\n",
       "    }\n",
       "\n",
       "    .dataframe thead th {\n",
       "        text-align: right;\n",
       "    }\n",
       "</style>\n",
       "<table border=\"1\" class=\"dataframe\">\n",
       "  <thead>\n",
       "    <tr style=\"text-align: right;\">\n",
       "      <th></th>\n",
       "      <th>game_season</th>\n",
       "      <th>game_location</th>\n",
       "      <th>fg</th>\n",
       "      <th>fga</th>\n",
       "      <th>fg_pct</th>\n",
       "      <th>fg3</th>\n",
       "      <th>fg3a</th>\n",
       "      <th>fg3_pct</th>\n",
       "      <th>ft</th>\n",
       "      <th>fta</th>\n",
       "      <th>...</th>\n",
       "      <th>ast</th>\n",
       "      <th>stl</th>\n",
       "      <th>blk</th>\n",
       "      <th>pf</th>\n",
       "      <th>tov</th>\n",
       "      <th>pts</th>\n",
       "      <th>plus_minus</th>\n",
       "      <th>game_res_int</th>\n",
       "      <th>game_res_wl</th>\n",
       "      <th>tot_time</th>\n",
       "    </tr>\n",
       "  </thead>\n",
       "  <tbody>\n",
       "    <tr>\n",
       "      <th>0</th>\n",
       "      <td>1</td>\n",
       "      <td>home</td>\n",
       "      <td>7</td>\n",
       "      <td>12</td>\n",
       "      <td>0.583</td>\n",
       "      <td>0</td>\n",
       "      <td>1</td>\n",
       "      <td>0</td>\n",
       "      <td>0</td>\n",
       "      <td>0</td>\n",
       "      <td>...</td>\n",
       "      <td>7</td>\n",
       "      <td>4</td>\n",
       "      <td>0</td>\n",
       "      <td>2</td>\n",
       "      <td>2</td>\n",
       "      <td>14</td>\n",
       "      <td>7</td>\n",
       "      <td>-1</td>\n",
       "      <td>L</td>\n",
       "      <td>35.65</td>\n",
       "    </tr>\n",
       "    <tr>\n",
       "      <th>1</th>\n",
       "      <td>2</td>\n",
       "      <td>away</td>\n",
       "      <td>5</td>\n",
       "      <td>9</td>\n",
       "      <td>0.556</td>\n",
       "      <td>2</td>\n",
       "      <td>3</td>\n",
       "      <td>0.667</td>\n",
       "      <td>0</td>\n",
       "      <td>0</td>\n",
       "      <td>...</td>\n",
       "      <td>4</td>\n",
       "      <td>1</td>\n",
       "      <td>0</td>\n",
       "      <td>5</td>\n",
       "      <td>3</td>\n",
       "      <td>12</td>\n",
       "      <td>-19</td>\n",
       "      <td>-22</td>\n",
       "      <td>L</td>\n",
       "      <td>39.0833</td>\n",
       "    </tr>\n",
       "    <tr>\n",
       "      <th>2</th>\n",
       "      <td>3</td>\n",
       "      <td>home</td>\n",
       "      <td>3</td>\n",
       "      <td>6</td>\n",
       "      <td>0.5</td>\n",
       "      <td>1</td>\n",
       "      <td>2</td>\n",
       "      <td>0.5</td>\n",
       "      <td>0</td>\n",
       "      <td>0</td>\n",
       "      <td>...</td>\n",
       "      <td>9</td>\n",
       "      <td>2</td>\n",
       "      <td>0</td>\n",
       "      <td>4</td>\n",
       "      <td>1</td>\n",
       "      <td>7</td>\n",
       "      <td>-4</td>\n",
       "      <td>8</td>\n",
       "      <td>W</td>\n",
       "      <td>28.45</td>\n",
       "    </tr>\n",
       "    <tr>\n",
       "      <th>3</th>\n",
       "      <td>4</td>\n",
       "      <td>home</td>\n",
       "      <td>1</td>\n",
       "      <td>5</td>\n",
       "      <td>0.2</td>\n",
       "      <td>0</td>\n",
       "      <td>1</td>\n",
       "      <td>0</td>\n",
       "      <td>3</td>\n",
       "      <td>4</td>\n",
       "      <td>...</td>\n",
       "      <td>3</td>\n",
       "      <td>0</td>\n",
       "      <td>0</td>\n",
       "      <td>6</td>\n",
       "      <td>0</td>\n",
       "      <td>5</td>\n",
       "      <td>-13</td>\n",
       "      <td>-28</td>\n",
       "      <td>L</td>\n",
       "      <td>21.5333</td>\n",
       "    </tr>\n",
       "    <tr>\n",
       "      <th>4</th>\n",
       "      <td>5</td>\n",
       "      <td>away</td>\n",
       "      <td>4</td>\n",
       "      <td>8</td>\n",
       "      <td>0.5</td>\n",
       "      <td>1</td>\n",
       "      <td>2</td>\n",
       "      <td>0.5</td>\n",
       "      <td>0</td>\n",
       "      <td>2</td>\n",
       "      <td>...</td>\n",
       "      <td>6</td>\n",
       "      <td>0</td>\n",
       "      <td>0</td>\n",
       "      <td>4</td>\n",
       "      <td>5</td>\n",
       "      <td>9</td>\n",
       "      <td>-5</td>\n",
       "      <td>-13</td>\n",
       "      <td>L</td>\n",
       "      <td>31.25</td>\n",
       "    </tr>\n",
       "  </tbody>\n",
       "</table>\n",
       "<p>5 rows × 24 columns</p>\n",
       "</div>"
      ],
      "text/plain": [
       "  game_season game_location fg fga fg_pct fg3 fg3a fg3_pct ft fta  ... ast  \\\n",
       "0           1          home  7  12  0.583   0    1       0  0   0  ...   7   \n",
       "1           2          away  5   9  0.556   2    3   0.667  0   0  ...   4   \n",
       "2           3          home  3   6    0.5   1    2     0.5  0   0  ...   9   \n",
       "3           4          home  1   5    0.2   0    1       0  3   4  ...   3   \n",
       "4           5          away  4   8    0.5   1    2     0.5  0   2  ...   6   \n",
       "\n",
       "  stl blk pf tov pts plus_minus game_res_int game_res_wl tot_time  \n",
       "0   4   0  2   2  14          7           -1           L    35.65  \n",
       "1   1   0  5   3  12        -19          -22           L  39.0833  \n",
       "2   2   0  4   1   7         -4            8           W    28.45  \n",
       "3   0   0  6   0   5        -13          -28           L  21.5333  \n",
       "4   0   0  4   5   9         -5          -13           L    31.25  \n",
       "\n",
       "[5 rows x 24 columns]"
      ]
     },
     "execution_count": 790,
     "metadata": {},
     "output_type": "execute_result"
    }
   ],
   "source": [
    "df.head()"
   ]
  },
  {
   "cell_type": "code",
   "execution_count": 791,
   "metadata": {},
   "outputs": [],
   "source": [
    "df_X = df.loc[:, 'game_location': 'tot_time']\n",
    "df_X.drop(['plus_minus', 'game_res_wl', 'game_location'], axis=1, inplace=True)\n",
    "\n",
    "df_y = df['plus_minus']"
   ]
  },
  {
   "cell_type": "code",
   "execution_count": 792,
   "metadata": {},
   "outputs": [
    {
     "data": {
      "text/html": [
       "<div>\n",
       "<style scoped>\n",
       "    .dataframe tbody tr th:only-of-type {\n",
       "        vertical-align: middle;\n",
       "    }\n",
       "\n",
       "    .dataframe tbody tr th {\n",
       "        vertical-align: top;\n",
       "    }\n",
       "\n",
       "    .dataframe thead th {\n",
       "        text-align: right;\n",
       "    }\n",
       "</style>\n",
       "<table border=\"1\" class=\"dataframe\">\n",
       "  <thead>\n",
       "    <tr style=\"text-align: right;\">\n",
       "      <th></th>\n",
       "      <th>fg</th>\n",
       "      <th>fga</th>\n",
       "      <th>fg_pct</th>\n",
       "      <th>fg3</th>\n",
       "      <th>fg3a</th>\n",
       "      <th>fg3_pct</th>\n",
       "      <th>ft</th>\n",
       "      <th>fta</th>\n",
       "      <th>ft_pct</th>\n",
       "      <th>orb</th>\n",
       "      <th>drb</th>\n",
       "      <th>trb</th>\n",
       "      <th>ast</th>\n",
       "      <th>stl</th>\n",
       "      <th>blk</th>\n",
       "      <th>pf</th>\n",
       "      <th>tov</th>\n",
       "      <th>pts</th>\n",
       "      <th>game_res_int</th>\n",
       "      <th>tot_time</th>\n",
       "    </tr>\n",
       "  </thead>\n",
       "  <tbody>\n",
       "    <tr>\n",
       "      <th>0</th>\n",
       "      <td>7</td>\n",
       "      <td>12</td>\n",
       "      <td>0.583</td>\n",
       "      <td>0</td>\n",
       "      <td>1</td>\n",
       "      <td>0</td>\n",
       "      <td>0</td>\n",
       "      <td>0</td>\n",
       "      <td>0</td>\n",
       "      <td>1</td>\n",
       "      <td>1</td>\n",
       "      <td>2</td>\n",
       "      <td>7</td>\n",
       "      <td>4</td>\n",
       "      <td>0</td>\n",
       "      <td>2</td>\n",
       "      <td>2</td>\n",
       "      <td>14</td>\n",
       "      <td>-1</td>\n",
       "      <td>35.65</td>\n",
       "    </tr>\n",
       "    <tr>\n",
       "      <th>1</th>\n",
       "      <td>5</td>\n",
       "      <td>9</td>\n",
       "      <td>0.556</td>\n",
       "      <td>2</td>\n",
       "      <td>3</td>\n",
       "      <td>0.667</td>\n",
       "      <td>0</td>\n",
       "      <td>0</td>\n",
       "      <td>0</td>\n",
       "      <td>0</td>\n",
       "      <td>2</td>\n",
       "      <td>2</td>\n",
       "      <td>4</td>\n",
       "      <td>1</td>\n",
       "      <td>0</td>\n",
       "      <td>5</td>\n",
       "      <td>3</td>\n",
       "      <td>12</td>\n",
       "      <td>-22</td>\n",
       "      <td>39.0833</td>\n",
       "    </tr>\n",
       "    <tr>\n",
       "      <th>2</th>\n",
       "      <td>3</td>\n",
       "      <td>6</td>\n",
       "      <td>0.5</td>\n",
       "      <td>1</td>\n",
       "      <td>2</td>\n",
       "      <td>0.5</td>\n",
       "      <td>0</td>\n",
       "      <td>0</td>\n",
       "      <td>0</td>\n",
       "      <td>0</td>\n",
       "      <td>5</td>\n",
       "      <td>5</td>\n",
       "      <td>9</td>\n",
       "      <td>2</td>\n",
       "      <td>0</td>\n",
       "      <td>4</td>\n",
       "      <td>1</td>\n",
       "      <td>7</td>\n",
       "      <td>8</td>\n",
       "      <td>28.45</td>\n",
       "    </tr>\n",
       "    <tr>\n",
       "      <th>3</th>\n",
       "      <td>1</td>\n",
       "      <td>5</td>\n",
       "      <td>0.2</td>\n",
       "      <td>0</td>\n",
       "      <td>1</td>\n",
       "      <td>0</td>\n",
       "      <td>3</td>\n",
       "      <td>4</td>\n",
       "      <td>0.75</td>\n",
       "      <td>0</td>\n",
       "      <td>1</td>\n",
       "      <td>1</td>\n",
       "      <td>3</td>\n",
       "      <td>0</td>\n",
       "      <td>0</td>\n",
       "      <td>6</td>\n",
       "      <td>0</td>\n",
       "      <td>5</td>\n",
       "      <td>-28</td>\n",
       "      <td>21.5333</td>\n",
       "    </tr>\n",
       "    <tr>\n",
       "      <th>4</th>\n",
       "      <td>4</td>\n",
       "      <td>8</td>\n",
       "      <td>0.5</td>\n",
       "      <td>1</td>\n",
       "      <td>2</td>\n",
       "      <td>0.5</td>\n",
       "      <td>0</td>\n",
       "      <td>2</td>\n",
       "      <td>0</td>\n",
       "      <td>1</td>\n",
       "      <td>3</td>\n",
       "      <td>4</td>\n",
       "      <td>6</td>\n",
       "      <td>0</td>\n",
       "      <td>0</td>\n",
       "      <td>4</td>\n",
       "      <td>5</td>\n",
       "      <td>9</td>\n",
       "      <td>-13</td>\n",
       "      <td>31.25</td>\n",
       "    </tr>\n",
       "  </tbody>\n",
       "</table>\n",
       "</div>"
      ],
      "text/plain": [
       "  fg fga fg_pct fg3 fg3a fg3_pct ft fta ft_pct orb drb trb ast stl blk pf tov  \\\n",
       "0  7  12  0.583   0    1       0  0   0      0   1   1   2   7   4   0  2   2   \n",
       "1  5   9  0.556   2    3   0.667  0   0      0   0   2   2   4   1   0  5   3   \n",
       "2  3   6    0.5   1    2     0.5  0   0      0   0   5   5   9   2   0  4   1   \n",
       "3  1   5    0.2   0    1       0  3   4   0.75   0   1   1   3   0   0  6   0   \n",
       "4  4   8    0.5   1    2     0.5  0   2      0   1   3   4   6   0   0  4   5   \n",
       "\n",
       "  pts game_res_int tot_time  \n",
       "0  14           -1    35.65  \n",
       "1  12          -22  39.0833  \n",
       "2   7            8    28.45  \n",
       "3   5          -28  21.5333  \n",
       "4   9          -13    31.25  "
      ]
     },
     "execution_count": 792,
     "metadata": {},
     "output_type": "execute_result"
    }
   ],
   "source": [
    "df_X.head()"
   ]
  },
  {
   "cell_type": "code",
   "execution_count": 793,
   "metadata": {},
   "outputs": [],
   "source": [
    "nums = df_X.columns.tolist()"
   ]
  },
  {
   "cell_type": "code",
   "execution_count": 794,
   "metadata": {},
   "outputs": [
    {
     "data": {
      "text/plain": [
       "['fg',\n",
       " 'fga',\n",
       " 'fg_pct',\n",
       " 'fg3',\n",
       " 'fg3a',\n",
       " 'fg3_pct',\n",
       " 'ft',\n",
       " 'fta',\n",
       " 'ft_pct',\n",
       " 'orb',\n",
       " 'drb',\n",
       " 'trb',\n",
       " 'ast',\n",
       " 'stl',\n",
       " 'blk',\n",
       " 'pf',\n",
       " 'tov',\n",
       " 'pts',\n",
       " 'game_res_int',\n",
       " 'tot_time']"
      ]
     },
     "execution_count": 794,
     "metadata": {},
     "output_type": "execute_result"
    }
   ],
   "source": [
    "nums"
   ]
  },
  {
   "cell_type": "markdown",
   "metadata": {},
   "source": [
    "# Data Science"
   ]
  },
  {
   "cell_type": "markdown",
   "metadata": {},
   "source": [
    "### Numericals"
   ]
  },
  {
   "cell_type": "code",
   "execution_count": 795,
   "metadata": {},
   "outputs": [],
   "source": [
    "ALPHA = 0.05"
   ]
  },
  {
   "cell_type": "code",
   "execution_count": 796,
   "metadata": {},
   "outputs": [
    {
     "name": "stdout",
     "output_type": "stream",
     "text": [
      "High Correlations:\n",
      "\n",
      "  feature1 feature2         r\n",
      "0       fg      pts  0.944255\n",
      "1      fg3      pts  0.808183\n",
      "2       ft      fta  0.979005\n",
      "3      drb      trb  0.931680\n",
      "\n",
      "\n",
      "Decent Correlations:\n",
      "\n",
      "   feature1  feature2         r\n",
      "0        fg       fga  0.799839\n",
      "1        fg    fg_pct  0.674855\n",
      "2        fg       fg3  0.738251\n",
      "3        fg      fg3a  0.625653\n",
      "4       fga       fg3  0.569560\n",
      "5       fga      fg3a  0.745016\n",
      "6       fga       pts  0.766746\n",
      "7       fga  tot_time  0.586639\n",
      "8    fg_pct   fg3_pct  0.645504\n",
      "9    fg_pct       pts  0.621922\n",
      "10      fg3      fg3a  0.788780\n",
      "11      fg3   fg3_pct  0.640131\n",
      "12     fg3a       pts  0.695964\n",
      "13       ft    ft_pct  0.561573\n",
      "14       ft       pts  0.528208\n",
      "15      fta       pts  0.527419\n"
     ]
    }
   ],
   "source": [
    "high_info = {\n",
    "    'feature1': [],\n",
    "    'feature2': [],\n",
    "    'r': []\n",
    "}\n",
    "\n",
    "mid_info = {\n",
    "    'feature1': [],\n",
    "    'feature2': [],\n",
    "    'r': []\n",
    "}\n",
    "\n",
    "high_corr_cutoff = 0.8\n",
    "mid_corr_cutoff = 0.5\n",
    "\n",
    "for i in range(len(nums) - 1):\n",
    "    j = i + 1\n",
    "    while j < len(nums):\n",
    "        correl_signif = stats.pearsonr(df_X[nums[i]], df_X[nums[j]])\n",
    "        \n",
    "        if abs(correl_signif[0]) > high_corr_cutoff:\n",
    "            high_info['feature1'].append(nums[i])\n",
    "            high_info['feature2'].append(nums[j])\n",
    "            high_info['r'].append(correl_signif[0])\n",
    "        \n",
    "        elif abs(correl_signif[0]) < high_corr_cutoff and abs(correl_signif[0]) > mid_corr_cutoff:\n",
    "            mid_info['feature1'].append(nums[i])\n",
    "            mid_info['feature2'].append(nums[j])\n",
    "            mid_info['r'].append(correl_signif[0])\n",
    "        \n",
    "        j += 1\n",
    "        \n",
    "high_info_df = pd.DataFrame(data=high_info)\n",
    "print(f'High Correlations:\\n\\n{high_info_df}')\n",
    "\n",
    "print('\\n')\n",
    "\n",
    "mid_info_df = pd.DataFrame(data=mid_info)\n",
    "print(f'Decent Correlations:\\n\\n{mid_info_df}')"
   ]
  },
  {
   "cell_type": "code",
   "execution_count": 797,
   "metadata": {},
   "outputs": [],
   "source": [
    "df_X.drop('trb', axis=1, inplace=True)\n",
    "nums.remove('trb')"
   ]
  },
  {
   "cell_type": "code",
   "execution_count": 798,
   "metadata": {},
   "outputs": [],
   "source": [
    "CORR_CUTOFF = 0.35"
   ]
  },
  {
   "cell_type": "code",
   "execution_count": 799,
   "metadata": {},
   "outputs": [
    {
     "name": "stdout",
     "output_type": "stream",
     "text": [
      "        feature1    feature2         r\n",
      "0             fg  plus minus  0.222720\n",
      "1            fga  plus minus  0.054447\n",
      "2         fg_pct  plus minus  0.318048\n",
      "3            fg3  plus minus  0.298575\n",
      "4           fg3a  plus minus  0.229519\n",
      "5        fg3_pct  plus minus  0.232160\n",
      "6             ft  plus minus  0.158737\n",
      "7            fta  plus minus  0.156827\n",
      "8         ft_pct  plus minus  0.165189\n",
      "9            orb  plus minus  0.005484\n",
      "10           drb  plus minus  0.191611\n",
      "11           ast  plus minus  0.242444\n",
      "12           stl  plus minus  0.162664\n",
      "13           blk  plus minus  0.046458\n",
      "14            pf  plus minus -0.124485\n",
      "15           tov  plus minus -0.133273\n",
      "16           pts  plus minus  0.272230\n",
      "17  game_res_int  plus minus  0.856637\n",
      "18      tot_time  plus minus -0.083537\n"
     ]
    }
   ],
   "source": [
    "label_corr_info = {\n",
    "    'feature1': [],\n",
    "    'feature2': [],\n",
    "    'r': []\n",
    "}\n",
    "\n",
    "top_corrs = []\n",
    "\n",
    "for col in nums:\n",
    "    correl_signif = stats.pearsonr(df_X[col], df_y)\n",
    "    \n",
    "    label_corr_info['feature1'].append(col)\n",
    "    label_corr_info['feature2'].append('plus minus')\n",
    "    label_corr_info['r'].append(correl_signif[0])\n",
    "    \n",
    "    if abs(correl_signif[0]) > CORR_CUTOFF:\n",
    "        top_corrs.append(col)\n",
    "    \n",
    "label_info_df = pd.DataFrame(label_corr_info)\n",
    "print(label_info_df)"
   ]
  },
  {
   "cell_type": "code",
   "execution_count": 800,
   "metadata": {},
   "outputs": [
    {
     "data": {
      "text/plain": [
       "['game_res_int']"
      ]
     },
     "execution_count": 800,
     "metadata": {},
     "output_type": "execute_result"
    }
   ],
   "source": [
    "top_corrs"
   ]
  },
  {
   "cell_type": "markdown",
   "metadata": {},
   "source": [
    "# Feature Engineering"
   ]
  },
  {
   "cell_type": "markdown",
   "metadata": {},
   "source": [
    "### New Columns"
   ]
  },
  {
   "cell_type": "code",
   "execution_count": 802,
   "metadata": {},
   "outputs": [],
   "source": [
    "# Statistical formulas through research.\n",
    "df_X['efficiency'] = df_X['pts'] + (df_X['orb'] + df_X['drb']) + df_X['ast'] + df_X['stl'] + df_X['blk'] - (df_X['fga'] - df_X['fg']) - (df_X['fta'] - df_X['ft']) - df_X['tov']\n",
    "\n",
    "df_X['efg'] = (df_X['fg'] + (0.5 * df_X['fg3'])) / df_X['fga'].replace(0, np.inf)\n",
    "df_X['tov%'] = 100 * df_X['tov'] / (df_X['fga'] + 0.44 * df_X['fta'] + df_X['tov']).replace(0, np.inf)\n",
    "df_X['true_shooting%'] = df_X['pts'] / (2 * (df_X['fga'] + 0.44 * df_X['fta'])).replace(0, np.inf)\n",
    "df_X['ppp'] = df_X['pts'] / (df_X['fga'] + 0.44 * df_X['fta'] + df_X['tov']).replace(0, np.inf)\n",
    "df_X['gmsc'] = df_X['pts'] + 0.4 * df_X['fg'] - 0.7 * df_X['fga'] - 0.4 * (df_X['fta'] - df_X['ft']) + 0.7 * df_X['orb'] + 0.3 * df_X['drb'] + df_X['stl'] + 0.7 * df_X['ast'] + 0.7 * df_X['blk'] - 0.4 * df_X['pf'] - df_X['tov']\n",
    "df_X['per'] = ( (df_X['fg'] * 85.910) + (df_X['stl'] * 53.897) + (df_X['fg3'] * 51.757) + (df_X['ft'] * 46.845) + (df_X['blk'] * 39.190) + (df_X['orb'] * 39.190) + (df_X['ast'] * 34.677) + (df_X['drb'] * 14.707) - (df_X['pf'] * 17.174) - ( (df_X['fta'] - df_X['ft'] ) * 20.091) - ( (df_X['fga'] - df_X['fg'] ) * 39.190) - (df_X['tov'] * 53.897) ) * (1 / df_X['tot_time'])\n",
    "df_X['possessions'] = .96 * (df_X['fga'] - df_X['orb'] + (.44 * df_X['fta'])) + df_X['tov']\n",
    "df_X['off_rating'] = df_X['pts'] * 100 / df_X['possessions'].replace(0, np.inf)\n",
    "\n",
    "df_X['fg_part'] = df_X['fg'] * (1 - 0.5 * ((df_X['pts'] - df_X['ft']) / (2 * df_X['fga'].replace(0, np.inf))) * df_X['ast'])\n",
    "\n",
    "df_X['stl_tov'] = df_X['stl'].div(df_X['tov'].replace(0, np.inf))\n",
    "df_X['stops/tov'] = (df_X['stl'] + df_X['blk']).div(df_X['tov'].replace(0, np.inf))\n",
    "df_X['3/pts'] = df_X['fg3'].div(df_X['fg'].replace(0, np.inf))\n",
    "df_X['3a'] = df_X['fg3a'].div(df_X['fga'].replace(0, np.inf))\n",
    "df_X['pts_per_min'] = (df_X['pts'] / df['tot_time'])\n",
    "df_X['net_pos_responsible_for'] = df_X['fg'] + df_X['ast'] + df_X['stl'] + df_X['blk'] - df['tov'] # possessions responsible for\n",
    "df_X['ft+fg3'] = df_X['ft'] + df_X['fg3']\n",
    "df_X['ast_ratio'] = df_X['ast'] / df_X['ast'].mean()\n",
    "\n",
    "df_X['gmsc_per_pt'] = df_X['gmsc'].div(df['pts'].replace(0, np.inf))\n",
    "df_X['gmsc_per_fg'] = df_X['gmsc'].div(df['fg'].replace(0, np.inf))\n",
    "df_X['gmsc_per_fg_times_ppp'] = df_X['gmsc_per_fg'] * df_X['ppp']\n",
    "df_X['gmsc_per_pt_times_ppp'] = df_X['gmsc_per_pt'] * df_X['ppp']\n",
    "df_X['gmsc_per'] = df_X['gmsc'] * df_X['per']\n",
    "df_X['gmsc_ppp_mul'] = df_X['gmsc'] * df_X['ppp']\n",
    "df_X['gmsc_ppp_div'] = df_X['gmsc'].div(df_X['ppp'].replace(0, np.inf))\n",
    "df_X['per_ppp'] = df_X['per'].div(df_X['ppp'].replace(0, np.inf))\n",
    "\n",
    "df_X['per_per_pt'] = df_X['per'].div(df['pts'].replace(0, np.inf))\n",
    "df_X['per_per_fg'] = df_X['per'].div(df['fg'].replace(0, np.inf))\n",
    "df_X['per_per_fg_times_ppp'] = df_X['per_per_fg'] * df_X['ppp']\n",
    "df_X['per_per_pt_times_ppp'] = df_X['per_per_pt'] * df_X['ppp']\n",
    "\n",
    "df_X['game_result_per_pt'] = df_X['game_res_int'] / df_X['pts'].replace(0, np.inf)"
   ]
  },
  {
   "cell_type": "code",
   "execution_count": 803,
   "metadata": {},
   "outputs": [],
   "source": [
    "new_cols = ['off_rating', 'efficiency', 'efg', 'tov%', 'true_shooting%', 'ppp', 'gmsc', 'per', 'fg_part', 'stl_tov', 'stops/tov', '3/pts', '3a', 'pts_per_min', 'net_pos_responsible_for', 'ft+fg3', 'ast_ratio', 'gmsc_per_pt', 'gmsc_per_fg', 'gmsc_per_fg_times_ppp', 'gmsc_per_pt_times_ppp', 'gmsc_per', 'gmsc_ppp_div', 'gmsc_ppp_mul', 'per_ppp', 'per_per_pt', 'per_per_fg', 'per_per_fg_times_ppp', 'per_per_pt_times_ppp', 'game_result_per_pt']"
   ]
  },
  {
   "cell_type": "code",
   "execution_count": 804,
   "metadata": {
    "scrolled": false
   },
   "outputs": [
    {
     "name": "stdout",
     "output_type": "stream",
     "text": [
      "                   feature1    feature2         r\n",
      "0                off_rating  Plus Minus  0.415688\n",
      "1                efficiency  Plus Minus  0.437312\n",
      "2                       efg  Plus Minus  0.367933\n",
      "3                      tov%  Plus Minus -0.185552\n",
      "4            true_shooting%  Plus Minus  0.379701\n",
      "5                       ppp  Plus Minus  0.412332\n",
      "6                      gmsc  Plus Minus  0.423458\n",
      "7                       per  Plus Minus  0.507722\n",
      "8                   fg_part  Plus Minus -0.307796\n",
      "9                   stl_tov  Plus Minus  0.166153\n",
      "10                stops/tov  Plus Minus  0.173569\n",
      "11                    3/pts  Plus Minus  0.278758\n",
      "12                       3a  Plus Minus  0.320089\n",
      "13              pts_per_min  Plus Minus  0.365820\n",
      "14  net_pos_responsible_for  Plus Minus  0.377271\n",
      "15                   ft+fg3  Plus Minus  0.285535\n",
      "16                ast_ratio  Plus Minus  0.242444\n",
      "17              gmsc_per_pt  Plus Minus  0.465094\n",
      "18              gmsc_per_fg  Plus Minus  0.461675\n",
      "19    gmsc_per_fg_times_ppp  Plus Minus  0.498642\n",
      "20    gmsc_per_pt_times_ppp  Plus Minus  0.510412\n",
      "21                 gmsc_per  Plus Minus  0.425117\n",
      "22             gmsc_ppp_div  Plus Minus  0.363985\n",
      "23             gmsc_ppp_mul  Plus Minus  0.415069\n",
      "24                  per_ppp  Plus Minus  0.495077\n",
      "25               per_per_pt  Plus Minus  0.321822\n",
      "26               per_per_fg  Plus Minus  0.457289\n",
      "27     per_per_fg_times_ppp  Plus Minus  0.488854\n",
      "28     per_per_pt_times_ppp  Plus Minus  0.402049\n",
      "29       game_result_per_pt  Plus Minus  0.732826\n"
     ]
    }
   ],
   "source": [
    "label_corr_info = {\n",
    "    'feature1': [],\n",
    "    'feature2': [],\n",
    "    'r': []\n",
    "}\n",
    "\n",
    "for col in new_cols:\n",
    "    correl_signif = stats.pearsonr(df_X[col], df_y)\n",
    "    \n",
    "    label_corr_info['feature1'].append(col)\n",
    "    label_corr_info['feature2'].append('Plus Minus')\n",
    "    label_corr_info['r'].append(correl_signif[0])\n",
    "    \n",
    "    if abs(correl_signif[0]) > CORR_CUTOFF:\n",
    "        top_corrs.append(col)\n",
    "    \n",
    "label_info_df = pd.DataFrame(label_corr_info)\n",
    "print(label_info_df)"
   ]
  },
  {
   "cell_type": "code",
   "execution_count": 807,
   "metadata": {},
   "outputs": [
    {
     "data": {
      "text/plain": [
       "['game_res_int',\n",
       " 'off_rating',\n",
       " 'efficiency',\n",
       " 'efg',\n",
       " 'true_shooting%',\n",
       " 'ppp',\n",
       " 'gmsc',\n",
       " 'per',\n",
       " 'pts_per_min',\n",
       " 'net_pos_responsible_for',\n",
       " 'gmsc_per_pt',\n",
       " 'gmsc_per_fg',\n",
       " 'gmsc_per_fg_times_ppp',\n",
       " 'gmsc_per_pt_times_ppp',\n",
       " 'gmsc_per',\n",
       " 'gmsc_ppp_div',\n",
       " 'gmsc_ppp_mul',\n",
       " 'per_ppp',\n",
       " 'per_per_fg',\n",
       " 'per_per_fg_times_ppp',\n",
       " 'per_per_pt_times_ppp',\n",
       " 'game_result_per_pt']"
      ]
     },
     "execution_count": 807,
     "metadata": {},
     "output_type": "execute_result"
    }
   ],
   "source": [
    "top_corrs"
   ]
  },
  {
   "cell_type": "code",
   "execution_count": 808,
   "metadata": {},
   "outputs": [
    {
     "data": {
      "text/plain": [
       "['fg',\n",
       " 'fga',\n",
       " 'fg_pct',\n",
       " 'fg3',\n",
       " 'fg3a',\n",
       " 'fg3_pct',\n",
       " 'ft',\n",
       " 'fta',\n",
       " 'ft_pct',\n",
       " 'orb',\n",
       " 'drb',\n",
       " 'ast',\n",
       " 'stl',\n",
       " 'blk',\n",
       " 'pf',\n",
       " 'tov',\n",
       " 'pts',\n",
       " 'tot_time',\n",
       " 'tov%',\n",
       " 'possessions',\n",
       " 'fg_part',\n",
       " 'stl_tov',\n",
       " 'stops/tov',\n",
       " '3/pts',\n",
       " '3a',\n",
       " 'ft+fg3',\n",
       " 'ast_ratio',\n",
       " 'per_per_pt']"
      ]
     },
     "execution_count": 808,
     "metadata": {},
     "output_type": "execute_result"
    }
   ],
   "source": [
    "cols_to_remove = []\n",
    "\n",
    "for col in df_X.columns:\n",
    "    if col not in top_corrs:\n",
    "        cols_to_remove.append(col)\n",
    "\n",
    "cols_to_remove"
   ]
  },
  {
   "cell_type": "code",
   "execution_count": 809,
   "metadata": {},
   "outputs": [],
   "source": [
    "df_X.drop(cols_to_remove, axis=1, inplace=True)"
   ]
  },
  {
   "cell_type": "code",
   "execution_count": 810,
   "metadata": {},
   "outputs": [
    {
     "data": {
      "text/html": [
       "<div>\n",
       "<style scoped>\n",
       "    .dataframe tbody tr th:only-of-type {\n",
       "        vertical-align: middle;\n",
       "    }\n",
       "\n",
       "    .dataframe tbody tr th {\n",
       "        vertical-align: top;\n",
       "    }\n",
       "\n",
       "    .dataframe thead th {\n",
       "        text-align: right;\n",
       "    }\n",
       "</style>\n",
       "<table border=\"1\" class=\"dataframe\">\n",
       "  <thead>\n",
       "    <tr style=\"text-align: right;\">\n",
       "      <th></th>\n",
       "      <th>game_res_int</th>\n",
       "      <th>efficiency</th>\n",
       "      <th>efg</th>\n",
       "      <th>true_shooting%</th>\n",
       "      <th>ppp</th>\n",
       "      <th>gmsc</th>\n",
       "      <th>per</th>\n",
       "      <th>off_rating</th>\n",
       "      <th>pts_per_min</th>\n",
       "      <th>net_pos_responsible_for</th>\n",
       "      <th>...</th>\n",
       "      <th>gmsc_per_fg_times_ppp</th>\n",
       "      <th>gmsc_per_pt_times_ppp</th>\n",
       "      <th>gmsc_per</th>\n",
       "      <th>gmsc_ppp_mul</th>\n",
       "      <th>gmsc_ppp_div</th>\n",
       "      <th>per_ppp</th>\n",
       "      <th>per_per_fg</th>\n",
       "      <th>per_per_fg_times_ppp</th>\n",
       "      <th>per_per_pt_times_ppp</th>\n",
       "      <th>game_result_per_pt</th>\n",
       "    </tr>\n",
       "  </thead>\n",
       "  <tbody>\n",
       "    <tr>\n",
       "      <th>0</th>\n",
       "      <td>-1</td>\n",
       "      <td>20</td>\n",
       "      <td>0.583333</td>\n",
       "      <td>0.583333</td>\n",
       "      <td>1</td>\n",
       "      <td>15.5</td>\n",
       "      <td>21.7532</td>\n",
       "      <td>111.465</td>\n",
       "      <td>0.392707</td>\n",
       "      <td>16</td>\n",
       "      <td>...</td>\n",
       "      <td>2.21429</td>\n",
       "      <td>1.10714</td>\n",
       "      <td>337.175</td>\n",
       "      <td>15.5</td>\n",
       "      <td>15.5</td>\n",
       "      <td>21.7532</td>\n",
       "      <td>3.1076</td>\n",
       "      <td>3.1076</td>\n",
       "      <td>1.5538</td>\n",
       "      <td>-0.0714286</td>\n",
       "    </tr>\n",
       "    <tr>\n",
       "      <th>1</th>\n",
       "      <td>-22</td>\n",
       "      <td>12</td>\n",
       "      <td>0.666667</td>\n",
       "      <td>0.666667</td>\n",
       "      <td>1</td>\n",
       "      <td>7.1</td>\n",
       "      <td>8.97472</td>\n",
       "      <td>103.093</td>\n",
       "      <td>0.307036</td>\n",
       "      <td>7</td>\n",
       "      <td>...</td>\n",
       "      <td>1.42</td>\n",
       "      <td>0.591667</td>\n",
       "      <td>63.7205</td>\n",
       "      <td>7.1</td>\n",
       "      <td>7.1</td>\n",
       "      <td>8.97472</td>\n",
       "      <td>1.79494</td>\n",
       "      <td>1.79494</td>\n",
       "      <td>0.747893</td>\n",
       "      <td>-1.83333</td>\n",
       "    </tr>\n",
       "    <tr>\n",
       "      <th>2</th>\n",
       "      <td>8</td>\n",
       "      <td>19</td>\n",
       "      <td>0.583333</td>\n",
       "      <td>0.583333</td>\n",
       "      <td>1</td>\n",
       "      <td>11.2</td>\n",
       "      <td>19.7802</td>\n",
       "      <td>103.55</td>\n",
       "      <td>0.246046</td>\n",
       "      <td>13</td>\n",
       "      <td>...</td>\n",
       "      <td>3.73333</td>\n",
       "      <td>1.6</td>\n",
       "      <td>221.538</td>\n",
       "      <td>11.2</td>\n",
       "      <td>11.2</td>\n",
       "      <td>19.7802</td>\n",
       "      <td>6.59339</td>\n",
       "      <td>6.59339</td>\n",
       "      <td>2.82574</td>\n",
       "      <td>1.14286</td>\n",
       "    </tr>\n",
       "    <tr>\n",
       "      <th>3</th>\n",
       "      <td>-28</td>\n",
       "      <td>4</td>\n",
       "      <td>0.2</td>\n",
       "      <td>0.369822</td>\n",
       "      <td>0.739645</td>\n",
       "      <td>1.5</td>\n",
       "      <td>3.03195</td>\n",
       "      <td>77.0464</td>\n",
       "      <td>0.232198</td>\n",
       "      <td>4</td>\n",
       "      <td>...</td>\n",
       "      <td>1.10947</td>\n",
       "      <td>0.221893</td>\n",
       "      <td>4.54793</td>\n",
       "      <td>1.10947</td>\n",
       "      <td>2.028</td>\n",
       "      <td>4.0992</td>\n",
       "      <td>3.03195</td>\n",
       "      <td>2.24257</td>\n",
       "      <td>0.448513</td>\n",
       "      <td>-5.6</td>\n",
       "    </tr>\n",
       "    <tr>\n",
       "      <th>4</th>\n",
       "      <td>-13</td>\n",
       "      <td>8</td>\n",
       "      <td>0.5625</td>\n",
       "      <td>0.506757</td>\n",
       "      <td>0.648415</td>\n",
       "      <td>3.4</td>\n",
       "      <td>4.8527</td>\n",
       "      <td>71.6287</td>\n",
       "      <td>0.288</td>\n",
       "      <td>5</td>\n",
       "      <td>...</td>\n",
       "      <td>0.551153</td>\n",
       "      <td>0.244957</td>\n",
       "      <td>16.4992</td>\n",
       "      <td>2.20461</td>\n",
       "      <td>5.24356</td>\n",
       "      <td>7.48395</td>\n",
       "      <td>1.21318</td>\n",
       "      <td>0.786641</td>\n",
       "      <td>0.349618</td>\n",
       "      <td>-1.44444</td>\n",
       "    </tr>\n",
       "  </tbody>\n",
       "</table>\n",
       "<p>5 rows × 22 columns</p>\n",
       "</div>"
      ],
      "text/plain": [
       "  game_res_int efficiency       efg true_shooting%       ppp  gmsc      per  \\\n",
       "0           -1         20  0.583333       0.583333         1  15.5  21.7532   \n",
       "1          -22         12  0.666667       0.666667         1   7.1  8.97472   \n",
       "2            8         19  0.583333       0.583333         1  11.2  19.7802   \n",
       "3          -28          4       0.2       0.369822  0.739645   1.5  3.03195   \n",
       "4          -13          8    0.5625       0.506757  0.648415   3.4   4.8527   \n",
       "\n",
       "  off_rating pts_per_min net_pos_responsible_for  ... gmsc_per_fg_times_ppp  \\\n",
       "0    111.465    0.392707                      16  ...               2.21429   \n",
       "1    103.093    0.307036                       7  ...                  1.42   \n",
       "2     103.55    0.246046                      13  ...               3.73333   \n",
       "3    77.0464    0.232198                       4  ...               1.10947   \n",
       "4    71.6287       0.288                       5  ...              0.551153   \n",
       "\n",
       "  gmsc_per_pt_times_ppp gmsc_per gmsc_ppp_mul gmsc_ppp_div  per_ppp  \\\n",
       "0               1.10714  337.175         15.5         15.5  21.7532   \n",
       "1              0.591667  63.7205          7.1          7.1  8.97472   \n",
       "2                   1.6  221.538         11.2         11.2  19.7802   \n",
       "3              0.221893  4.54793      1.10947        2.028   4.0992   \n",
       "4              0.244957  16.4992      2.20461      5.24356  7.48395   \n",
       "\n",
       "  per_per_fg per_per_fg_times_ppp per_per_pt_times_ppp game_result_per_pt  \n",
       "0     3.1076               3.1076               1.5538         -0.0714286  \n",
       "1    1.79494              1.79494             0.747893           -1.83333  \n",
       "2    6.59339              6.59339              2.82574            1.14286  \n",
       "3    3.03195              2.24257             0.448513               -5.6  \n",
       "4    1.21318             0.786641             0.349618           -1.44444  \n",
       "\n",
       "[5 rows x 22 columns]"
      ]
     },
     "execution_count": 810,
     "metadata": {},
     "output_type": "execute_result"
    }
   ],
   "source": [
    "df_X.head()"
   ]
  },
  {
   "cell_type": "code",
   "execution_count": 811,
   "metadata": {},
   "outputs": [],
   "source": [
    "cols = df_X.columns\n",
    "df_X = StandardScaler().fit_transform(df_X)\n",
    "df_X = pd.DataFrame(data=df_X, columns=cols)"
   ]
  },
  {
   "cell_type": "code",
   "execution_count": 812,
   "metadata": {},
   "outputs": [
    {
     "data": {
      "text/html": [
       "<div>\n",
       "<style scoped>\n",
       "    .dataframe tbody tr th:only-of-type {\n",
       "        vertical-align: middle;\n",
       "    }\n",
       "\n",
       "    .dataframe tbody tr th {\n",
       "        vertical-align: top;\n",
       "    }\n",
       "\n",
       "    .dataframe thead th {\n",
       "        text-align: right;\n",
       "    }\n",
       "</style>\n",
       "<table border=\"1\" class=\"dataframe\">\n",
       "  <thead>\n",
       "    <tr style=\"text-align: right;\">\n",
       "      <th></th>\n",
       "      <th>game_res_int</th>\n",
       "      <th>efficiency</th>\n",
       "      <th>efg</th>\n",
       "      <th>true_shooting%</th>\n",
       "      <th>ppp</th>\n",
       "      <th>gmsc</th>\n",
       "      <th>per</th>\n",
       "      <th>off_rating</th>\n",
       "      <th>pts_per_min</th>\n",
       "      <th>net_pos_responsible_for</th>\n",
       "      <th>...</th>\n",
       "      <th>gmsc_per_fg_times_ppp</th>\n",
       "      <th>gmsc_per_pt_times_ppp</th>\n",
       "      <th>gmsc_per</th>\n",
       "      <th>gmsc_ppp_mul</th>\n",
       "      <th>gmsc_ppp_div</th>\n",
       "      <th>per_ppp</th>\n",
       "      <th>per_per_fg</th>\n",
       "      <th>per_per_fg_times_ppp</th>\n",
       "      <th>per_per_pt_times_ppp</th>\n",
       "      <th>game_result_per_pt</th>\n",
       "    </tr>\n",
       "  </thead>\n",
       "  <tbody>\n",
       "    <tr>\n",
       "      <th>0</th>\n",
       "      <td>-0.436028</td>\n",
       "      <td>-0.386181</td>\n",
       "      <td>0.073803</td>\n",
       "      <td>-0.177265</td>\n",
       "      <td>-0.168749</td>\n",
       "      <td>-0.345792</td>\n",
       "      <td>-0.326602</td>\n",
       "      <td>-0.030210</td>\n",
       "      <td>-1.085387</td>\n",
       "      <td>0.477085</td>\n",
       "      <td>...</td>\n",
       "      <td>-0.226556</td>\n",
       "      <td>0.702769</td>\n",
       "      <td>-0.503719</td>\n",
       "      <td>-0.432505</td>\n",
       "      <td>-0.221905</td>\n",
       "      <td>-0.187610</td>\n",
       "      <td>-0.072135</td>\n",
       "      <td>-0.227360</td>\n",
       "      <td>0.383659</td>\n",
       "      <td>-0.265684</td>\n",
       "    </tr>\n",
       "    <tr>\n",
       "      <th>1</th>\n",
       "      <td>-1.864380</td>\n",
       "      <td>-1.134976</td>\n",
       "      <td>0.564942</td>\n",
       "      <td>0.335971</td>\n",
       "      <td>-0.168749</td>\n",
       "      <td>-1.260652</td>\n",
       "      <td>-1.276984</td>\n",
       "      <td>-0.290466</td>\n",
       "      <td>-1.408018</td>\n",
       "      <td>-1.289449</td>\n",
       "      <td>...</td>\n",
       "      <td>-0.877892</td>\n",
       "      <td>-0.684254</td>\n",
       "      <td>-1.022292</td>\n",
       "      <td>-1.001151</td>\n",
       "      <td>-1.625553</td>\n",
       "      <td>-1.703504</td>\n",
       "      <td>-0.959891</td>\n",
       "      <td>-0.831071</td>\n",
       "      <td>-0.606098</td>\n",
       "      <td>-2.123694</td>\n",
       "    </tr>\n",
       "    <tr>\n",
       "      <th>2</th>\n",
       "      <td>0.176124</td>\n",
       "      <td>-0.479780</td>\n",
       "      <td>0.073803</td>\n",
       "      <td>-0.177265</td>\n",
       "      <td>-0.168749</td>\n",
       "      <td>-0.814113</td>\n",
       "      <td>-0.473344</td>\n",
       "      <td>-0.276244</td>\n",
       "      <td>-1.637705</td>\n",
       "      <td>-0.111760</td>\n",
       "      <td>...</td>\n",
       "      <td>1.019104</td>\n",
       "      <td>2.028930</td>\n",
       "      <td>-0.723011</td>\n",
       "      <td>-0.723597</td>\n",
       "      <td>-0.940439</td>\n",
       "      <td>-0.421669</td>\n",
       "      <td>2.285320</td>\n",
       "      <td>1.375810</td>\n",
       "      <td>1.945763</td>\n",
       "      <td>1.014836</td>\n",
       "    </tr>\n",
       "    <tr>\n",
       "      <th>3</th>\n",
       "      <td>-2.272481</td>\n",
       "      <td>-1.883770</td>\n",
       "      <td>-2.185433</td>\n",
       "      <td>-1.492245</td>\n",
       "      <td>-1.041283</td>\n",
       "      <td>-1.870560</td>\n",
       "      <td>-1.718969</td>\n",
       "      <td>-1.100140</td>\n",
       "      <td>-1.689854</td>\n",
       "      <td>-1.878293</td>\n",
       "      <td>...</td>\n",
       "      <td>-1.132538</td>\n",
       "      <td>-1.679225</td>\n",
       "      <td>-1.134506</td>\n",
       "      <td>-1.406686</td>\n",
       "      <td>-2.473089</td>\n",
       "      <td>-2.281880</td>\n",
       "      <td>-0.123299</td>\n",
       "      <td>-0.625203</td>\n",
       "      <td>-0.973775</td>\n",
       "      <td>-6.095818</td>\n",
       "    </tr>\n",
       "    <tr>\n",
       "      <th>4</th>\n",
       "      <td>-1.252229</td>\n",
       "      <td>-1.509373</td>\n",
       "      <td>-0.048981</td>\n",
       "      <td>-0.648888</td>\n",
       "      <td>-1.347024</td>\n",
       "      <td>-1.663627</td>\n",
       "      <td>-1.583553</td>\n",
       "      <td>-1.268553</td>\n",
       "      <td>-1.479707</td>\n",
       "      <td>-1.682012</td>\n",
       "      <td>...</td>\n",
       "      <td>-1.590371</td>\n",
       "      <td>-1.617167</td>\n",
       "      <td>-1.111842</td>\n",
       "      <td>-1.332549</td>\n",
       "      <td>-1.935767</td>\n",
       "      <td>-1.880352</td>\n",
       "      <td>-1.353344</td>\n",
       "      <td>-1.294805</td>\n",
       "      <td>-1.095231</td>\n",
       "      <td>-1.713593</td>\n",
       "    </tr>\n",
       "  </tbody>\n",
       "</table>\n",
       "<p>5 rows × 22 columns</p>\n",
       "</div>"
      ],
      "text/plain": [
       "   game_res_int  efficiency       efg  true_shooting%       ppp      gmsc  \\\n",
       "0     -0.436028   -0.386181  0.073803       -0.177265 -0.168749 -0.345792   \n",
       "1     -1.864380   -1.134976  0.564942        0.335971 -0.168749 -1.260652   \n",
       "2      0.176124   -0.479780  0.073803       -0.177265 -0.168749 -0.814113   \n",
       "3     -2.272481   -1.883770 -2.185433       -1.492245 -1.041283 -1.870560   \n",
       "4     -1.252229   -1.509373 -0.048981       -0.648888 -1.347024 -1.663627   \n",
       "\n",
       "        per  off_rating  pts_per_min  net_pos_responsible_for  ...  \\\n",
       "0 -0.326602   -0.030210    -1.085387                 0.477085  ...   \n",
       "1 -1.276984   -0.290466    -1.408018                -1.289449  ...   \n",
       "2 -0.473344   -0.276244    -1.637705                -0.111760  ...   \n",
       "3 -1.718969   -1.100140    -1.689854                -1.878293  ...   \n",
       "4 -1.583553   -1.268553    -1.479707                -1.682012  ...   \n",
       "\n",
       "   gmsc_per_fg_times_ppp  gmsc_per_pt_times_ppp  gmsc_per  gmsc_ppp_mul  \\\n",
       "0              -0.226556               0.702769 -0.503719     -0.432505   \n",
       "1              -0.877892              -0.684254 -1.022292     -1.001151   \n",
       "2               1.019104               2.028930 -0.723011     -0.723597   \n",
       "3              -1.132538              -1.679225 -1.134506     -1.406686   \n",
       "4              -1.590371              -1.617167 -1.111842     -1.332549   \n",
       "\n",
       "   gmsc_ppp_div   per_ppp  per_per_fg  per_per_fg_times_ppp  \\\n",
       "0     -0.221905 -0.187610   -0.072135             -0.227360   \n",
       "1     -1.625553 -1.703504   -0.959891             -0.831071   \n",
       "2     -0.940439 -0.421669    2.285320              1.375810   \n",
       "3     -2.473089 -2.281880   -0.123299             -0.625203   \n",
       "4     -1.935767 -1.880352   -1.353344             -1.294805   \n",
       "\n",
       "   per_per_pt_times_ppp  game_result_per_pt  \n",
       "0              0.383659           -0.265684  \n",
       "1             -0.606098           -2.123694  \n",
       "2              1.945763            1.014836  \n",
       "3             -0.973775           -6.095818  \n",
       "4             -1.095231           -1.713593  \n",
       "\n",
       "[5 rows x 22 columns]"
      ]
     },
     "execution_count": 812,
     "metadata": {},
     "output_type": "execute_result"
    }
   ],
   "source": [
    "df_X.head()"
   ]
  },
  {
   "cell_type": "markdown",
   "metadata": {},
   "source": [
    "## Categorical "
   ]
  },
  {
   "cell_type": "code",
   "execution_count": 813,
   "metadata": {},
   "outputs": [],
   "source": [
    "def convert_game_season(gs):\n",
    "    if gs < 27:\n",
    "        return 'first'\n",
    "    elif gs >= 27 and gs < 55:\n",
    "        return 'second'\n",
    "    else:\n",
    "        return 'third'\n",
    "\n",
    "df['gs_label_thirds'] = df['game_season'].apply(lambda row: convert_game_season(row))"
   ]
  },
  {
   "cell_type": "code",
   "execution_count": 814,
   "metadata": {},
   "outputs": [],
   "source": [
    "avg_3pt_shooting = df['fg3_pct'].mean()\n",
    "avg_fg_shooting = df['fg_pct'].mean()\n",
    "avg_ft_shooting = df['ft_pct'].mean()\n",
    "avg_pts = df['pts'].mean()\n",
    "avg_drb = df['drb'].mean()\n",
    "avg_orb = df['orb'].mean()\n",
    "tot_time_avg = df['tot_time'].mean()"
   ]
  },
  {
   "cell_type": "code",
   "execution_count": 815,
   "metadata": {},
   "outputs": [],
   "source": [
    "efficiency_avg = df_X['efficiency'].mean()\n",
    "game_res_int_avg = df_X['game_res_int'].mean()\n",
    "off_rating_avg = df_X['off_rating'].mean()"
   ]
  },
  {
   "cell_type": "code",
   "execution_count": 816,
   "metadata": {},
   "outputs": [],
   "source": [
    "def convert_pct(cur, avg):\n",
    "    if cur < avg:\n",
    "        return 'below'\n",
    "    else:\n",
    "        return 'above'"
   ]
  },
  {
   "cell_type": "code",
   "execution_count": 817,
   "metadata": {},
   "outputs": [],
   "source": [
    "df['3pct_label'] = df['fg3_pct'].apply(lambda row: convert_pct(row, avg_3pt_shooting))\n",
    "df['fg_pct_label'] = df['fg_pct'].apply(lambda row: convert_pct(row, avg_fg_shooting))\n",
    "df['ft_pct_label'] = df['ft_pct'].apply(lambda row: convert_pct(row, avg_ft_shooting))\n",
    "df['pts_label'] = df['pts'].apply(lambda row: convert_pct(row, avg_pts))\n",
    "df['drb_label'] = df['drb'].apply(lambda row: convert_pct(row, avg_drb))\n",
    "df['orb_label'] = df['orb'].apply(lambda row: convert_pct(row, avg_orb))\n",
    "df['tot_time_label'] = df['tot_time'].apply(lambda row: convert_pct(row, tot_time_avg))"
   ]
  },
  {
   "cell_type": "code",
   "execution_count": 818,
   "metadata": {},
   "outputs": [],
   "source": [
    "df['efficiency_label'] = df_X['efficiency'].apply(lambda row: convert_pct(row, efficiency_avg))\n",
    "df['game_res_label'] = df_X['game_res_int'].apply(lambda row: convert_pct(row, game_res_int_avg))\n",
    "df['off_rating_label'] = df_X['off_rating'].apply(lambda row: convert_pct(row, game_res_int_avg))"
   ]
  },
  {
   "cell_type": "code",
   "execution_count": 819,
   "metadata": {},
   "outputs": [],
   "source": [
    "foul_threshold = 4\n",
    "\n",
    "def in_foul_trouble(pf):\n",
    "    if pf < foul_threshold:\n",
    "        return 'no'\n",
    "    else:\n",
    "        return 'yes'"
   ]
  },
  {
   "cell_type": "code",
   "execution_count": 820,
   "metadata": {},
   "outputs": [],
   "source": [
    "df['pf_label'] = df['pf'].apply(lambda row: in_foul_trouble(row))"
   ]
  },
  {
   "cell_type": "code",
   "execution_count": 821,
   "metadata": {},
   "outputs": [],
   "source": [
    "def is_blk_greater_than_stl(diff):\n",
    "    if diff < 0:\n",
    "        return 'stl'\n",
    "    else:\n",
    "        return 'blk'"
   ]
  },
  {
   "cell_type": "code",
   "execution_count": 822,
   "metadata": {},
   "outputs": [],
   "source": [
    "df['blk_stl_diff'] = df['blk'] - df['stl']\n",
    "df['blk_stl_diff_label'] = df['blk_stl_diff'].apply(lambda row: is_blk_greater_than_stl(row))"
   ]
  },
  {
   "cell_type": "code",
   "execution_count": 823,
   "metadata": {},
   "outputs": [],
   "source": [
    "def is_3s_greater_than_2s(diff):\n",
    "    if diff < 0:\n",
    "        return '2s'\n",
    "    else:\n",
    "        return '3s'"
   ]
  },
  {
   "cell_type": "code",
   "execution_count": 824,
   "metadata": {},
   "outputs": [],
   "source": [
    "def is_assist_greater_than_tov(diff):\n",
    "    if diff < 0:\n",
    "        return 'tov'\n",
    "    else:\n",
    "        return 'ass'"
   ]
  },
  {
   "cell_type": "code",
   "execution_count": 825,
   "metadata": {},
   "outputs": [],
   "source": [
    "df['3s_than_2s'] = df['fg3'] - (df['fg'] - df['fg3'])\n",
    "df['ast_than_tov'] = df['ast'] - df['tov']"
   ]
  },
  {
   "cell_type": "code",
   "execution_count": 826,
   "metadata": {},
   "outputs": [],
   "source": [
    "df['more_3s_than_2s'] = df['3s_than_2s'].apply(lambda row: is_3s_greater_than_2s(row))\n",
    "df['more_ast_than_tov'] = df['ast_than_tov'].apply(lambda row: is_assist_greater_than_tov(row))"
   ]
  },
  {
   "cell_type": "code",
   "execution_count": 827,
   "metadata": {},
   "outputs": [],
   "source": [
    "df.drop(['blk_stl_diff', '3s_than_2s', 'ast_than_tov'], axis=1, inplace=True)"
   ]
  },
  {
   "cell_type": "code",
   "execution_count": 828,
   "metadata": {},
   "outputs": [],
   "source": [
    "cats = ['off_rating_label', 'game_res_label', 'efficiency_label', 'tot_time_label', 'orb_label', 'drb_label', 'more_3s_than_2s', 'more_ast_than_tov', 'pf_label', 'blk_stl_diff_label', 'pts_label', 'game_res_wl', 'gs_label_thirds', '3pct_label', 'fg_pct_label', 'game_location', 'ft_pct_label']"
   ]
  },
  {
   "cell_type": "code",
   "execution_count": 829,
   "metadata": {},
   "outputs": [
    {
     "data": {
      "text/html": [
       "<div>\n",
       "<style scoped>\n",
       "    .dataframe tbody tr th:only-of-type {\n",
       "        vertical-align: middle;\n",
       "    }\n",
       "\n",
       "    .dataframe tbody tr th {\n",
       "        vertical-align: top;\n",
       "    }\n",
       "\n",
       "    .dataframe thead th {\n",
       "        text-align: right;\n",
       "    }\n",
       "</style>\n",
       "<table border=\"1\" class=\"dataframe\">\n",
       "  <thead>\n",
       "    <tr style=\"text-align: right;\">\n",
       "      <th></th>\n",
       "      <th>Feature</th>\n",
       "      <th>F</th>\n",
       "      <th>P</th>\n",
       "      <th>Rejected?</th>\n",
       "    </tr>\n",
       "  </thead>\n",
       "  <tbody>\n",
       "    <tr>\n",
       "      <th>0</th>\n",
       "      <td>off_rating_label</td>\n",
       "      <td>105.720398</td>\n",
       "      <td>3.486034e-23</td>\n",
       "      <td>True</td>\n",
       "    </tr>\n",
       "    <tr>\n",
       "      <th>1</th>\n",
       "      <td>game_res_label</td>\n",
       "      <td>707.783428</td>\n",
       "      <td>3.574116e-108</td>\n",
       "      <td>True</td>\n",
       "    </tr>\n",
       "    <tr>\n",
       "      <th>2</th>\n",
       "      <td>efficiency_label</td>\n",
       "      <td>109.859629</td>\n",
       "      <td>5.712370e-24</td>\n",
       "      <td>True</td>\n",
       "    </tr>\n",
       "    <tr>\n",
       "      <th>3</th>\n",
       "      <td>tot_time_label</td>\n",
       "      <td>10.736022</td>\n",
       "      <td>1.102766e-03</td>\n",
       "      <td>True</td>\n",
       "    </tr>\n",
       "    <tr>\n",
       "      <th>4</th>\n",
       "      <td>orb_label</td>\n",
       "      <td>0.168578</td>\n",
       "      <td>6.815053e-01</td>\n",
       "      <td>False</td>\n",
       "    </tr>\n",
       "    <tr>\n",
       "      <th>5</th>\n",
       "      <td>drb_label</td>\n",
       "      <td>15.802213</td>\n",
       "      <td>7.765439e-05</td>\n",
       "      <td>True</td>\n",
       "    </tr>\n",
       "    <tr>\n",
       "      <th>6</th>\n",
       "      <td>more_3s_than_2s</td>\n",
       "      <td>28.184194</td>\n",
       "      <td>1.484461e-07</td>\n",
       "      <td>True</td>\n",
       "    </tr>\n",
       "    <tr>\n",
       "      <th>7</th>\n",
       "      <td>more_ast_than_tov</td>\n",
       "      <td>11.947589</td>\n",
       "      <td>5.803844e-04</td>\n",
       "      <td>True</td>\n",
       "    </tr>\n",
       "    <tr>\n",
       "      <th>8</th>\n",
       "      <td>pf_label</td>\n",
       "      <td>15.518935</td>\n",
       "      <td>8.990416e-05</td>\n",
       "      <td>True</td>\n",
       "    </tr>\n",
       "    <tr>\n",
       "      <th>9</th>\n",
       "      <td>blk_stl_diff_label</td>\n",
       "      <td>12.458172</td>\n",
       "      <td>4.435211e-04</td>\n",
       "      <td>True</td>\n",
       "    </tr>\n",
       "    <tr>\n",
       "      <th>10</th>\n",
       "      <td>pts_label</td>\n",
       "      <td>34.302074</td>\n",
       "      <td>7.271492e-09</td>\n",
       "      <td>True</td>\n",
       "    </tr>\n",
       "    <tr>\n",
       "      <th>11</th>\n",
       "      <td>game_res_wl</td>\n",
       "      <td>713.648110</td>\n",
       "      <td>8.351023e-109</td>\n",
       "      <td>True</td>\n",
       "    </tr>\n",
       "    <tr>\n",
       "      <th>12</th>\n",
       "      <td>gs_label_thirds</td>\n",
       "      <td>0.301792</td>\n",
       "      <td>7.395883e-01</td>\n",
       "      <td>False</td>\n",
       "    </tr>\n",
       "    <tr>\n",
       "      <th>13</th>\n",
       "      <td>3pct_label</td>\n",
       "      <td>30.800739</td>\n",
       "      <td>4.065272e-08</td>\n",
       "      <td>True</td>\n",
       "    </tr>\n",
       "    <tr>\n",
       "      <th>14</th>\n",
       "      <td>fg_pct_label</td>\n",
       "      <td>60.779327</td>\n",
       "      <td>2.329058e-14</td>\n",
       "      <td>True</td>\n",
       "    </tr>\n",
       "    <tr>\n",
       "      <th>15</th>\n",
       "      <td>game_location</td>\n",
       "      <td>23.668338</td>\n",
       "      <td>1.416079e-06</td>\n",
       "      <td>True</td>\n",
       "    </tr>\n",
       "    <tr>\n",
       "      <th>16</th>\n",
       "      <td>ft_pct_label</td>\n",
       "      <td>6.955586</td>\n",
       "      <td>8.542066e-03</td>\n",
       "      <td>True</td>\n",
       "    </tr>\n",
       "  </tbody>\n",
       "</table>\n",
       "</div>"
      ],
      "text/plain": [
       "               Feature           F              P  Rejected?\n",
       "0     off_rating_label  105.720398   3.486034e-23       True\n",
       "1       game_res_label  707.783428  3.574116e-108       True\n",
       "2     efficiency_label  109.859629   5.712370e-24       True\n",
       "3       tot_time_label   10.736022   1.102766e-03       True\n",
       "4            orb_label    0.168578   6.815053e-01      False\n",
       "5            drb_label   15.802213   7.765439e-05       True\n",
       "6      more_3s_than_2s   28.184194   1.484461e-07       True\n",
       "7    more_ast_than_tov   11.947589   5.803844e-04       True\n",
       "8             pf_label   15.518935   8.990416e-05       True\n",
       "9   blk_stl_diff_label   12.458172   4.435211e-04       True\n",
       "10           pts_label   34.302074   7.271492e-09       True\n",
       "11         game_res_wl  713.648110  8.351023e-109       True\n",
       "12     gs_label_thirds    0.301792   7.395883e-01      False\n",
       "13          3pct_label   30.800739   4.065272e-08       True\n",
       "14        fg_pct_label   60.779327   2.329058e-14       True\n",
       "15       game_location   23.668338   1.416079e-06       True\n",
       "16        ft_pct_label    6.955586   8.542066e-03       True"
      ]
     },
     "execution_count": 829,
     "metadata": {},
     "output_type": "execute_result"
    }
   ],
   "source": [
    "# Categoricals\n",
    "\n",
    "data = []\n",
    "cols = ['Feature', 'F', 'P', 'Rejected?']\n",
    "statistically_sign_cols = []\n",
    "\n",
    "def anova_helper(df, cat_col, num_col='plus_minus'):\n",
    "    uniques = df[cat_col].unique()\n",
    "    data = []\n",
    "    for col in uniques:\n",
    "        cur_df = (df[cat_col] == col)\n",
    "        cur_df = df[cur_df][num_col]\n",
    "        data.append(cur_df.tolist())\n",
    "        \n",
    "    f, p = stats.f_oneway(*data)\n",
    "    return f, p\n",
    "\n",
    "ALPHA = 0.05\n",
    "\n",
    "for feature in cats:\n",
    "    f, p = anova_helper(df, feature)\n",
    "    row = [feature, f, p, p < ALPHA]\n",
    "    \n",
    "    if p < ALPHA:\n",
    "        statistically_sign_cols.append(feature)\n",
    "        \n",
    "    data.append(row)\n",
    "\n",
    "cats_df = pd.DataFrame(data=data, columns=cols)\n",
    "cats_df"
   ]
  },
  {
   "cell_type": "code",
   "execution_count": 830,
   "metadata": {},
   "outputs": [
    {
     "data": {
      "text/plain": [
       "['off_rating_label',\n",
       " 'game_res_label',\n",
       " 'efficiency_label',\n",
       " 'tot_time_label',\n",
       " 'drb_label',\n",
       " 'more_3s_than_2s',\n",
       " 'more_ast_than_tov',\n",
       " 'pf_label',\n",
       " 'blk_stl_diff_label',\n",
       " 'pts_label',\n",
       " 'game_res_wl',\n",
       " '3pct_label',\n",
       " 'fg_pct_label',\n",
       " 'game_location',\n",
       " 'ft_pct_label']"
      ]
     },
     "execution_count": 830,
     "metadata": {},
     "output_type": "execute_result"
    }
   ],
   "source": [
    "statistically_sign_cols"
   ]
  },
  {
   "cell_type": "code",
   "execution_count": 831,
   "metadata": {},
   "outputs": [],
   "source": [
    "for col in statistically_sign_cols:\n",
    "    df_X[col] = df[col]"
   ]
  },
  {
   "cell_type": "code",
   "execution_count": 832,
   "metadata": {},
   "outputs": [
    {
     "data": {
      "text/html": [
       "<div>\n",
       "<style scoped>\n",
       "    .dataframe tbody tr th:only-of-type {\n",
       "        vertical-align: middle;\n",
       "    }\n",
       "\n",
       "    .dataframe tbody tr th {\n",
       "        vertical-align: top;\n",
       "    }\n",
       "\n",
       "    .dataframe thead th {\n",
       "        text-align: right;\n",
       "    }\n",
       "</style>\n",
       "<table border=\"1\" class=\"dataframe\">\n",
       "  <thead>\n",
       "    <tr style=\"text-align: right;\">\n",
       "      <th></th>\n",
       "      <th>game_res_int</th>\n",
       "      <th>efficiency</th>\n",
       "      <th>efg</th>\n",
       "      <th>true_shooting%</th>\n",
       "      <th>ppp</th>\n",
       "      <th>gmsc</th>\n",
       "      <th>per</th>\n",
       "      <th>off_rating</th>\n",
       "      <th>pts_per_min</th>\n",
       "      <th>net_pos_responsible_for</th>\n",
       "      <th>...</th>\n",
       "      <th>more_3s_than_2s</th>\n",
       "      <th>more_ast_than_tov</th>\n",
       "      <th>pf_label</th>\n",
       "      <th>blk_stl_diff_label</th>\n",
       "      <th>pts_label</th>\n",
       "      <th>game_res_wl</th>\n",
       "      <th>3pct_label</th>\n",
       "      <th>fg_pct_label</th>\n",
       "      <th>game_location</th>\n",
       "      <th>ft_pct_label</th>\n",
       "    </tr>\n",
       "  </thead>\n",
       "  <tbody>\n",
       "    <tr>\n",
       "      <th>0</th>\n",
       "      <td>-0.436028</td>\n",
       "      <td>-0.386181</td>\n",
       "      <td>0.073803</td>\n",
       "      <td>-0.177265</td>\n",
       "      <td>-0.168749</td>\n",
       "      <td>-0.345792</td>\n",
       "      <td>-0.326602</td>\n",
       "      <td>-0.030210</td>\n",
       "      <td>-1.085387</td>\n",
       "      <td>0.477085</td>\n",
       "      <td>...</td>\n",
       "      <td>2s</td>\n",
       "      <td>ass</td>\n",
       "      <td>no</td>\n",
       "      <td>stl</td>\n",
       "      <td>below</td>\n",
       "      <td>L</td>\n",
       "      <td>below</td>\n",
       "      <td>above</td>\n",
       "      <td>home</td>\n",
       "      <td>below</td>\n",
       "    </tr>\n",
       "    <tr>\n",
       "      <th>1</th>\n",
       "      <td>-1.864380</td>\n",
       "      <td>-1.134976</td>\n",
       "      <td>0.564942</td>\n",
       "      <td>0.335971</td>\n",
       "      <td>-0.168749</td>\n",
       "      <td>-1.260652</td>\n",
       "      <td>-1.276984</td>\n",
       "      <td>-0.290466</td>\n",
       "      <td>-1.408018</td>\n",
       "      <td>-1.289449</td>\n",
       "      <td>...</td>\n",
       "      <td>2s</td>\n",
       "      <td>ass</td>\n",
       "      <td>yes</td>\n",
       "      <td>stl</td>\n",
       "      <td>below</td>\n",
       "      <td>L</td>\n",
       "      <td>above</td>\n",
       "      <td>above</td>\n",
       "      <td>away</td>\n",
       "      <td>below</td>\n",
       "    </tr>\n",
       "    <tr>\n",
       "      <th>2</th>\n",
       "      <td>0.176124</td>\n",
       "      <td>-0.479780</td>\n",
       "      <td>0.073803</td>\n",
       "      <td>-0.177265</td>\n",
       "      <td>-0.168749</td>\n",
       "      <td>-0.814113</td>\n",
       "      <td>-0.473344</td>\n",
       "      <td>-0.276244</td>\n",
       "      <td>-1.637705</td>\n",
       "      <td>-0.111760</td>\n",
       "      <td>...</td>\n",
       "      <td>2s</td>\n",
       "      <td>ass</td>\n",
       "      <td>yes</td>\n",
       "      <td>stl</td>\n",
       "      <td>below</td>\n",
       "      <td>W</td>\n",
       "      <td>above</td>\n",
       "      <td>above</td>\n",
       "      <td>home</td>\n",
       "      <td>below</td>\n",
       "    </tr>\n",
       "    <tr>\n",
       "      <th>3</th>\n",
       "      <td>-2.272481</td>\n",
       "      <td>-1.883770</td>\n",
       "      <td>-2.185433</td>\n",
       "      <td>-1.492245</td>\n",
       "      <td>-1.041283</td>\n",
       "      <td>-1.870560</td>\n",
       "      <td>-1.718969</td>\n",
       "      <td>-1.100140</td>\n",
       "      <td>-1.689854</td>\n",
       "      <td>-1.878293</td>\n",
       "      <td>...</td>\n",
       "      <td>2s</td>\n",
       "      <td>ass</td>\n",
       "      <td>yes</td>\n",
       "      <td>blk</td>\n",
       "      <td>below</td>\n",
       "      <td>L</td>\n",
       "      <td>below</td>\n",
       "      <td>below</td>\n",
       "      <td>home</td>\n",
       "      <td>below</td>\n",
       "    </tr>\n",
       "    <tr>\n",
       "      <th>4</th>\n",
       "      <td>-1.252229</td>\n",
       "      <td>-1.509373</td>\n",
       "      <td>-0.048981</td>\n",
       "      <td>-0.648888</td>\n",
       "      <td>-1.347024</td>\n",
       "      <td>-1.663627</td>\n",
       "      <td>-1.583553</td>\n",
       "      <td>-1.268553</td>\n",
       "      <td>-1.479707</td>\n",
       "      <td>-1.682012</td>\n",
       "      <td>...</td>\n",
       "      <td>2s</td>\n",
       "      <td>ass</td>\n",
       "      <td>yes</td>\n",
       "      <td>blk</td>\n",
       "      <td>below</td>\n",
       "      <td>L</td>\n",
       "      <td>above</td>\n",
       "      <td>above</td>\n",
       "      <td>away</td>\n",
       "      <td>below</td>\n",
       "    </tr>\n",
       "  </tbody>\n",
       "</table>\n",
       "<p>5 rows × 37 columns</p>\n",
       "</div>"
      ],
      "text/plain": [
       "   game_res_int  efficiency       efg  true_shooting%       ppp      gmsc  \\\n",
       "0     -0.436028   -0.386181  0.073803       -0.177265 -0.168749 -0.345792   \n",
       "1     -1.864380   -1.134976  0.564942        0.335971 -0.168749 -1.260652   \n",
       "2      0.176124   -0.479780  0.073803       -0.177265 -0.168749 -0.814113   \n",
       "3     -2.272481   -1.883770 -2.185433       -1.492245 -1.041283 -1.870560   \n",
       "4     -1.252229   -1.509373 -0.048981       -0.648888 -1.347024 -1.663627   \n",
       "\n",
       "        per  off_rating  pts_per_min  net_pos_responsible_for  ...  \\\n",
       "0 -0.326602   -0.030210    -1.085387                 0.477085  ...   \n",
       "1 -1.276984   -0.290466    -1.408018                -1.289449  ...   \n",
       "2 -0.473344   -0.276244    -1.637705                -0.111760  ...   \n",
       "3 -1.718969   -1.100140    -1.689854                -1.878293  ...   \n",
       "4 -1.583553   -1.268553    -1.479707                -1.682012  ...   \n",
       "\n",
       "   more_3s_than_2s  more_ast_than_tov  pf_label  blk_stl_diff_label  \\\n",
       "0               2s                ass        no                 stl   \n",
       "1               2s                ass       yes                 stl   \n",
       "2               2s                ass       yes                 stl   \n",
       "3               2s                ass       yes                 blk   \n",
       "4               2s                ass       yes                 blk   \n",
       "\n",
       "   pts_label  game_res_wl  3pct_label  fg_pct_label  game_location  \\\n",
       "0      below            L       below         above           home   \n",
       "1      below            L       above         above           away   \n",
       "2      below            W       above         above           home   \n",
       "3      below            L       below         below           home   \n",
       "4      below            L       above         above           away   \n",
       "\n",
       "   ft_pct_label  \n",
       "0         below  \n",
       "1         below  \n",
       "2         below  \n",
       "3         below  \n",
       "4         below  \n",
       "\n",
       "[5 rows x 37 columns]"
      ]
     },
     "execution_count": 832,
     "metadata": {},
     "output_type": "execute_result"
    }
   ],
   "source": [
    "df_X.head()"
   ]
  },
  {
   "cell_type": "code",
   "execution_count": 833,
   "metadata": {},
   "outputs": [],
   "source": [
    "for cat in statistically_sign_cols:\n",
    "    binarizer = LabelBinarizer()\n",
    "    data = binarizer.fit_transform(df_X[cat].values)  \n",
    "    df_X[cat] = data"
   ]
  },
  {
   "cell_type": "code",
   "execution_count": 836,
   "metadata": {},
   "outputs": [
    {
     "data": {
      "text/html": [
       "<div>\n",
       "<style scoped>\n",
       "    .dataframe tbody tr th:only-of-type {\n",
       "        vertical-align: middle;\n",
       "    }\n",
       "\n",
       "    .dataframe tbody tr th {\n",
       "        vertical-align: top;\n",
       "    }\n",
       "\n",
       "    .dataframe thead th {\n",
       "        text-align: right;\n",
       "    }\n",
       "</style>\n",
       "<table border=\"1\" class=\"dataframe\">\n",
       "  <thead>\n",
       "    <tr style=\"text-align: right;\">\n",
       "      <th></th>\n",
       "      <th>game_res_int</th>\n",
       "      <th>efficiency</th>\n",
       "      <th>efg</th>\n",
       "      <th>true_shooting%</th>\n",
       "      <th>ppp</th>\n",
       "      <th>gmsc</th>\n",
       "      <th>per</th>\n",
       "      <th>off_rating</th>\n",
       "      <th>pts_per_min</th>\n",
       "      <th>net_pos_responsible_for</th>\n",
       "      <th>...</th>\n",
       "      <th>more_3s_than_2s</th>\n",
       "      <th>more_ast_than_tov</th>\n",
       "      <th>pf_label</th>\n",
       "      <th>blk_stl_diff_label</th>\n",
       "      <th>pts_label</th>\n",
       "      <th>game_res_wl</th>\n",
       "      <th>3pct_label</th>\n",
       "      <th>fg_pct_label</th>\n",
       "      <th>game_location</th>\n",
       "      <th>ft_pct_label</th>\n",
       "    </tr>\n",
       "  </thead>\n",
       "  <tbody>\n",
       "    <tr>\n",
       "      <th>0</th>\n",
       "      <td>-0.436028</td>\n",
       "      <td>-0.386181</td>\n",
       "      <td>0.073803</td>\n",
       "      <td>-0.177265</td>\n",
       "      <td>-0.168749</td>\n",
       "      <td>-0.345792</td>\n",
       "      <td>-0.326602</td>\n",
       "      <td>-0.030210</td>\n",
       "      <td>-1.085387</td>\n",
       "      <td>0.477085</td>\n",
       "      <td>...</td>\n",
       "      <td>0</td>\n",
       "      <td>0</td>\n",
       "      <td>0</td>\n",
       "      <td>1</td>\n",
       "      <td>1</td>\n",
       "      <td>0</td>\n",
       "      <td>1</td>\n",
       "      <td>0</td>\n",
       "      <td>1</td>\n",
       "      <td>1</td>\n",
       "    </tr>\n",
       "    <tr>\n",
       "      <th>1</th>\n",
       "      <td>-1.864380</td>\n",
       "      <td>-1.134976</td>\n",
       "      <td>0.564942</td>\n",
       "      <td>0.335971</td>\n",
       "      <td>-0.168749</td>\n",
       "      <td>-1.260652</td>\n",
       "      <td>-1.276984</td>\n",
       "      <td>-0.290466</td>\n",
       "      <td>-1.408018</td>\n",
       "      <td>-1.289449</td>\n",
       "      <td>...</td>\n",
       "      <td>0</td>\n",
       "      <td>0</td>\n",
       "      <td>1</td>\n",
       "      <td>1</td>\n",
       "      <td>1</td>\n",
       "      <td>0</td>\n",
       "      <td>0</td>\n",
       "      <td>0</td>\n",
       "      <td>0</td>\n",
       "      <td>1</td>\n",
       "    </tr>\n",
       "    <tr>\n",
       "      <th>2</th>\n",
       "      <td>0.176124</td>\n",
       "      <td>-0.479780</td>\n",
       "      <td>0.073803</td>\n",
       "      <td>-0.177265</td>\n",
       "      <td>-0.168749</td>\n",
       "      <td>-0.814113</td>\n",
       "      <td>-0.473344</td>\n",
       "      <td>-0.276244</td>\n",
       "      <td>-1.637705</td>\n",
       "      <td>-0.111760</td>\n",
       "      <td>...</td>\n",
       "      <td>0</td>\n",
       "      <td>0</td>\n",
       "      <td>1</td>\n",
       "      <td>1</td>\n",
       "      <td>1</td>\n",
       "      <td>1</td>\n",
       "      <td>0</td>\n",
       "      <td>0</td>\n",
       "      <td>1</td>\n",
       "      <td>1</td>\n",
       "    </tr>\n",
       "    <tr>\n",
       "      <th>3</th>\n",
       "      <td>-2.272481</td>\n",
       "      <td>-1.883770</td>\n",
       "      <td>-2.185433</td>\n",
       "      <td>-1.492245</td>\n",
       "      <td>-1.041283</td>\n",
       "      <td>-1.870560</td>\n",
       "      <td>-1.718969</td>\n",
       "      <td>-1.100140</td>\n",
       "      <td>-1.689854</td>\n",
       "      <td>-1.878293</td>\n",
       "      <td>...</td>\n",
       "      <td>0</td>\n",
       "      <td>0</td>\n",
       "      <td>1</td>\n",
       "      <td>0</td>\n",
       "      <td>1</td>\n",
       "      <td>0</td>\n",
       "      <td>1</td>\n",
       "      <td>1</td>\n",
       "      <td>1</td>\n",
       "      <td>1</td>\n",
       "    </tr>\n",
       "    <tr>\n",
       "      <th>4</th>\n",
       "      <td>-1.252229</td>\n",
       "      <td>-1.509373</td>\n",
       "      <td>-0.048981</td>\n",
       "      <td>-0.648888</td>\n",
       "      <td>-1.347024</td>\n",
       "      <td>-1.663627</td>\n",
       "      <td>-1.583553</td>\n",
       "      <td>-1.268553</td>\n",
       "      <td>-1.479707</td>\n",
       "      <td>-1.682012</td>\n",
       "      <td>...</td>\n",
       "      <td>0</td>\n",
       "      <td>0</td>\n",
       "      <td>1</td>\n",
       "      <td>0</td>\n",
       "      <td>1</td>\n",
       "      <td>0</td>\n",
       "      <td>0</td>\n",
       "      <td>0</td>\n",
       "      <td>0</td>\n",
       "      <td>1</td>\n",
       "    </tr>\n",
       "  </tbody>\n",
       "</table>\n",
       "<p>5 rows × 37 columns</p>\n",
       "</div>"
      ],
      "text/plain": [
       "   game_res_int  efficiency       efg  true_shooting%       ppp      gmsc  \\\n",
       "0     -0.436028   -0.386181  0.073803       -0.177265 -0.168749 -0.345792   \n",
       "1     -1.864380   -1.134976  0.564942        0.335971 -0.168749 -1.260652   \n",
       "2      0.176124   -0.479780  0.073803       -0.177265 -0.168749 -0.814113   \n",
       "3     -2.272481   -1.883770 -2.185433       -1.492245 -1.041283 -1.870560   \n",
       "4     -1.252229   -1.509373 -0.048981       -0.648888 -1.347024 -1.663627   \n",
       "\n",
       "        per  off_rating  pts_per_min  net_pos_responsible_for  ...  \\\n",
       "0 -0.326602   -0.030210    -1.085387                 0.477085  ...   \n",
       "1 -1.276984   -0.290466    -1.408018                -1.289449  ...   \n",
       "2 -0.473344   -0.276244    -1.637705                -0.111760  ...   \n",
       "3 -1.718969   -1.100140    -1.689854                -1.878293  ...   \n",
       "4 -1.583553   -1.268553    -1.479707                -1.682012  ...   \n",
       "\n",
       "   more_3s_than_2s  more_ast_than_tov  pf_label  blk_stl_diff_label  \\\n",
       "0                0                  0         0                   1   \n",
       "1                0                  0         1                   1   \n",
       "2                0                  0         1                   1   \n",
       "3                0                  0         1                   0   \n",
       "4                0                  0         1                   0   \n",
       "\n",
       "   pts_label  game_res_wl  3pct_label  fg_pct_label  game_location  \\\n",
       "0          1            0           1             0              1   \n",
       "1          1            0           0             0              0   \n",
       "2          1            1           0             0              1   \n",
       "3          1            0           1             1              1   \n",
       "4          1            0           0             0              0   \n",
       "\n",
       "   ft_pct_label  \n",
       "0             1  \n",
       "1             1  \n",
       "2             1  \n",
       "3             1  \n",
       "4             1  \n",
       "\n",
       "[5 rows x 37 columns]"
      ]
     },
     "execution_count": 836,
     "metadata": {},
     "output_type": "execute_result"
    }
   ],
   "source": [
    "df_X.head()"
   ]
  },
  {
   "cell_type": "markdown",
   "metadata": {},
   "source": [
    "# Testing"
   ]
  },
  {
   "cell_type": "markdown",
   "metadata": {},
   "source": [
    "## LinearRegression"
   ]
  },
  {
   "cell_type": "code",
   "execution_count": 510,
   "metadata": {},
   "outputs": [],
   "source": [
    "lin_reg = LinearRegression()"
   ]
  },
  {
   "cell_type": "code",
   "execution_count": 511,
   "metadata": {},
   "outputs": [],
   "source": [
    "X_train, y_train = df_X.iloc[:round(len(df_X) * 0.8)], df_y[:round(len(df_X) * 0.8)]"
   ]
  },
  {
   "cell_type": "code",
   "execution_count": 512,
   "metadata": {},
   "outputs": [
    {
     "data": {
      "text/plain": [
       "(   game_res_int  efficiency       efg  true_shooting%       ppp      gmsc  \\\n",
       " 0     -0.436028   -0.386181  0.073803       -0.177265 -0.168749 -0.345792   \n",
       " 1     -1.864380   -1.134976  0.564942        0.335971 -0.168749 -1.260652   \n",
       " 2      0.176124   -0.479780  0.073803       -0.177265 -0.168749 -0.814113   \n",
       " 3     -2.272481   -1.883770 -2.185433       -1.492245 -1.041283 -1.870560   \n",
       " 4     -1.252229   -1.509373 -0.048981       -0.648888 -1.347024 -1.663627   \n",
       " \n",
       "         per  pts_per_min  net_pos_responsible_for  gmsc_per_pt  ...  \\\n",
       " 0 -0.326602    -1.085387                 0.477085     1.475519  ...   \n",
       " 1 -1.276984    -1.408018                -1.289449    -0.767169  ...   \n",
       " 2 -0.473344    -1.637705                -0.111760     3.619798  ...   \n",
       " 3 -1.718969    -1.689854                -1.878293    -2.036126  ...   \n",
       " 4 -1.583553    -1.479707                -1.682012    -1.697738  ...   \n",
       " \n",
       "    more_3s_than_2s  more_ast_than_tov  pf_label  blk_stl_diff_label  \\\n",
       " 0                0                  0         0                   1   \n",
       " 1                0                  0         1                   1   \n",
       " 2                0                  0         1                   1   \n",
       " 3                0                  0         1                   0   \n",
       " 4                0                  0         1                   0   \n",
       " \n",
       "    pts_label  game_res_wl  3pct_label  fg_pct_label  game_location  \\\n",
       " 0          1            0           1             0              1   \n",
       " 1          1            0           0             0              0   \n",
       " 2          1            1           0             0              1   \n",
       " 3          1            0           1             1              1   \n",
       " 4          1            0           0             0              0   \n",
       " \n",
       "    ft_pct_label  \n",
       " 0             1  \n",
       " 1             1  \n",
       " 2             1  \n",
       " 3             1  \n",
       " 4             1  \n",
       " \n",
       " [5 rows x 35 columns], 0      7\n",
       " 1    -19\n",
       " 2     -4\n",
       " 3    -13\n",
       " 4     -5\n",
       " Name: plus_minus, dtype: object)"
      ]
     },
     "execution_count": 512,
     "metadata": {},
     "output_type": "execute_result"
    }
   ],
   "source": [
    "X_train.head(), y_train.head()"
   ]
  },
  {
   "cell_type": "code",
   "execution_count": 513,
   "metadata": {},
   "outputs": [],
   "source": [
    "def scores_info(scores):\n",
    "    print(scores.mean())\n",
    "    print(scores.std())\n",
    "    print(scores)"
   ]
  },
  {
   "cell_type": "code",
   "execution_count": 514,
   "metadata": {},
   "outputs": [
    {
     "name": "stdout",
     "output_type": "stream",
     "text": [
      "0.6592802194978826\n",
      "0.08161509888736072\n",
      "[0.68149158 0.74360816 0.68176606 0.68661323 0.50292207]\n"
     ]
    }
   ],
   "source": [
    "scores = cross_val_score(lin_reg, df_X, df_y, cv=5)\n",
    "scores_info(scores)"
   ]
  },
  {
   "cell_type": "markdown",
   "metadata": {},
   "source": [
    "## SVR"
   ]
  },
  {
   "cell_type": "code",
   "execution_count": 515,
   "metadata": {},
   "outputs": [],
   "source": [
    "svr = SVR()"
   ]
  },
  {
   "cell_type": "code",
   "execution_count": 516,
   "metadata": {},
   "outputs": [],
   "source": [
    "param_grid = [\n",
    "    {\n",
    "        'C': [0.1, 0.5, 1, 2.5, 5],\n",
    "        'kernel': ['poly', 'rbf', 'sigmoid', 'linear'],\n",
    "        'degree': [3, 6, 9],\n",
    "        'gamma': ['auto', 'scale'], \n",
    "        'epsilon': [0, 0.1, 0.5]\n",
    "    }\n",
    "]"
   ]
  },
  {
   "cell_type": "code",
   "execution_count": 517,
   "metadata": {},
   "outputs": [],
   "source": [
    "fe_gscv_svr = GridSearchCV(svr, param_grid, cv=5, scoring='neg_mean_squared_error', refit='neg_mean_squared_error')"
   ]
  },
  {
   "cell_type": "code",
   "execution_count": 518,
   "metadata": {},
   "outputs": [
    {
     "data": {
      "text/plain": [
       "GridSearchCV(cv=5, error_score='raise-deprecating',\n",
       "             estimator=SVR(C=1.0, cache_size=200, coef0=0.0, degree=3,\n",
       "                           epsilon=0.1, gamma='auto_deprecated', kernel='rbf',\n",
       "                           max_iter=-1, shrinking=True, tol=0.001,\n",
       "                           verbose=False),\n",
       "             iid='warn', n_jobs=None,\n",
       "             param_grid=[{'C': [0.1, 0.5, 1, 2.5, 5], 'degree': [3, 6, 9],\n",
       "                          'epsilon': [0, 0.1, 0.5], 'gamma': ['auto', 'scale'],\n",
       "                          'kernel': ['poly', 'rbf', 'sigmoid', 'linear']}],\n",
       "             pre_dispatch='2*n_jobs', refit='neg_mean_squared_error',\n",
       "             return_train_score=False, scoring='neg_mean_squared_error',\n",
       "             verbose=0)"
      ]
     },
     "execution_count": 518,
     "metadata": {},
     "output_type": "execute_result"
    }
   ],
   "source": [
    "fe_gscv_svr.fit(df_X, df_y)"
   ]
  },
  {
   "cell_type": "code",
   "execution_count": 519,
   "metadata": {},
   "outputs": [
    {
     "data": {
      "text/plain": [
       "{'C': 0.5, 'degree': 3, 'epsilon': 0, 'gamma': 'auto', 'kernel': 'linear'}"
      ]
     },
     "execution_count": 519,
     "metadata": {},
     "output_type": "execute_result"
    }
   ],
   "source": [
    "fe_gscv_svr.best_params_"
   ]
  },
  {
   "cell_type": "code",
   "execution_count": 520,
   "metadata": {},
   "outputs": [
    {
     "data": {
      "text/plain": [
       "-50.37250790481674"
      ]
     },
     "execution_count": 520,
     "metadata": {},
     "output_type": "execute_result"
    }
   ],
   "source": [
    "fe_gscv_svr.best_score_"
   ]
  },
  {
   "cell_type": "markdown",
   "metadata": {},
   "source": [
    "### Random Forest Regressor"
   ]
  },
  {
   "cell_type": "code",
   "execution_count": 521,
   "metadata": {},
   "outputs": [],
   "source": [
    "rfr = RandomForestRegressor(random_state=42)"
   ]
  },
  {
   "cell_type": "code",
   "execution_count": 522,
   "metadata": {},
   "outputs": [],
   "source": [
    "param_grid = [\n",
    "    {\n",
    "        'n_estimators': [100, 300, 500, 750],\n",
    "        'max_features': ['sqrt', 'log2'], \n",
    "        'min_impurity_split': [0.0, 1e-7]\n",
    "    }\n",
    "]"
   ]
  },
  {
   "cell_type": "code",
   "execution_count": 523,
   "metadata": {},
   "outputs": [],
   "source": [
    "fe_gscv_rfr = GridSearchCV(rfr, param_grid, cv=5, scoring='neg_mean_squared_error', refit='neg_mean_squared_error')"
   ]
  },
  {
   "cell_type": "code",
   "execution_count": 524,
   "metadata": {},
   "outputs": [
    {
     "data": {
      "text/plain": [
       "GridSearchCV(cv=5, error_score='raise-deprecating',\n",
       "             estimator=RandomForestRegressor(bootstrap=True, criterion='mse',\n",
       "                                             max_depth=None,\n",
       "                                             max_features='auto',\n",
       "                                             max_leaf_nodes=None,\n",
       "                                             min_impurity_decrease=0.0,\n",
       "                                             min_impurity_split=None,\n",
       "                                             min_samples_leaf=1,\n",
       "                                             min_samples_split=2,\n",
       "                                             min_weight_fraction_leaf=0.0,\n",
       "                                             n_estimators='warn', n_jobs=None,\n",
       "                                             oob_score=False, random_state=42,\n",
       "                                             verbose=0, warm_start=False),\n",
       "             iid='warn', n_jobs=None,\n",
       "             param_grid=[{'max_features': ['sqrt', 'log2'],\n",
       "                          'min_impurity_split': [0.0, 1e-07],\n",
       "                          'n_estimators': [100, 300, 500, 750]}],\n",
       "             pre_dispatch='2*n_jobs', refit='neg_mean_squared_error',\n",
       "             return_train_score=False, scoring='neg_mean_squared_error',\n",
       "             verbose=0)"
      ]
     },
     "execution_count": 524,
     "metadata": {},
     "output_type": "execute_result"
    }
   ],
   "source": [
    "fe_gscv_rfr.fit(df_X, df_y)"
   ]
  },
  {
   "cell_type": "code",
   "execution_count": 525,
   "metadata": {},
   "outputs": [
    {
     "data": {
      "text/plain": [
       "{'max_features': 'sqrt', 'min_impurity_split': 0.0, 'n_estimators': 500}"
      ]
     },
     "execution_count": 525,
     "metadata": {},
     "output_type": "execute_result"
    }
   ],
   "source": [
    "fe_gscv_rfr.best_params_"
   ]
  },
  {
   "cell_type": "code",
   "execution_count": 526,
   "metadata": {
    "scrolled": true
   },
   "outputs": [
    {
     "data": {
      "text/plain": [
       "-54.67062264949929"
      ]
     },
     "execution_count": 526,
     "metadata": {},
     "output_type": "execute_result"
    }
   ],
   "source": [
    "fe_gscv_rfr.best_score_"
   ]
  },
  {
   "cell_type": "markdown",
   "metadata": {},
   "source": [
    "### SGD"
   ]
  },
  {
   "cell_type": "code",
   "execution_count": 527,
   "metadata": {},
   "outputs": [],
   "source": [
    "sgd = SGDRegressor(random_state=42)"
   ]
  },
  {
   "cell_type": "code",
   "execution_count": 528,
   "metadata": {},
   "outputs": [],
   "source": [
    "param_grid = [\n",
    "    {\n",
    "        'penalty': ['l1', 'l2'],\n",
    "        'epsilon': [0.0, 0.1, 0.5], \n",
    "        'learning_rate': ['constant', 'optimal'],\n",
    "        'eta0': [0.001, 0.01, 0.025, 0.05]\n",
    "    }\n",
    "]"
   ]
  },
  {
   "cell_type": "code",
   "execution_count": 529,
   "metadata": {},
   "outputs": [],
   "source": [
    "fe_gscv_sgd = GridSearchCV(sgd, param_grid, cv=5, scoring='neg_mean_squared_error', refit='neg_mean_squared_error')"
   ]
  },
  {
   "cell_type": "code",
   "execution_count": 530,
   "metadata": {},
   "outputs": [
    {
     "data": {
      "text/plain": [
       "GridSearchCV(cv=5, error_score='raise-deprecating',\n",
       "             estimator=SGDRegressor(alpha=0.0001, average=False,\n",
       "                                    early_stopping=False, epsilon=0.1,\n",
       "                                    eta0=0.01, fit_intercept=True,\n",
       "                                    l1_ratio=0.15, learning_rate='invscaling',\n",
       "                                    loss='squared_loss', max_iter=1000,\n",
       "                                    n_iter_no_change=5, penalty='l2',\n",
       "                                    power_t=0.25, random_state=42, shuffle=True,\n",
       "                                    tol=0.001, validation_fraction=0.1,\n",
       "                                    verbose=0, warm_start=False),\n",
       "             iid='warn', n_jobs=None,\n",
       "             param_grid=[{'epsilon': [0.0, 0.1, 0.5],\n",
       "                          'eta0': [0.001, 0.01, 0.025, 0.05],\n",
       "                          'learning_rate': ['constant', 'optimal'],\n",
       "                          'penalty': ['l1', 'l2']}],\n",
       "             pre_dispatch='2*n_jobs', refit='neg_mean_squared_error',\n",
       "             return_train_score=False, scoring='neg_mean_squared_error',\n",
       "             verbose=0)"
      ]
     },
     "execution_count": 530,
     "metadata": {},
     "output_type": "execute_result"
    }
   ],
   "source": [
    "fe_gscv_sgd.fit(df_X, df_y)"
   ]
  },
  {
   "cell_type": "code",
   "execution_count": 531,
   "metadata": {},
   "outputs": [
    {
     "data": {
      "text/plain": [
       "{'epsilon': 0.0, 'eta0': 0.001, 'learning_rate': 'constant', 'penalty': 'l1'}"
      ]
     },
     "execution_count": 531,
     "metadata": {},
     "output_type": "execute_result"
    }
   ],
   "source": [
    "fe_gscv_sgd.best_params_"
   ]
  },
  {
   "cell_type": "code",
   "execution_count": 532,
   "metadata": {},
   "outputs": [
    {
     "data": {
      "text/plain": [
       "-49.331189168735044"
      ]
     },
     "execution_count": 532,
     "metadata": {},
     "output_type": "execute_result"
    }
   ],
   "source": [
    "fe_gscv_sgd.best_score_"
   ]
  },
  {
   "cell_type": "markdown",
   "metadata": {},
   "source": [
    "### Lasso Regression"
   ]
  },
  {
   "cell_type": "code",
   "execution_count": 533,
   "metadata": {},
   "outputs": [],
   "source": [
    "lasso = Lasso(random_state=42)"
   ]
  },
  {
   "cell_type": "code",
   "execution_count": 534,
   "metadata": {},
   "outputs": [],
   "source": [
    "scores = cross_val_score(lasso, df_X, df_y, cv=5)"
   ]
  },
  {
   "cell_type": "code",
   "execution_count": 535,
   "metadata": {},
   "outputs": [],
   "source": [
    "preds = cross_val_predict(lasso, df_X, df_y, cv=5)\n",
    "# preds"
   ]
  },
  {
   "cell_type": "code",
   "execution_count": 536,
   "metadata": {},
   "outputs": [
    {
     "data": {
      "text/plain": [
       "51.02350813908754"
      ]
     },
     "execution_count": 536,
     "metadata": {},
     "output_type": "execute_result"
    }
   ],
   "source": [
    "mean_squared_error(preds, df_y)"
   ]
  },
  {
   "cell_type": "code",
   "execution_count": 537,
   "metadata": {},
   "outputs": [
    {
     "name": "stdout",
     "output_type": "stream",
     "text": [
      "0.6903771849119072\n",
      "0.03442289689464448\n",
      "[0.67118176 0.75901648 0.66947875 0.67551399 0.67669494]\n"
     ]
    }
   ],
   "source": [
    "scores_info(scores)"
   ]
  },
  {
   "cell_type": "markdown",
   "metadata": {},
   "source": [
    "### Ridge Regression"
   ]
  },
  {
   "cell_type": "code",
   "execution_count": 538,
   "metadata": {},
   "outputs": [
    {
     "name": "stdout",
     "output_type": "stream",
     "text": [
      "50.3233166235862\n",
      "0.6953133665009622\n",
      "0.029944743370571396\n",
      "[0.68515613 0.7541615  0.68090714 0.68597832 0.67036374]\n"
     ]
    }
   ],
   "source": [
    "ridge = Ridge(random_state=42)\n",
    "\n",
    "scores = cross_val_score(ridge, df_X, df_y, cv=5)\n",
    "preds = cross_val_predict(ridge, df_X, df_y, cv=5)\n",
    "\n",
    "print(mean_squared_error(preds, df_y))\n",
    "scores_info(scores)"
   ]
  },
  {
   "cell_type": "markdown",
   "metadata": {},
   "source": [
    "### ElasticNet Regression"
   ]
  },
  {
   "cell_type": "code",
   "execution_count": 539,
   "metadata": {},
   "outputs": [
    {
     "name": "stdout",
     "output_type": "stream",
     "text": [
      "60.090058321990874\n",
      "0.6354700241908702\n",
      "0.03468403272812101\n",
      "[0.58773808 0.69596716 0.6290334  0.62954776 0.63506372]\n"
     ]
    }
   ],
   "source": [
    "elasticnet = ElasticNet(random_state=42)\n",
    "\n",
    "scores = cross_val_score(elasticnet, df_X, df_y, cv=5)\n",
    "preds = cross_val_predict(elasticnet, df_X, df_y, cv=5)\n",
    "\n",
    "print(mean_squared_error(preds, df_y))\n",
    "scores_info(scores)"
   ]
  },
  {
   "cell_type": "markdown",
   "metadata": {},
   "source": [
    "# Storing the Best Model (SGDRegressor)"
   ]
  },
  {
   "cell_type": "code",
   "execution_count": 540,
   "metadata": {},
   "outputs": [],
   "source": [
    "# pickle.dump(fe_gscv_sgd.best_estimator_, open('best_model.pickle', 'wb'))"
   ]
  },
  {
   "cell_type": "code",
   "execution_count": 541,
   "metadata": {},
   "outputs": [],
   "source": [
    "# model = pickle.load(open('best_model.pickle', 'rb'))"
   ]
  },
  {
   "cell_type": "code",
   "execution_count": null,
   "metadata": {},
   "outputs": [],
   "source": []
  },
  {
   "cell_type": "code",
   "execution_count": null,
   "metadata": {},
   "outputs": [],
   "source": []
  },
  {
   "cell_type": "code",
   "execution_count": null,
   "metadata": {},
   "outputs": [],
   "source": []
  },
  {
   "cell_type": "code",
   "execution_count": null,
   "metadata": {},
   "outputs": [],
   "source": []
  }
 ],
 "metadata": {
  "kernelspec": {
   "display_name": "Python 3.7.3 64-bit",
   "language": "python",
   "name": "python37364bitfa9893814aec4ef7b4684d6771155a64"
  },
  "language_info": {
   "codemirror_mode": {
    "name": "ipython",
    "version": 3
   },
   "file_extension": ".py",
   "mimetype": "text/x-python",
   "name": "python",
   "nbconvert_exporter": "python",
   "pygments_lexer": "ipython3",
   "version": "3.7.3"
  }
 },
 "nbformat": 4,
 "nbformat_minor": 2
}
